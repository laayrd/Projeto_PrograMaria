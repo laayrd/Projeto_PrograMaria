{
  "nbformat": 4,
  "nbformat_minor": 0,
  "metadata": {
    "colab": {
      "provenance": [],
      "authorship_tag": "ABX9TyOExJI6+Ql6OUN9bR8OtDVV",
      "include_colab_link": true
    },
    "kernelspec": {
      "name": "python3",
      "display_name": "Python 3"
    },
    "language_info": {
      "name": "python"
    }
  },
  "cells": [
    {
      "cell_type": "markdown",
      "metadata": {
        "id": "view-in-github",
        "colab_type": "text"
      },
      "source": [
        "<a href=\"https://colab.research.google.com/github/laayrd/Projeto_PrograMaria/blob/main/Analise_Dados.ipynb\" target=\"_parent\"><img src=\"https://colab.research.google.com/assets/colab-badge.svg\" alt=\"Open In Colab\"/></a>"
      ]
    },
    {
      "cell_type": "markdown",
      "source": [
        "#Importações e Configuração Inicial"
      ],
      "metadata": {
        "id": "kBW_S5NGAQum"
      }
    },
    {
      "cell_type": "code",
      "execution_count": 2,
      "metadata": {
        "id": "t6R4MPXbAEuB"
      },
      "outputs": [],
      "source": [
        "import pandas as pd\n",
        "import numpy as np\n",
        "import matplotlib.pyplot as plt\n",
        "from scipy import stats as st\n",
        "from scipy.stats import chi2_contingency\n",
        "import sqlite3\n",
        "import seaborn as sns\n",
        "import plotly.express as px"
      ]
    },
    {
      "cell_type": "code",
      "source": [
        "#Montando o Google Drive\n",
        "from google.colab import drive\n",
        "drive.mount('/content/drive')"
      ],
      "metadata": {
        "colab": {
          "base_uri": "https://localhost:8080/"
        },
        "id": "QYrEAHc4AliK",
        "outputId": "12e0bea1-d6c9-42cb-ce43-71ee97e701b2"
      },
      "execution_count": 3,
      "outputs": [
        {
          "output_type": "stream",
          "name": "stdout",
          "text": [
            "Mounted at /content/drive\n"
          ]
        }
      ]
    },
    {
      "cell_type": "markdown",
      "source": [
        "#Carregamento e Exploração dos Dados"
      ],
      "metadata": {
        "id": "sqYgyvhqBFyi"
      }
    },
    {
      "cell_type": "markdown",
      "source": [
        "###Data Frame Principal"
      ],
      "metadata": {
        "id": "LSjXU8sWWpdV"
      }
    },
    {
      "cell_type": "code",
      "source": [
        "#Carregando a planilha de dados\n",
        "df = pd.read_excel(\"/content/drive/MyDrive/Python_PrograMaria/planilha_modulo3.xlsx\")"
      ],
      "metadata": {
        "id": "UH8RAIlzA-dx"
      },
      "execution_count": 4,
      "outputs": []
    },
    {
      "cell_type": "code",
      "source": [
        "#Explorando os Dados\n",
        "\n",
        "#Primeiras linhas\n",
        "df.head()"
      ],
      "metadata": {
        "colab": {
          "base_uri": "https://localhost:8080/",
          "height": 724
        },
        "collapsed": true,
        "id": "siLkYXPtBPUV",
        "outputId": "6eb3b50a-97a2-4ea6-e2e0-176fab8a6e8e"
      },
      "execution_count": 5,
      "outputs": [
        {
          "output_type": "execute_result",
          "data": {
            "text/plain": [
              "   Unnamed: 0                                ID  IDADE FAIXA IDADE     GENERO  \\\n",
              "0           0  zzqzz3l9ily8nuo2m7wyzzqzz3w48o96   39.0       35-39  Masculino   \n",
              "1           1  zzls2oftfn9law393oezzls2ofhvfpzd   32.0       30-34  Masculino   \n",
              "2           2  zzdwqzfqqp1ypc7ps6m0hzzdwqz292yi   53.0       50-54  Masculino   \n",
              "3           3  zzbqh3uy7yk7k9qmkzzbqtb4s9faqspl   27.0       25-29  Masculino   \n",
              "4           4  zzaf1m95yan929rb94wzzaf1mekhvhpg   46.0       45-49   Feminino   \n",
              "\n",
              "  COR/RACA/ETNIA  PCD               EXPERIENCIA_PROFISSIONAL_PREJUDICADA  \\\n",
              "0          Parda  Não  Não acredito que minha experiência profissiona...   \n",
              "1          Parda  Não  Sim, acredito que a minha a experiência profis...   \n",
              "2         Branca  Não                                                NaN   \n",
              "3         Branca  Não                                                NaN   \n",
              "4         Branca  Não  Não acredito que minha experiência profissiona...   \n",
              "\n",
              "                          ASPECTOS_PREJUDICADOS  VIVE_NO_BRASIL  ...  \\\n",
              "0                                           NaN            True  ...   \n",
              "1  Aprovação em processos seletivos/entrevistas            True  ...   \n",
              "2                                           NaN            True  ...   \n",
              "3                                           NaN            True  ...   \n",
              "4                                           NaN            True  ...   \n",
              "\n",
              "                SETOR NUMERO DE FUNCIONARIOS GESTOR?       CARGO COMO GESTOR  \\\n",
              "0       Setor Público         Acima de 3.000     0.0                     NaN   \n",
              "1         Outra Opção         Acima de 3.000     1.0  Supervisor/Coordenador   \n",
              "2  Finanças ou Bancos         Acima de 3.000     0.0                     NaN   \n",
              "3    Setor Automotivo         Acima de 3.000     0.0                     NaN   \n",
              "4       Setor Público           de 101 a 500     0.0                     NaN   \n",
              "\n",
              "                                         CARGO ATUAL   NIVEL  \\\n",
              "0                DBA/Administrador de Banco de Dados  Júnior   \n",
              "1                                                NaN     NaN   \n",
              "2  Desenvolvedor/ Engenheiro de Software/ Analist...   Pleno   \n",
              "3                  Cientista de Dados/Data Scientist  Sênior   \n",
              "4  Desenvolvedor/ Engenheiro de Software/ Analist...   Pleno   \n",
              "\n",
              "                     FAIXA SALARIAL  \\\n",
              "0   de R$ 8.001/mês a R$ 12.000/mês   \n",
              "1    de R$ 4.001/mês a R$ 6.000/mês   \n",
              "2  de R$ 12.001/mês a R$ 16.000/mês   \n",
              "3  de R$ 12.001/mês a R$ 16.000/mês   \n",
              "4    de R$ 6.001/mês a R$ 8.000/mês   \n",
              "\n",
              "  QUANTO TEMPO DE EXPERIÊNCIA NA ÁREA DE DADOS VOCÊ TEM?  \\\n",
              "0                                      de 1 a 2 anos       \n",
              "1                                      de 3 a 4 anos       \n",
              "2                                      de 3 a 4 anos       \n",
              "3                                      de 4 a 6 anos       \n",
              "4             Não tenho experiência na área de dados       \n",
              "\n",
              "  QUANTO TEMPO DE EXPERIÊNCIA NA ÁREA DE TI/ENGENHARIA DE SOFTWARE VOCÊ TEVE ANTES DE COMEÇAR A TRABALHAR NA ÁREA DE DADOS?  \\\n",
              "0                                     de 7 a 10 anos                                                                          \n",
              "1                                     Menos de 1 ano                                                                          \n",
              "2                                    Mais de 10 anos                                                                          \n",
              "3  Não tive experiência na área de TI/Engenharia ...                                                                          \n",
              "4                                    Mais de 10 anos                                                                          \n",
              "\n",
              "   SALARIO  \n",
              "0  11194.0  \n",
              "1   4695.0  \n",
              "2  14202.0  \n",
              "3  15463.0  \n",
              "4   7733.0  \n",
              "\n",
              "[5 rows x 28 columns]"
            ],
            "text/html": [
              "\n",
              "  <div id=\"df-afe5c2f6-7d31-4388-9324-bcbdd309804b\" class=\"colab-df-container\">\n",
              "    <div>\n",
              "<style scoped>\n",
              "    .dataframe tbody tr th:only-of-type {\n",
              "        vertical-align: middle;\n",
              "    }\n",
              "\n",
              "    .dataframe tbody tr th {\n",
              "        vertical-align: top;\n",
              "    }\n",
              "\n",
              "    .dataframe thead th {\n",
              "        text-align: right;\n",
              "    }\n",
              "</style>\n",
              "<table border=\"1\" class=\"dataframe\">\n",
              "  <thead>\n",
              "    <tr style=\"text-align: right;\">\n",
              "      <th></th>\n",
              "      <th>Unnamed: 0</th>\n",
              "      <th>ID</th>\n",
              "      <th>IDADE</th>\n",
              "      <th>FAIXA IDADE</th>\n",
              "      <th>GENERO</th>\n",
              "      <th>COR/RACA/ETNIA</th>\n",
              "      <th>PCD</th>\n",
              "      <th>EXPERIENCIA_PROFISSIONAL_PREJUDICADA</th>\n",
              "      <th>ASPECTOS_PREJUDICADOS</th>\n",
              "      <th>VIVE_NO_BRASIL</th>\n",
              "      <th>...</th>\n",
              "      <th>SETOR</th>\n",
              "      <th>NUMERO DE FUNCIONARIOS</th>\n",
              "      <th>GESTOR?</th>\n",
              "      <th>CARGO COMO GESTOR</th>\n",
              "      <th>CARGO ATUAL</th>\n",
              "      <th>NIVEL</th>\n",
              "      <th>FAIXA SALARIAL</th>\n",
              "      <th>QUANTO TEMPO DE EXPERIÊNCIA NA ÁREA DE DADOS VOCÊ TEM?</th>\n",
              "      <th>QUANTO TEMPO DE EXPERIÊNCIA NA ÁREA DE TI/ENGENHARIA DE SOFTWARE VOCÊ TEVE ANTES DE COMEÇAR A TRABALHAR NA ÁREA DE DADOS?</th>\n",
              "      <th>SALARIO</th>\n",
              "    </tr>\n",
              "  </thead>\n",
              "  <tbody>\n",
              "    <tr>\n",
              "      <th>0</th>\n",
              "      <td>0</td>\n",
              "      <td>zzqzz3l9ily8nuo2m7wyzzqzz3w48o96</td>\n",
              "      <td>39.0</td>\n",
              "      <td>35-39</td>\n",
              "      <td>Masculino</td>\n",
              "      <td>Parda</td>\n",
              "      <td>Não</td>\n",
              "      <td>Não acredito que minha experiência profissiona...</td>\n",
              "      <td>NaN</td>\n",
              "      <td>True</td>\n",
              "      <td>...</td>\n",
              "      <td>Setor Público</td>\n",
              "      <td>Acima de 3.000</td>\n",
              "      <td>0.0</td>\n",
              "      <td>NaN</td>\n",
              "      <td>DBA/Administrador de Banco de Dados</td>\n",
              "      <td>Júnior</td>\n",
              "      <td>de R$ 8.001/mês a R$ 12.000/mês</td>\n",
              "      <td>de 1 a 2 anos</td>\n",
              "      <td>de 7 a 10 anos</td>\n",
              "      <td>11194.0</td>\n",
              "    </tr>\n",
              "    <tr>\n",
              "      <th>1</th>\n",
              "      <td>1</td>\n",
              "      <td>zzls2oftfn9law393oezzls2ofhvfpzd</td>\n",
              "      <td>32.0</td>\n",
              "      <td>30-34</td>\n",
              "      <td>Masculino</td>\n",
              "      <td>Parda</td>\n",
              "      <td>Não</td>\n",
              "      <td>Sim, acredito que a minha a experiência profis...</td>\n",
              "      <td>Aprovação em processos seletivos/entrevistas</td>\n",
              "      <td>True</td>\n",
              "      <td>...</td>\n",
              "      <td>Outra Opção</td>\n",
              "      <td>Acima de 3.000</td>\n",
              "      <td>1.0</td>\n",
              "      <td>Supervisor/Coordenador</td>\n",
              "      <td>NaN</td>\n",
              "      <td>NaN</td>\n",
              "      <td>de R$ 4.001/mês a R$ 6.000/mês</td>\n",
              "      <td>de 3 a 4 anos</td>\n",
              "      <td>Menos de 1 ano</td>\n",
              "      <td>4695.0</td>\n",
              "    </tr>\n",
              "    <tr>\n",
              "      <th>2</th>\n",
              "      <td>2</td>\n",
              "      <td>zzdwqzfqqp1ypc7ps6m0hzzdwqz292yi</td>\n",
              "      <td>53.0</td>\n",
              "      <td>50-54</td>\n",
              "      <td>Masculino</td>\n",
              "      <td>Branca</td>\n",
              "      <td>Não</td>\n",
              "      <td>NaN</td>\n",
              "      <td>NaN</td>\n",
              "      <td>True</td>\n",
              "      <td>...</td>\n",
              "      <td>Finanças ou Bancos</td>\n",
              "      <td>Acima de 3.000</td>\n",
              "      <td>0.0</td>\n",
              "      <td>NaN</td>\n",
              "      <td>Desenvolvedor/ Engenheiro de Software/ Analist...</td>\n",
              "      <td>Pleno</td>\n",
              "      <td>de R$ 12.001/mês a R$ 16.000/mês</td>\n",
              "      <td>de 3 a 4 anos</td>\n",
              "      <td>Mais de 10 anos</td>\n",
              "      <td>14202.0</td>\n",
              "    </tr>\n",
              "    <tr>\n",
              "      <th>3</th>\n",
              "      <td>3</td>\n",
              "      <td>zzbqh3uy7yk7k9qmkzzbqtb4s9faqspl</td>\n",
              "      <td>27.0</td>\n",
              "      <td>25-29</td>\n",
              "      <td>Masculino</td>\n",
              "      <td>Branca</td>\n",
              "      <td>Não</td>\n",
              "      <td>NaN</td>\n",
              "      <td>NaN</td>\n",
              "      <td>True</td>\n",
              "      <td>...</td>\n",
              "      <td>Setor Automotivo</td>\n",
              "      <td>Acima de 3.000</td>\n",
              "      <td>0.0</td>\n",
              "      <td>NaN</td>\n",
              "      <td>Cientista de Dados/Data Scientist</td>\n",
              "      <td>Sênior</td>\n",
              "      <td>de R$ 12.001/mês a R$ 16.000/mês</td>\n",
              "      <td>de 4 a 6 anos</td>\n",
              "      <td>Não tive experiência na área de TI/Engenharia ...</td>\n",
              "      <td>15463.0</td>\n",
              "    </tr>\n",
              "    <tr>\n",
              "      <th>4</th>\n",
              "      <td>4</td>\n",
              "      <td>zzaf1m95yan929rb94wzzaf1mekhvhpg</td>\n",
              "      <td>46.0</td>\n",
              "      <td>45-49</td>\n",
              "      <td>Feminino</td>\n",
              "      <td>Branca</td>\n",
              "      <td>Não</td>\n",
              "      <td>Não acredito que minha experiência profissiona...</td>\n",
              "      <td>NaN</td>\n",
              "      <td>True</td>\n",
              "      <td>...</td>\n",
              "      <td>Setor Público</td>\n",
              "      <td>de 101 a 500</td>\n",
              "      <td>0.0</td>\n",
              "      <td>NaN</td>\n",
              "      <td>Desenvolvedor/ Engenheiro de Software/ Analist...</td>\n",
              "      <td>Pleno</td>\n",
              "      <td>de R$ 6.001/mês a R$ 8.000/mês</td>\n",
              "      <td>Não tenho experiência na área de dados</td>\n",
              "      <td>Mais de 10 anos</td>\n",
              "      <td>7733.0</td>\n",
              "    </tr>\n",
              "  </tbody>\n",
              "</table>\n",
              "<p>5 rows × 28 columns</p>\n",
              "</div>\n",
              "    <div class=\"colab-df-buttons\">\n",
              "\n",
              "  <div class=\"colab-df-container\">\n",
              "    <button class=\"colab-df-convert\" onclick=\"convertToInteractive('df-afe5c2f6-7d31-4388-9324-bcbdd309804b')\"\n",
              "            title=\"Convert this dataframe to an interactive table.\"\n",
              "            style=\"display:none;\">\n",
              "\n",
              "  <svg xmlns=\"http://www.w3.org/2000/svg\" height=\"24px\" viewBox=\"0 -960 960 960\">\n",
              "    <path d=\"M120-120v-720h720v720H120Zm60-500h600v-160H180v160Zm220 220h160v-160H400v160Zm0 220h160v-160H400v160ZM180-400h160v-160H180v160Zm440 0h160v-160H620v160ZM180-180h160v-160H180v160Zm440 0h160v-160H620v160Z\"/>\n",
              "  </svg>\n",
              "    </button>\n",
              "\n",
              "  <style>\n",
              "    .colab-df-container {\n",
              "      display:flex;\n",
              "      gap: 12px;\n",
              "    }\n",
              "\n",
              "    .colab-df-convert {\n",
              "      background-color: #E8F0FE;\n",
              "      border: none;\n",
              "      border-radius: 50%;\n",
              "      cursor: pointer;\n",
              "      display: none;\n",
              "      fill: #1967D2;\n",
              "      height: 32px;\n",
              "      padding: 0 0 0 0;\n",
              "      width: 32px;\n",
              "    }\n",
              "\n",
              "    .colab-df-convert:hover {\n",
              "      background-color: #E2EBFA;\n",
              "      box-shadow: 0px 1px 2px rgba(60, 64, 67, 0.3), 0px 1px 3px 1px rgba(60, 64, 67, 0.15);\n",
              "      fill: #174EA6;\n",
              "    }\n",
              "\n",
              "    .colab-df-buttons div {\n",
              "      margin-bottom: 4px;\n",
              "    }\n",
              "\n",
              "    [theme=dark] .colab-df-convert {\n",
              "      background-color: #3B4455;\n",
              "      fill: #D2E3FC;\n",
              "    }\n",
              "\n",
              "    [theme=dark] .colab-df-convert:hover {\n",
              "      background-color: #434B5C;\n",
              "      box-shadow: 0px 1px 3px 1px rgba(0, 0, 0, 0.15);\n",
              "      filter: drop-shadow(0px 1px 2px rgba(0, 0, 0, 0.3));\n",
              "      fill: #FFFFFF;\n",
              "    }\n",
              "  </style>\n",
              "\n",
              "    <script>\n",
              "      const buttonEl =\n",
              "        document.querySelector('#df-afe5c2f6-7d31-4388-9324-bcbdd309804b button.colab-df-convert');\n",
              "      buttonEl.style.display =\n",
              "        google.colab.kernel.accessAllowed ? 'block' : 'none';\n",
              "\n",
              "      async function convertToInteractive(key) {\n",
              "        const element = document.querySelector('#df-afe5c2f6-7d31-4388-9324-bcbdd309804b');\n",
              "        const dataTable =\n",
              "          await google.colab.kernel.invokeFunction('convertToInteractive',\n",
              "                                                    [key], {});\n",
              "        if (!dataTable) return;\n",
              "\n",
              "        const docLinkHtml = 'Like what you see? Visit the ' +\n",
              "          '<a target=\"_blank\" href=https://colab.research.google.com/notebooks/data_table.ipynb>data table notebook</a>'\n",
              "          + ' to learn more about interactive tables.';\n",
              "        element.innerHTML = '';\n",
              "        dataTable['output_type'] = 'display_data';\n",
              "        await google.colab.output.renderOutput(dataTable, element);\n",
              "        const docLink = document.createElement('div');\n",
              "        docLink.innerHTML = docLinkHtml;\n",
              "        element.appendChild(docLink);\n",
              "      }\n",
              "    </script>\n",
              "  </div>\n",
              "\n",
              "\n",
              "<div id=\"df-4fda138b-4fdb-47fd-a3e5-40895c21c981\">\n",
              "  <button class=\"colab-df-quickchart\" onclick=\"quickchart('df-4fda138b-4fdb-47fd-a3e5-40895c21c981')\"\n",
              "            title=\"Suggest charts\"\n",
              "            style=\"display:none;\">\n",
              "\n",
              "<svg xmlns=\"http://www.w3.org/2000/svg\" height=\"24px\"viewBox=\"0 0 24 24\"\n",
              "     width=\"24px\">\n",
              "    <g>\n",
              "        <path d=\"M19 3H5c-1.1 0-2 .9-2 2v14c0 1.1.9 2 2 2h14c1.1 0 2-.9 2-2V5c0-1.1-.9-2-2-2zM9 17H7v-7h2v7zm4 0h-2V7h2v10zm4 0h-2v-4h2v4z\"/>\n",
              "    </g>\n",
              "</svg>\n",
              "  </button>\n",
              "\n",
              "<style>\n",
              "  .colab-df-quickchart {\n",
              "      --bg-color: #E8F0FE;\n",
              "      --fill-color: #1967D2;\n",
              "      --hover-bg-color: #E2EBFA;\n",
              "      --hover-fill-color: #174EA6;\n",
              "      --disabled-fill-color: #AAA;\n",
              "      --disabled-bg-color: #DDD;\n",
              "  }\n",
              "\n",
              "  [theme=dark] .colab-df-quickchart {\n",
              "      --bg-color: #3B4455;\n",
              "      --fill-color: #D2E3FC;\n",
              "      --hover-bg-color: #434B5C;\n",
              "      --hover-fill-color: #FFFFFF;\n",
              "      --disabled-bg-color: #3B4455;\n",
              "      --disabled-fill-color: #666;\n",
              "  }\n",
              "\n",
              "  .colab-df-quickchart {\n",
              "    background-color: var(--bg-color);\n",
              "    border: none;\n",
              "    border-radius: 50%;\n",
              "    cursor: pointer;\n",
              "    display: none;\n",
              "    fill: var(--fill-color);\n",
              "    height: 32px;\n",
              "    padding: 0;\n",
              "    width: 32px;\n",
              "  }\n",
              "\n",
              "  .colab-df-quickchart:hover {\n",
              "    background-color: var(--hover-bg-color);\n",
              "    box-shadow: 0 1px 2px rgba(60, 64, 67, 0.3), 0 1px 3px 1px rgba(60, 64, 67, 0.15);\n",
              "    fill: var(--button-hover-fill-color);\n",
              "  }\n",
              "\n",
              "  .colab-df-quickchart-complete:disabled,\n",
              "  .colab-df-quickchart-complete:disabled:hover {\n",
              "    background-color: var(--disabled-bg-color);\n",
              "    fill: var(--disabled-fill-color);\n",
              "    box-shadow: none;\n",
              "  }\n",
              "\n",
              "  .colab-df-spinner {\n",
              "    border: 2px solid var(--fill-color);\n",
              "    border-color: transparent;\n",
              "    border-bottom-color: var(--fill-color);\n",
              "    animation:\n",
              "      spin 1s steps(1) infinite;\n",
              "  }\n",
              "\n",
              "  @keyframes spin {\n",
              "    0% {\n",
              "      border-color: transparent;\n",
              "      border-bottom-color: var(--fill-color);\n",
              "      border-left-color: var(--fill-color);\n",
              "    }\n",
              "    20% {\n",
              "      border-color: transparent;\n",
              "      border-left-color: var(--fill-color);\n",
              "      border-top-color: var(--fill-color);\n",
              "    }\n",
              "    30% {\n",
              "      border-color: transparent;\n",
              "      border-left-color: var(--fill-color);\n",
              "      border-top-color: var(--fill-color);\n",
              "      border-right-color: var(--fill-color);\n",
              "    }\n",
              "    40% {\n",
              "      border-color: transparent;\n",
              "      border-right-color: var(--fill-color);\n",
              "      border-top-color: var(--fill-color);\n",
              "    }\n",
              "    60% {\n",
              "      border-color: transparent;\n",
              "      border-right-color: var(--fill-color);\n",
              "    }\n",
              "    80% {\n",
              "      border-color: transparent;\n",
              "      border-right-color: var(--fill-color);\n",
              "      border-bottom-color: var(--fill-color);\n",
              "    }\n",
              "    90% {\n",
              "      border-color: transparent;\n",
              "      border-bottom-color: var(--fill-color);\n",
              "    }\n",
              "  }\n",
              "</style>\n",
              "\n",
              "  <script>\n",
              "    async function quickchart(key) {\n",
              "      const quickchartButtonEl =\n",
              "        document.querySelector('#' + key + ' button');\n",
              "      quickchartButtonEl.disabled = true;  // To prevent multiple clicks.\n",
              "      quickchartButtonEl.classList.add('colab-df-spinner');\n",
              "      try {\n",
              "        const charts = await google.colab.kernel.invokeFunction(\n",
              "            'suggestCharts', [key], {});\n",
              "      } catch (error) {\n",
              "        console.error('Error during call to suggestCharts:', error);\n",
              "      }\n",
              "      quickchartButtonEl.classList.remove('colab-df-spinner');\n",
              "      quickchartButtonEl.classList.add('colab-df-quickchart-complete');\n",
              "    }\n",
              "    (() => {\n",
              "      let quickchartButtonEl =\n",
              "        document.querySelector('#df-4fda138b-4fdb-47fd-a3e5-40895c21c981 button');\n",
              "      quickchartButtonEl.style.display =\n",
              "        google.colab.kernel.accessAllowed ? 'block' : 'none';\n",
              "    })();\n",
              "  </script>\n",
              "</div>\n",
              "\n",
              "    </div>\n",
              "  </div>\n"
            ],
            "application/vnd.google.colaboratory.intrinsic+json": {
              "type": "dataframe",
              "variable_name": "df"
            }
          },
          "metadata": {},
          "execution_count": 5
        }
      ]
    },
    {
      "cell_type": "code",
      "source": [
        "#Últimas linhas\n",
        "df.tail()"
      ],
      "metadata": {
        "colab": {
          "base_uri": "https://localhost:8080/",
          "height": 776
        },
        "collapsed": true,
        "id": "Axh8URuZBu4K",
        "outputId": "e530c476-3a05-450e-8106-8cbff41c34ae"
      },
      "execution_count": 6,
      "outputs": [
        {
          "output_type": "execute_result",
          "data": {
            "text/plain": [
              "      Unnamed: 0                                ID  IDADE FAIXA IDADE  \\\n",
              "4266        4266  01jnrn9f6va0menfhk2ztm01jnrn96bp   26.0       25-29   \n",
              "4267        4267  01dyfxam4u4bi29fem01dyfxaq9akvqp   30.0       30-34   \n",
              "4268        4268  00zw9ks9d40z4u00zz3d20iix65qpli3   29.0       25-29   \n",
              "4269        4269  00xu7yujd7s57emj00xu7y0c3njix3de    NaN       17-21   \n",
              "4270        4270  00lb35llmdsidpa00lb35qcdysnzvhv7   24.0       22-24   \n",
              "\n",
              "         GENERO COR/RACA/ETNIA  PCD  \\\n",
              "4266  Masculino         Branca  Não   \n",
              "4267   Feminino         Branca  Não   \n",
              "4268  Masculino         Branca  Não   \n",
              "4269  Masculino         Branca  Não   \n",
              "4270  Masculino         Branca  Não   \n",
              "\n",
              "                   EXPERIENCIA_PROFISSIONAL_PREJUDICADA ASPECTOS_PREJUDICADOS  \\\n",
              "4266                                                NaN                   NaN   \n",
              "4267  Não acredito que minha experiência profissiona...                   NaN   \n",
              "4268                                                NaN                   NaN   \n",
              "4269                                                NaN                   NaN   \n",
              "4270                                                NaN                   NaN   \n",
              "\n",
              "      VIVE_NO_BRASIL  ...                                SETOR  \\\n",
              "4266            True  ...       Tecnologia/Fábrica de Software   \n",
              "4267            True  ...                  Área de Consultoria   \n",
              "4268            True  ...  Setor Imobiliário/ Construção Civil   \n",
              "4269            True  ...                            Indústria   \n",
              "4270            True  ...                         Agronegócios   \n",
              "\n",
              "     NUMERO DE FUNCIONARIOS GESTOR?  CARGO COMO GESTOR  \\\n",
              "4266         Acima de 3.000     0.0                NaN   \n",
              "4267            de 51 a 100     0.0                NaN   \n",
              "4268           de 101 a 500     1.0       Gerente/Head   \n",
              "4269       de 1.001 a 3.000     0.0                NaN   \n",
              "4270         de 501 a 1.000     0.0                NaN   \n",
              "\n",
              "                                            CARGO ATUAL   NIVEL  \\\n",
              "4266                     Analista de Dados/Data Analyst   Pleno   \n",
              "4267  Engenheiro de Dados/Arquiteto de Dados/Data En...   Pleno   \n",
              "4268                                                NaN     NaN   \n",
              "4269                                        Outra Opção  Júnior   \n",
              "4270                     Analista de Dados/Data Analyst  Júnior   \n",
              "\n",
              "                        FAIXA SALARIAL  \\\n",
              "4266    de R$ 4.001/mês a R$ 6.000/mês   \n",
              "4267    de R$ 3.001/mês a R$ 4.000/mês   \n",
              "4268  de R$ 16.001/mês a R$ 20.000/mês   \n",
              "4269             Menos de R$ 1.000/mês   \n",
              "4270    de R$ 3.001/mês a R$ 4.000/mês   \n",
              "\n",
              "     QUANTO TEMPO DE EXPERIÊNCIA NA ÁREA DE DADOS VOCÊ TEM?  \\\n",
              "4266                                      de 3 a 4 anos       \n",
              "4267                                      de 1 a 2 anos       \n",
              "4268                                      de 4 a 6 anos       \n",
              "4269                                     Menos de 1 ano       \n",
              "4270                                      de 1 a 2 anos       \n",
              "\n",
              "     QUANTO TEMPO DE EXPERIÊNCIA NA ÁREA DE TI/ENGENHARIA DE SOFTWARE VOCÊ TEVE ANTES DE COMEÇAR A TRABALHAR NA ÁREA DE DADOS?  \\\n",
              "4266                                     de 7 a 10 anos                                                                          \n",
              "4267  Não tive experiência na área de TI/Engenharia ...                                                                          \n",
              "4268  Não tive experiência na área de TI/Engenharia ...                                                                          \n",
              "4269  Não tive experiência na área de TI/Engenharia ...                                                                          \n",
              "4270  Não tive experiência na área de TI/Engenharia ...                                                                          \n",
              "\n",
              "      SALARIO  \n",
              "4266   4329.0  \n",
              "4267   3758.0  \n",
              "4268  19607.0  \n",
              "4269    989.0  \n",
              "4270   3079.0  \n",
              "\n",
              "[5 rows x 28 columns]"
            ],
            "text/html": [
              "\n",
              "  <div id=\"df-277b4981-9ad2-4626-8bdb-2515c5b63432\" class=\"colab-df-container\">\n",
              "    <div>\n",
              "<style scoped>\n",
              "    .dataframe tbody tr th:only-of-type {\n",
              "        vertical-align: middle;\n",
              "    }\n",
              "\n",
              "    .dataframe tbody tr th {\n",
              "        vertical-align: top;\n",
              "    }\n",
              "\n",
              "    .dataframe thead th {\n",
              "        text-align: right;\n",
              "    }\n",
              "</style>\n",
              "<table border=\"1\" class=\"dataframe\">\n",
              "  <thead>\n",
              "    <tr style=\"text-align: right;\">\n",
              "      <th></th>\n",
              "      <th>Unnamed: 0</th>\n",
              "      <th>ID</th>\n",
              "      <th>IDADE</th>\n",
              "      <th>FAIXA IDADE</th>\n",
              "      <th>GENERO</th>\n",
              "      <th>COR/RACA/ETNIA</th>\n",
              "      <th>PCD</th>\n",
              "      <th>EXPERIENCIA_PROFISSIONAL_PREJUDICADA</th>\n",
              "      <th>ASPECTOS_PREJUDICADOS</th>\n",
              "      <th>VIVE_NO_BRASIL</th>\n",
              "      <th>...</th>\n",
              "      <th>SETOR</th>\n",
              "      <th>NUMERO DE FUNCIONARIOS</th>\n",
              "      <th>GESTOR?</th>\n",
              "      <th>CARGO COMO GESTOR</th>\n",
              "      <th>CARGO ATUAL</th>\n",
              "      <th>NIVEL</th>\n",
              "      <th>FAIXA SALARIAL</th>\n",
              "      <th>QUANTO TEMPO DE EXPERIÊNCIA NA ÁREA DE DADOS VOCÊ TEM?</th>\n",
              "      <th>QUANTO TEMPO DE EXPERIÊNCIA NA ÁREA DE TI/ENGENHARIA DE SOFTWARE VOCÊ TEVE ANTES DE COMEÇAR A TRABALHAR NA ÁREA DE DADOS?</th>\n",
              "      <th>SALARIO</th>\n",
              "    </tr>\n",
              "  </thead>\n",
              "  <tbody>\n",
              "    <tr>\n",
              "      <th>4266</th>\n",
              "      <td>4266</td>\n",
              "      <td>01jnrn9f6va0menfhk2ztm01jnrn96bp</td>\n",
              "      <td>26.0</td>\n",
              "      <td>25-29</td>\n",
              "      <td>Masculino</td>\n",
              "      <td>Branca</td>\n",
              "      <td>Não</td>\n",
              "      <td>NaN</td>\n",
              "      <td>NaN</td>\n",
              "      <td>True</td>\n",
              "      <td>...</td>\n",
              "      <td>Tecnologia/Fábrica de Software</td>\n",
              "      <td>Acima de 3.000</td>\n",
              "      <td>0.0</td>\n",
              "      <td>NaN</td>\n",
              "      <td>Analista de Dados/Data Analyst</td>\n",
              "      <td>Pleno</td>\n",
              "      <td>de R$ 4.001/mês a R$ 6.000/mês</td>\n",
              "      <td>de 3 a 4 anos</td>\n",
              "      <td>de 7 a 10 anos</td>\n",
              "      <td>4329.0</td>\n",
              "    </tr>\n",
              "    <tr>\n",
              "      <th>4267</th>\n",
              "      <td>4267</td>\n",
              "      <td>01dyfxam4u4bi29fem01dyfxaq9akvqp</td>\n",
              "      <td>30.0</td>\n",
              "      <td>30-34</td>\n",
              "      <td>Feminino</td>\n",
              "      <td>Branca</td>\n",
              "      <td>Não</td>\n",
              "      <td>Não acredito que minha experiência profissiona...</td>\n",
              "      <td>NaN</td>\n",
              "      <td>True</td>\n",
              "      <td>...</td>\n",
              "      <td>Área de Consultoria</td>\n",
              "      <td>de 51 a 100</td>\n",
              "      <td>0.0</td>\n",
              "      <td>NaN</td>\n",
              "      <td>Engenheiro de Dados/Arquiteto de Dados/Data En...</td>\n",
              "      <td>Pleno</td>\n",
              "      <td>de R$ 3.001/mês a R$ 4.000/mês</td>\n",
              "      <td>de 1 a 2 anos</td>\n",
              "      <td>Não tive experiência na área de TI/Engenharia ...</td>\n",
              "      <td>3758.0</td>\n",
              "    </tr>\n",
              "    <tr>\n",
              "      <th>4268</th>\n",
              "      <td>4268</td>\n",
              "      <td>00zw9ks9d40z4u00zz3d20iix65qpli3</td>\n",
              "      <td>29.0</td>\n",
              "      <td>25-29</td>\n",
              "      <td>Masculino</td>\n",
              "      <td>Branca</td>\n",
              "      <td>Não</td>\n",
              "      <td>NaN</td>\n",
              "      <td>NaN</td>\n",
              "      <td>True</td>\n",
              "      <td>...</td>\n",
              "      <td>Setor Imobiliário/ Construção Civil</td>\n",
              "      <td>de 101 a 500</td>\n",
              "      <td>1.0</td>\n",
              "      <td>Gerente/Head</td>\n",
              "      <td>NaN</td>\n",
              "      <td>NaN</td>\n",
              "      <td>de R$ 16.001/mês a R$ 20.000/mês</td>\n",
              "      <td>de 4 a 6 anos</td>\n",
              "      <td>Não tive experiência na área de TI/Engenharia ...</td>\n",
              "      <td>19607.0</td>\n",
              "    </tr>\n",
              "    <tr>\n",
              "      <th>4269</th>\n",
              "      <td>4269</td>\n",
              "      <td>00xu7yujd7s57emj00xu7y0c3njix3de</td>\n",
              "      <td>NaN</td>\n",
              "      <td>17-21</td>\n",
              "      <td>Masculino</td>\n",
              "      <td>Branca</td>\n",
              "      <td>Não</td>\n",
              "      <td>NaN</td>\n",
              "      <td>NaN</td>\n",
              "      <td>True</td>\n",
              "      <td>...</td>\n",
              "      <td>Indústria</td>\n",
              "      <td>de 1.001 a 3.000</td>\n",
              "      <td>0.0</td>\n",
              "      <td>NaN</td>\n",
              "      <td>Outra Opção</td>\n",
              "      <td>Júnior</td>\n",
              "      <td>Menos de R$ 1.000/mês</td>\n",
              "      <td>Menos de 1 ano</td>\n",
              "      <td>Não tive experiência na área de TI/Engenharia ...</td>\n",
              "      <td>989.0</td>\n",
              "    </tr>\n",
              "    <tr>\n",
              "      <th>4270</th>\n",
              "      <td>4270</td>\n",
              "      <td>00lb35llmdsidpa00lb35qcdysnzvhv7</td>\n",
              "      <td>24.0</td>\n",
              "      <td>22-24</td>\n",
              "      <td>Masculino</td>\n",
              "      <td>Branca</td>\n",
              "      <td>Não</td>\n",
              "      <td>NaN</td>\n",
              "      <td>NaN</td>\n",
              "      <td>True</td>\n",
              "      <td>...</td>\n",
              "      <td>Agronegócios</td>\n",
              "      <td>de 501 a 1.000</td>\n",
              "      <td>0.0</td>\n",
              "      <td>NaN</td>\n",
              "      <td>Analista de Dados/Data Analyst</td>\n",
              "      <td>Júnior</td>\n",
              "      <td>de R$ 3.001/mês a R$ 4.000/mês</td>\n",
              "      <td>de 1 a 2 anos</td>\n",
              "      <td>Não tive experiência na área de TI/Engenharia ...</td>\n",
              "      <td>3079.0</td>\n",
              "    </tr>\n",
              "  </tbody>\n",
              "</table>\n",
              "<p>5 rows × 28 columns</p>\n",
              "</div>\n",
              "    <div class=\"colab-df-buttons\">\n",
              "\n",
              "  <div class=\"colab-df-container\">\n",
              "    <button class=\"colab-df-convert\" onclick=\"convertToInteractive('df-277b4981-9ad2-4626-8bdb-2515c5b63432')\"\n",
              "            title=\"Convert this dataframe to an interactive table.\"\n",
              "            style=\"display:none;\">\n",
              "\n",
              "  <svg xmlns=\"http://www.w3.org/2000/svg\" height=\"24px\" viewBox=\"0 -960 960 960\">\n",
              "    <path d=\"M120-120v-720h720v720H120Zm60-500h600v-160H180v160Zm220 220h160v-160H400v160Zm0 220h160v-160H400v160ZM180-400h160v-160H180v160Zm440 0h160v-160H620v160ZM180-180h160v-160H180v160Zm440 0h160v-160H620v160Z\"/>\n",
              "  </svg>\n",
              "    </button>\n",
              "\n",
              "  <style>\n",
              "    .colab-df-container {\n",
              "      display:flex;\n",
              "      gap: 12px;\n",
              "    }\n",
              "\n",
              "    .colab-df-convert {\n",
              "      background-color: #E8F0FE;\n",
              "      border: none;\n",
              "      border-radius: 50%;\n",
              "      cursor: pointer;\n",
              "      display: none;\n",
              "      fill: #1967D2;\n",
              "      height: 32px;\n",
              "      padding: 0 0 0 0;\n",
              "      width: 32px;\n",
              "    }\n",
              "\n",
              "    .colab-df-convert:hover {\n",
              "      background-color: #E2EBFA;\n",
              "      box-shadow: 0px 1px 2px rgba(60, 64, 67, 0.3), 0px 1px 3px 1px rgba(60, 64, 67, 0.15);\n",
              "      fill: #174EA6;\n",
              "    }\n",
              "\n",
              "    .colab-df-buttons div {\n",
              "      margin-bottom: 4px;\n",
              "    }\n",
              "\n",
              "    [theme=dark] .colab-df-convert {\n",
              "      background-color: #3B4455;\n",
              "      fill: #D2E3FC;\n",
              "    }\n",
              "\n",
              "    [theme=dark] .colab-df-convert:hover {\n",
              "      background-color: #434B5C;\n",
              "      box-shadow: 0px 1px 3px 1px rgba(0, 0, 0, 0.15);\n",
              "      filter: drop-shadow(0px 1px 2px rgba(0, 0, 0, 0.3));\n",
              "      fill: #FFFFFF;\n",
              "    }\n",
              "  </style>\n",
              "\n",
              "    <script>\n",
              "      const buttonEl =\n",
              "        document.querySelector('#df-277b4981-9ad2-4626-8bdb-2515c5b63432 button.colab-df-convert');\n",
              "      buttonEl.style.display =\n",
              "        google.colab.kernel.accessAllowed ? 'block' : 'none';\n",
              "\n",
              "      async function convertToInteractive(key) {\n",
              "        const element = document.querySelector('#df-277b4981-9ad2-4626-8bdb-2515c5b63432');\n",
              "        const dataTable =\n",
              "          await google.colab.kernel.invokeFunction('convertToInteractive',\n",
              "                                                    [key], {});\n",
              "        if (!dataTable) return;\n",
              "\n",
              "        const docLinkHtml = 'Like what you see? Visit the ' +\n",
              "          '<a target=\"_blank\" href=https://colab.research.google.com/notebooks/data_table.ipynb>data table notebook</a>'\n",
              "          + ' to learn more about interactive tables.';\n",
              "        element.innerHTML = '';\n",
              "        dataTable['output_type'] = 'display_data';\n",
              "        await google.colab.output.renderOutput(dataTable, element);\n",
              "        const docLink = document.createElement('div');\n",
              "        docLink.innerHTML = docLinkHtml;\n",
              "        element.appendChild(docLink);\n",
              "      }\n",
              "    </script>\n",
              "  </div>\n",
              "\n",
              "\n",
              "<div id=\"df-62e03b7a-c091-45da-bdd1-174d6ec4563d\">\n",
              "  <button class=\"colab-df-quickchart\" onclick=\"quickchart('df-62e03b7a-c091-45da-bdd1-174d6ec4563d')\"\n",
              "            title=\"Suggest charts\"\n",
              "            style=\"display:none;\">\n",
              "\n",
              "<svg xmlns=\"http://www.w3.org/2000/svg\" height=\"24px\"viewBox=\"0 0 24 24\"\n",
              "     width=\"24px\">\n",
              "    <g>\n",
              "        <path d=\"M19 3H5c-1.1 0-2 .9-2 2v14c0 1.1.9 2 2 2h14c1.1 0 2-.9 2-2V5c0-1.1-.9-2-2-2zM9 17H7v-7h2v7zm4 0h-2V7h2v10zm4 0h-2v-4h2v4z\"/>\n",
              "    </g>\n",
              "</svg>\n",
              "  </button>\n",
              "\n",
              "<style>\n",
              "  .colab-df-quickchart {\n",
              "      --bg-color: #E8F0FE;\n",
              "      --fill-color: #1967D2;\n",
              "      --hover-bg-color: #E2EBFA;\n",
              "      --hover-fill-color: #174EA6;\n",
              "      --disabled-fill-color: #AAA;\n",
              "      --disabled-bg-color: #DDD;\n",
              "  }\n",
              "\n",
              "  [theme=dark] .colab-df-quickchart {\n",
              "      --bg-color: #3B4455;\n",
              "      --fill-color: #D2E3FC;\n",
              "      --hover-bg-color: #434B5C;\n",
              "      --hover-fill-color: #FFFFFF;\n",
              "      --disabled-bg-color: #3B4455;\n",
              "      --disabled-fill-color: #666;\n",
              "  }\n",
              "\n",
              "  .colab-df-quickchart {\n",
              "    background-color: var(--bg-color);\n",
              "    border: none;\n",
              "    border-radius: 50%;\n",
              "    cursor: pointer;\n",
              "    display: none;\n",
              "    fill: var(--fill-color);\n",
              "    height: 32px;\n",
              "    padding: 0;\n",
              "    width: 32px;\n",
              "  }\n",
              "\n",
              "  .colab-df-quickchart:hover {\n",
              "    background-color: var(--hover-bg-color);\n",
              "    box-shadow: 0 1px 2px rgba(60, 64, 67, 0.3), 0 1px 3px 1px rgba(60, 64, 67, 0.15);\n",
              "    fill: var(--button-hover-fill-color);\n",
              "  }\n",
              "\n",
              "  .colab-df-quickchart-complete:disabled,\n",
              "  .colab-df-quickchart-complete:disabled:hover {\n",
              "    background-color: var(--disabled-bg-color);\n",
              "    fill: var(--disabled-fill-color);\n",
              "    box-shadow: none;\n",
              "  }\n",
              "\n",
              "  .colab-df-spinner {\n",
              "    border: 2px solid var(--fill-color);\n",
              "    border-color: transparent;\n",
              "    border-bottom-color: var(--fill-color);\n",
              "    animation:\n",
              "      spin 1s steps(1) infinite;\n",
              "  }\n",
              "\n",
              "  @keyframes spin {\n",
              "    0% {\n",
              "      border-color: transparent;\n",
              "      border-bottom-color: var(--fill-color);\n",
              "      border-left-color: var(--fill-color);\n",
              "    }\n",
              "    20% {\n",
              "      border-color: transparent;\n",
              "      border-left-color: var(--fill-color);\n",
              "      border-top-color: var(--fill-color);\n",
              "    }\n",
              "    30% {\n",
              "      border-color: transparent;\n",
              "      border-left-color: var(--fill-color);\n",
              "      border-top-color: var(--fill-color);\n",
              "      border-right-color: var(--fill-color);\n",
              "    }\n",
              "    40% {\n",
              "      border-color: transparent;\n",
              "      border-right-color: var(--fill-color);\n",
              "      border-top-color: var(--fill-color);\n",
              "    }\n",
              "    60% {\n",
              "      border-color: transparent;\n",
              "      border-right-color: var(--fill-color);\n",
              "    }\n",
              "    80% {\n",
              "      border-color: transparent;\n",
              "      border-right-color: var(--fill-color);\n",
              "      border-bottom-color: var(--fill-color);\n",
              "    }\n",
              "    90% {\n",
              "      border-color: transparent;\n",
              "      border-bottom-color: var(--fill-color);\n",
              "    }\n",
              "  }\n",
              "</style>\n",
              "\n",
              "  <script>\n",
              "    async function quickchart(key) {\n",
              "      const quickchartButtonEl =\n",
              "        document.querySelector('#' + key + ' button');\n",
              "      quickchartButtonEl.disabled = true;  // To prevent multiple clicks.\n",
              "      quickchartButtonEl.classList.add('colab-df-spinner');\n",
              "      try {\n",
              "        const charts = await google.colab.kernel.invokeFunction(\n",
              "            'suggestCharts', [key], {});\n",
              "      } catch (error) {\n",
              "        console.error('Error during call to suggestCharts:', error);\n",
              "      }\n",
              "      quickchartButtonEl.classList.remove('colab-df-spinner');\n",
              "      quickchartButtonEl.classList.add('colab-df-quickchart-complete');\n",
              "    }\n",
              "    (() => {\n",
              "      let quickchartButtonEl =\n",
              "        document.querySelector('#df-62e03b7a-c091-45da-bdd1-174d6ec4563d button');\n",
              "      quickchartButtonEl.style.display =\n",
              "        google.colab.kernel.accessAllowed ? 'block' : 'none';\n",
              "    })();\n",
              "  </script>\n",
              "</div>\n",
              "\n",
              "    </div>\n",
              "  </div>\n"
            ],
            "application/vnd.google.colaboratory.intrinsic+json": {
              "type": "dataframe"
            }
          },
          "metadata": {},
          "execution_count": 6
        }
      ]
    },
    {
      "cell_type": "code",
      "source": [
        "print(\"Dimensões (linhas, colunas):\", df.shape)"
      ],
      "metadata": {
        "colab": {
          "base_uri": "https://localhost:8080/"
        },
        "id": "Lb8JPLT6B6Hc",
        "outputId": "613be21b-ade7-4fdd-aee7-7ff9eb210f7a"
      },
      "execution_count": 7,
      "outputs": [
        {
          "output_type": "stream",
          "name": "stdout",
          "text": [
            "Dimensões (linhas, colunas): (4271, 28)\n"
          ]
        }
      ]
    },
    {
      "cell_type": "code",
      "source": [
        "print(\"Número de registros (linhas):\", len(df))"
      ],
      "metadata": {
        "colab": {
          "base_uri": "https://localhost:8080/"
        },
        "id": "u-PWb9-YB_Ou",
        "outputId": "2bc1a48e-a24a-4c96-9659-4d18e17bd728"
      },
      "execution_count": 8,
      "outputs": [
        {
          "output_type": "stream",
          "name": "stdout",
          "text": [
            "Número de registros (linhas): 4271\n"
          ]
        }
      ]
    },
    {
      "cell_type": "code",
      "source": [
        "print(\"Colunas Disponíveis:\", df.columns)"
      ],
      "metadata": {
        "colab": {
          "base_uri": "https://localhost:8080/"
        },
        "collapsed": true,
        "id": "aHnmBK7BCDqX",
        "outputId": "cf5a2b19-385f-4d25-f9d7-071ba87f35e0"
      },
      "execution_count": 9,
      "outputs": [
        {
          "output_type": "stream",
          "name": "stdout",
          "text": [
            "Colunas Disponíveis: Index(['Unnamed: 0', 'ID', 'IDADE', 'FAIXA IDADE', 'GENERO', 'COR/RACA/ETNIA',\n",
            "       'PCD', 'EXPERIENCIA_PROFISSIONAL_PREJUDICADA', 'ASPECTOS_PREJUDICADOS',\n",
            "       'VIVE_NO_BRASIL', 'ESTADO ONDE MORA', 'UF ONDE MORA',\n",
            "       'REGIAO ONDE MORA', 'MUDOU DE ESTADO?', 'REGIAO DE ORIGEM',\n",
            "       'NIVEL DE ENSINO', 'ÁREA DE FORMAÇÃO',\n",
            "       'QUAL SUA SITUAÇÃO ATUAL DE TRABALHO?', 'SETOR',\n",
            "       'NUMERO DE FUNCIONARIOS', 'GESTOR?', 'CARGO COMO GESTOR', 'CARGO ATUAL',\n",
            "       'NIVEL', 'FAIXA SALARIAL',\n",
            "       'QUANTO TEMPO DE EXPERIÊNCIA NA ÁREA DE DADOS VOCÊ TEM?',\n",
            "       'QUANTO TEMPO DE EXPERIÊNCIA NA ÁREA DE TI/ENGENHARIA DE SOFTWARE VOCÊ TEVE ANTES DE COMEÇAR A TRABALHAR NA ÁREA DE DADOS?',\n",
            "       'SALARIO'],\n",
            "      dtype='object')\n"
          ]
        }
      ]
    },
    {
      "cell_type": "code",
      "source": [
        "# Informações gerais sobre o DataFrame\n",
        "df.info()"
      ],
      "metadata": {
        "colab": {
          "base_uri": "https://localhost:8080/"
        },
        "collapsed": true,
        "id": "vGX4pC4lCRSF",
        "outputId": "f12afa8e-6828-4d22-80ae-f8d6756a0dc8"
      },
      "execution_count": 10,
      "outputs": [
        {
          "output_type": "stream",
          "name": "stdout",
          "text": [
            "<class 'pandas.core.frame.DataFrame'>\n",
            "RangeIndex: 4271 entries, 0 to 4270\n",
            "Data columns (total 28 columns):\n",
            " #   Column                                                                                                                     Non-Null Count  Dtype  \n",
            "---  ------                                                                                                                     --------------  -----  \n",
            " 0   Unnamed: 0                                                                                                                 4271 non-null   int64  \n",
            " 1   ID                                                                                                                         4271 non-null   object \n",
            " 2   IDADE                                                                                                                      4197 non-null   float64\n",
            " 3   FAIXA IDADE                                                                                                                4271 non-null   object \n",
            " 4   GENERO                                                                                                                     4262 non-null   object \n",
            " 5   COR/RACA/ETNIA                                                                                                             4271 non-null   object \n",
            " 6   PCD                                                                                                                        4271 non-null   object \n",
            " 7   EXPERIENCIA_PROFISSIONAL_PREJUDICADA                                                                                       2190 non-null   object \n",
            " 8   ASPECTOS_PREJUDICADOS                                                                                                      837 non-null    object \n",
            " 9   VIVE_NO_BRASIL                                                                                                             4271 non-null   bool   \n",
            " 10  ESTADO ONDE MORA                                                                                                           4156 non-null   object \n",
            " 11  UF ONDE MORA                                                                                                               4156 non-null   object \n",
            " 12  REGIAO ONDE MORA                                                                                                           4171 non-null   object \n",
            " 13  MUDOU DE ESTADO?                                                                                                           4171 non-null   float64\n",
            " 14  REGIAO DE ORIGEM                                                                                                           772 non-null    object \n",
            " 15  NIVEL DE ENSINO                                                                                                            4271 non-null   object \n",
            " 16  ÁREA DE FORMAÇÃO                                                                                                           4149 non-null   object \n",
            " 17  QUAL SUA SITUAÇÃO ATUAL DE TRABALHO?                                                                                       4271 non-null   object \n",
            " 18  SETOR                                                                                                                      3694 non-null   object \n",
            " 19  NUMERO DE FUNCIONARIOS                                                                                                     3694 non-null   object \n",
            " 20  GESTOR?                                                                                                                    3694 non-null   float64\n",
            " 21  CARGO COMO GESTOR                                                                                                          713 non-null    object \n",
            " 22  CARGO ATUAL                                                                                                                2981 non-null   object \n",
            " 23  NIVEL                                                                                                                      2981 non-null   object \n",
            " 24  FAIXA SALARIAL                                                                                                             3694 non-null   object \n",
            " 25  QUANTO TEMPO DE EXPERIÊNCIA NA ÁREA DE DADOS VOCÊ TEM?                                                                     3694 non-null   object \n",
            " 26  QUANTO TEMPO DE EXPERIÊNCIA NA ÁREA DE TI/ENGENHARIA DE SOFTWARE VOCÊ TEVE ANTES DE COMEÇAR A TRABALHAR NA ÁREA DE DADOS?  3694 non-null   object \n",
            " 27  SALARIO                                                                                                                    3694 non-null   float64\n",
            "dtypes: bool(1), float64(4), int64(1), object(22)\n",
            "memory usage: 905.2+ KB\n"
          ]
        }
      ]
    },
    {
      "cell_type": "code",
      "source": [
        "# Estatísticas descritivas básicas\n",
        "df.describe()"
      ],
      "metadata": {
        "colab": {
          "base_uri": "https://localhost:8080/",
          "height": 300
        },
        "collapsed": true,
        "id": "pCvrNnXxCV9t",
        "outputId": "1e9e57c5-8d15-4773-a4a7-cb27093b0e1b"
      },
      "execution_count": 11,
      "outputs": [
        {
          "output_type": "execute_result",
          "data": {
            "text/plain": [
              "        Unnamed: 0        IDADE  MUDOU DE ESTADO?      GESTOR?        SALARIO\n",
              "count  4271.000000  4197.000000       4171.000000  3694.000000    3694.000000\n",
              "mean   2135.000000    31.169168          0.806281     0.193016   10969.266919\n",
              "std    1233.075829     6.902803          0.395258     0.394719   19419.753189\n",
              "min       0.000000    18.000000          0.000000     0.000000      35.000000\n",
              "25%    1067.500000    26.000000          1.000000     0.000000    4269.500000\n",
              "50%    2135.000000    30.000000          1.000000     0.000000    7625.500000\n",
              "75%    3202.500000    35.000000          1.000000     0.000000   12778.500000\n",
              "max    4270.000000    54.000000          1.000000     1.000000  485191.000000"
            ],
            "text/html": [
              "\n",
              "  <div id=\"df-9b506fd9-e56c-482d-a372-2948eff9f64f\" class=\"colab-df-container\">\n",
              "    <div>\n",
              "<style scoped>\n",
              "    .dataframe tbody tr th:only-of-type {\n",
              "        vertical-align: middle;\n",
              "    }\n",
              "\n",
              "    .dataframe tbody tr th {\n",
              "        vertical-align: top;\n",
              "    }\n",
              "\n",
              "    .dataframe thead th {\n",
              "        text-align: right;\n",
              "    }\n",
              "</style>\n",
              "<table border=\"1\" class=\"dataframe\">\n",
              "  <thead>\n",
              "    <tr style=\"text-align: right;\">\n",
              "      <th></th>\n",
              "      <th>Unnamed: 0</th>\n",
              "      <th>IDADE</th>\n",
              "      <th>MUDOU DE ESTADO?</th>\n",
              "      <th>GESTOR?</th>\n",
              "      <th>SALARIO</th>\n",
              "    </tr>\n",
              "  </thead>\n",
              "  <tbody>\n",
              "    <tr>\n",
              "      <th>count</th>\n",
              "      <td>4271.000000</td>\n",
              "      <td>4197.000000</td>\n",
              "      <td>4171.000000</td>\n",
              "      <td>3694.000000</td>\n",
              "      <td>3694.000000</td>\n",
              "    </tr>\n",
              "    <tr>\n",
              "      <th>mean</th>\n",
              "      <td>2135.000000</td>\n",
              "      <td>31.169168</td>\n",
              "      <td>0.806281</td>\n",
              "      <td>0.193016</td>\n",
              "      <td>10969.266919</td>\n",
              "    </tr>\n",
              "    <tr>\n",
              "      <th>std</th>\n",
              "      <td>1233.075829</td>\n",
              "      <td>6.902803</td>\n",
              "      <td>0.395258</td>\n",
              "      <td>0.394719</td>\n",
              "      <td>19419.753189</td>\n",
              "    </tr>\n",
              "    <tr>\n",
              "      <th>min</th>\n",
              "      <td>0.000000</td>\n",
              "      <td>18.000000</td>\n",
              "      <td>0.000000</td>\n",
              "      <td>0.000000</td>\n",
              "      <td>35.000000</td>\n",
              "    </tr>\n",
              "    <tr>\n",
              "      <th>25%</th>\n",
              "      <td>1067.500000</td>\n",
              "      <td>26.000000</td>\n",
              "      <td>1.000000</td>\n",
              "      <td>0.000000</td>\n",
              "      <td>4269.500000</td>\n",
              "    </tr>\n",
              "    <tr>\n",
              "      <th>50%</th>\n",
              "      <td>2135.000000</td>\n",
              "      <td>30.000000</td>\n",
              "      <td>1.000000</td>\n",
              "      <td>0.000000</td>\n",
              "      <td>7625.500000</td>\n",
              "    </tr>\n",
              "    <tr>\n",
              "      <th>75%</th>\n",
              "      <td>3202.500000</td>\n",
              "      <td>35.000000</td>\n",
              "      <td>1.000000</td>\n",
              "      <td>0.000000</td>\n",
              "      <td>12778.500000</td>\n",
              "    </tr>\n",
              "    <tr>\n",
              "      <th>max</th>\n",
              "      <td>4270.000000</td>\n",
              "      <td>54.000000</td>\n",
              "      <td>1.000000</td>\n",
              "      <td>1.000000</td>\n",
              "      <td>485191.000000</td>\n",
              "    </tr>\n",
              "  </tbody>\n",
              "</table>\n",
              "</div>\n",
              "    <div class=\"colab-df-buttons\">\n",
              "\n",
              "  <div class=\"colab-df-container\">\n",
              "    <button class=\"colab-df-convert\" onclick=\"convertToInteractive('df-9b506fd9-e56c-482d-a372-2948eff9f64f')\"\n",
              "            title=\"Convert this dataframe to an interactive table.\"\n",
              "            style=\"display:none;\">\n",
              "\n",
              "  <svg xmlns=\"http://www.w3.org/2000/svg\" height=\"24px\" viewBox=\"0 -960 960 960\">\n",
              "    <path d=\"M120-120v-720h720v720H120Zm60-500h600v-160H180v160Zm220 220h160v-160H400v160Zm0 220h160v-160H400v160ZM180-400h160v-160H180v160Zm440 0h160v-160H620v160ZM180-180h160v-160H180v160Zm440 0h160v-160H620v160Z\"/>\n",
              "  </svg>\n",
              "    </button>\n",
              "\n",
              "  <style>\n",
              "    .colab-df-container {\n",
              "      display:flex;\n",
              "      gap: 12px;\n",
              "    }\n",
              "\n",
              "    .colab-df-convert {\n",
              "      background-color: #E8F0FE;\n",
              "      border: none;\n",
              "      border-radius: 50%;\n",
              "      cursor: pointer;\n",
              "      display: none;\n",
              "      fill: #1967D2;\n",
              "      height: 32px;\n",
              "      padding: 0 0 0 0;\n",
              "      width: 32px;\n",
              "    }\n",
              "\n",
              "    .colab-df-convert:hover {\n",
              "      background-color: #E2EBFA;\n",
              "      box-shadow: 0px 1px 2px rgba(60, 64, 67, 0.3), 0px 1px 3px 1px rgba(60, 64, 67, 0.15);\n",
              "      fill: #174EA6;\n",
              "    }\n",
              "\n",
              "    .colab-df-buttons div {\n",
              "      margin-bottom: 4px;\n",
              "    }\n",
              "\n",
              "    [theme=dark] .colab-df-convert {\n",
              "      background-color: #3B4455;\n",
              "      fill: #D2E3FC;\n",
              "    }\n",
              "\n",
              "    [theme=dark] .colab-df-convert:hover {\n",
              "      background-color: #434B5C;\n",
              "      box-shadow: 0px 1px 3px 1px rgba(0, 0, 0, 0.15);\n",
              "      filter: drop-shadow(0px 1px 2px rgba(0, 0, 0, 0.3));\n",
              "      fill: #FFFFFF;\n",
              "    }\n",
              "  </style>\n",
              "\n",
              "    <script>\n",
              "      const buttonEl =\n",
              "        document.querySelector('#df-9b506fd9-e56c-482d-a372-2948eff9f64f button.colab-df-convert');\n",
              "      buttonEl.style.display =\n",
              "        google.colab.kernel.accessAllowed ? 'block' : 'none';\n",
              "\n",
              "      async function convertToInteractive(key) {\n",
              "        const element = document.querySelector('#df-9b506fd9-e56c-482d-a372-2948eff9f64f');\n",
              "        const dataTable =\n",
              "          await google.colab.kernel.invokeFunction('convertToInteractive',\n",
              "                                                    [key], {});\n",
              "        if (!dataTable) return;\n",
              "\n",
              "        const docLinkHtml = 'Like what you see? Visit the ' +\n",
              "          '<a target=\"_blank\" href=https://colab.research.google.com/notebooks/data_table.ipynb>data table notebook</a>'\n",
              "          + ' to learn more about interactive tables.';\n",
              "        element.innerHTML = '';\n",
              "        dataTable['output_type'] = 'display_data';\n",
              "        await google.colab.output.renderOutput(dataTable, element);\n",
              "        const docLink = document.createElement('div');\n",
              "        docLink.innerHTML = docLinkHtml;\n",
              "        element.appendChild(docLink);\n",
              "      }\n",
              "    </script>\n",
              "  </div>\n",
              "\n",
              "\n",
              "<div id=\"df-45e90c78-57f4-4432-886e-39be8e057668\">\n",
              "  <button class=\"colab-df-quickchart\" onclick=\"quickchart('df-45e90c78-57f4-4432-886e-39be8e057668')\"\n",
              "            title=\"Suggest charts\"\n",
              "            style=\"display:none;\">\n",
              "\n",
              "<svg xmlns=\"http://www.w3.org/2000/svg\" height=\"24px\"viewBox=\"0 0 24 24\"\n",
              "     width=\"24px\">\n",
              "    <g>\n",
              "        <path d=\"M19 3H5c-1.1 0-2 .9-2 2v14c0 1.1.9 2 2 2h14c1.1 0 2-.9 2-2V5c0-1.1-.9-2-2-2zM9 17H7v-7h2v7zm4 0h-2V7h2v10zm4 0h-2v-4h2v4z\"/>\n",
              "    </g>\n",
              "</svg>\n",
              "  </button>\n",
              "\n",
              "<style>\n",
              "  .colab-df-quickchart {\n",
              "      --bg-color: #E8F0FE;\n",
              "      --fill-color: #1967D2;\n",
              "      --hover-bg-color: #E2EBFA;\n",
              "      --hover-fill-color: #174EA6;\n",
              "      --disabled-fill-color: #AAA;\n",
              "      --disabled-bg-color: #DDD;\n",
              "  }\n",
              "\n",
              "  [theme=dark] .colab-df-quickchart {\n",
              "      --bg-color: #3B4455;\n",
              "      --fill-color: #D2E3FC;\n",
              "      --hover-bg-color: #434B5C;\n",
              "      --hover-fill-color: #FFFFFF;\n",
              "      --disabled-bg-color: #3B4455;\n",
              "      --disabled-fill-color: #666;\n",
              "  }\n",
              "\n",
              "  .colab-df-quickchart {\n",
              "    background-color: var(--bg-color);\n",
              "    border: none;\n",
              "    border-radius: 50%;\n",
              "    cursor: pointer;\n",
              "    display: none;\n",
              "    fill: var(--fill-color);\n",
              "    height: 32px;\n",
              "    padding: 0;\n",
              "    width: 32px;\n",
              "  }\n",
              "\n",
              "  .colab-df-quickchart:hover {\n",
              "    background-color: var(--hover-bg-color);\n",
              "    box-shadow: 0 1px 2px rgba(60, 64, 67, 0.3), 0 1px 3px 1px rgba(60, 64, 67, 0.15);\n",
              "    fill: var(--button-hover-fill-color);\n",
              "  }\n",
              "\n",
              "  .colab-df-quickchart-complete:disabled,\n",
              "  .colab-df-quickchart-complete:disabled:hover {\n",
              "    background-color: var(--disabled-bg-color);\n",
              "    fill: var(--disabled-fill-color);\n",
              "    box-shadow: none;\n",
              "  }\n",
              "\n",
              "  .colab-df-spinner {\n",
              "    border: 2px solid var(--fill-color);\n",
              "    border-color: transparent;\n",
              "    border-bottom-color: var(--fill-color);\n",
              "    animation:\n",
              "      spin 1s steps(1) infinite;\n",
              "  }\n",
              "\n",
              "  @keyframes spin {\n",
              "    0% {\n",
              "      border-color: transparent;\n",
              "      border-bottom-color: var(--fill-color);\n",
              "      border-left-color: var(--fill-color);\n",
              "    }\n",
              "    20% {\n",
              "      border-color: transparent;\n",
              "      border-left-color: var(--fill-color);\n",
              "      border-top-color: var(--fill-color);\n",
              "    }\n",
              "    30% {\n",
              "      border-color: transparent;\n",
              "      border-left-color: var(--fill-color);\n",
              "      border-top-color: var(--fill-color);\n",
              "      border-right-color: var(--fill-color);\n",
              "    }\n",
              "    40% {\n",
              "      border-color: transparent;\n",
              "      border-right-color: var(--fill-color);\n",
              "      border-top-color: var(--fill-color);\n",
              "    }\n",
              "    60% {\n",
              "      border-color: transparent;\n",
              "      border-right-color: var(--fill-color);\n",
              "    }\n",
              "    80% {\n",
              "      border-color: transparent;\n",
              "      border-right-color: var(--fill-color);\n",
              "      border-bottom-color: var(--fill-color);\n",
              "    }\n",
              "    90% {\n",
              "      border-color: transparent;\n",
              "      border-bottom-color: var(--fill-color);\n",
              "    }\n",
              "  }\n",
              "</style>\n",
              "\n",
              "  <script>\n",
              "    async function quickchart(key) {\n",
              "      const quickchartButtonEl =\n",
              "        document.querySelector('#' + key + ' button');\n",
              "      quickchartButtonEl.disabled = true;  // To prevent multiple clicks.\n",
              "      quickchartButtonEl.classList.add('colab-df-spinner');\n",
              "      try {\n",
              "        const charts = await google.colab.kernel.invokeFunction(\n",
              "            'suggestCharts', [key], {});\n",
              "      } catch (error) {\n",
              "        console.error('Error during call to suggestCharts:', error);\n",
              "      }\n",
              "      quickchartButtonEl.classList.remove('colab-df-spinner');\n",
              "      quickchartButtonEl.classList.add('colab-df-quickchart-complete');\n",
              "    }\n",
              "    (() => {\n",
              "      let quickchartButtonEl =\n",
              "        document.querySelector('#df-45e90c78-57f4-4432-886e-39be8e057668 button');\n",
              "      quickchartButtonEl.style.display =\n",
              "        google.colab.kernel.accessAllowed ? 'block' : 'none';\n",
              "    })();\n",
              "  </script>\n",
              "</div>\n",
              "\n",
              "    </div>\n",
              "  </div>\n"
            ],
            "application/vnd.google.colaboratory.intrinsic+json": {
              "type": "dataframe",
              "summary": "{\n  \"name\": \"df\",\n  \"rows\": 8,\n  \"fields\": [\n    {\n      \"column\": \"Unnamed: 0\",\n      \"properties\": {\n        \"dtype\": \"number\",\n        \"std\": 1539.070118904066,\n        \"min\": 0.0,\n        \"max\": 4271.0,\n        \"num_unique_values\": 7,\n        \"samples\": [\n          4271.0,\n          2135.0,\n          3202.5\n        ],\n        \"semantic_type\": \"\",\n        \"description\": \"\"\n      }\n    },\n    {\n      \"column\": \"IDADE\",\n      \"properties\": {\n        \"dtype\": \"number\",\n        \"std\": 1473.7701668399807,\n        \"min\": 6.902802832143122,\n        \"max\": 4197.0,\n        \"num_unique_values\": 8,\n        \"samples\": [\n          31.169168453657374,\n          30.0,\n          4197.0\n        ],\n        \"semantic_type\": \"\",\n        \"description\": \"\"\n      }\n    },\n    {\n      \"column\": \"MUDOU DE ESTADO?\",\n      \"properties\": {\n        \"dtype\": \"number\",\n        \"std\": 1474.4085203289899,\n        \"min\": 0.0,\n        \"max\": 4171.0,\n        \"num_unique_values\": 5,\n        \"samples\": [\n          0.806281467274035,\n          1.0,\n          0.3952582938265937\n        ],\n        \"semantic_type\": \"\",\n        \"description\": \"\"\n      }\n    },\n    {\n      \"column\": \"GESTOR?\",\n      \"properties\": {\n        \"dtype\": \"number\",\n        \"std\": 1305.9460777134695,\n        \"min\": 0.0,\n        \"max\": 3694.0,\n        \"num_unique_values\": 5,\n        \"samples\": [\n          0.19301570113697888,\n          1.0,\n          0.39471865615491697\n        ],\n        \"semantic_type\": \"\",\n        \"description\": \"\"\n      }\n    },\n    {\n      \"column\": \"SALARIO\",\n      \"properties\": {\n        \"dtype\": \"number\",\n        \"std\": 168680.3609292338,\n        \"min\": 35.0,\n        \"max\": 485191.0,\n        \"num_unique_values\": 8,\n        \"samples\": [\n          10969.26691932864,\n          7625.5,\n          3694.0\n        ],\n        \"semantic_type\": \"\",\n        \"description\": \"\"\n      }\n    }\n  ]\n}"
            }
          },
          "metadata": {},
          "execution_count": 11
        }
      ]
    },
    {
      "cell_type": "markdown",
      "source": [
        "###Data Frame Secundário"
      ],
      "metadata": {
        "id": "Tr7kEhPXWlL9"
      }
    },
    {
      "cell_type": "code",
      "source": [
        "#Carregando os dados auxiliares para o Engenering Feature\n",
        "df2 = pd.read_excel(\"/content/drive/MyDrive/Python_PrograMaria/Planilha_Aula_parte2.xlsx\")"
      ],
      "metadata": {
        "id": "Wum95FQwVQUi"
      },
      "execution_count": 12,
      "outputs": []
    },
    {
      "cell_type": "code",
      "source": [
        "#Explorando os dados\n",
        "df2.head()"
      ],
      "metadata": {
        "collapsed": true,
        "id": "x-q-bxxQVe5u",
        "colab": {
          "base_uri": "https://localhost:8080/",
          "height": 781
        },
        "outputId": "dd3b7e1b-aa66-406b-f292-7e4946b94ea7"
      },
      "execution_count": 13,
      "outputs": [
        {
          "output_type": "execute_result",
          "data": {
            "text/plain": [
              "                                 ID  \\\n",
              "0  zzqzz3l9ily8nuo2m7wyzzqzz3w48o96   \n",
              "1  zzls2oftfn9law393oezzls2ofhvfpzd   \n",
              "2  zzdwqzfqqp1ypc7ps6m0hzzdwqz292yi   \n",
              "3  zzbqh3uy7yk7k9qmkzzbqtb4s9faqspl   \n",
              "4  zzaf1m95yan929rb94wzzaf1mekhvhpg   \n",
              "\n",
              "  Quanto tempo de experiência na área de dados você tem?  \\\n",
              "0                                      de 1 a 2 anos       \n",
              "1                                      de 3 a 4 anos       \n",
              "2                                      de 3 a 4 anos       \n",
              "3                                      de 4 a 6 anos       \n",
              "4             Não tenho experiência na área de dados       \n",
              "\n",
              "  Quanto tempo de experiência na área de TI/Engenharia de Software você teve antes de começar a trabalhar na área de dados?  \\\n",
              "0                                     de 7 a 10 anos                                                                          \n",
              "1                                     Menos de 1 ano                                                                          \n",
              "2                                    Mais de 10 anos                                                                          \n",
              "3  Não tive experiência na área de TI/Engenharia ...                                                                          \n",
              "4                                    Mais de 10 anos                                                                          \n",
              "\n",
              "  Você está satisfeito na sua empresa atual?  \\\n",
              "0                                       True   \n",
              "1                                      False   \n",
              "2                                      False   \n",
              "3                                       True   \n",
              "4                                      False   \n",
              "\n",
              "  Qual o principal motivo da sua insatisfação com a empresa atual?  \\\n",
              "0                                                NaN                 \n",
              "1  Falta de oportunidade de crescimento no empreg...                 \n",
              "2  Falta de oportunidade de crescimento no empreg...                 \n",
              "3                                                NaN                 \n",
              "4  Falta de oportunidade de crescimento no empreg...                 \n",
              "\n",
              "  Você participou de entrevistas de emprego nos últimos 6 meses?  \\\n",
              "0  Não participei de entrevistas de emprego/proce...               \n",
              "1          Sim, fiz entrevistas mas não fui aprovado               \n",
              "2  Não participei de entrevistas de emprego/proce...               \n",
              "3               Sim, fui aprovado e mudei de emprego               \n",
              "4  Não participei de entrevistas de emprego/proce...               \n",
              "\n",
              "  Você pretende mudar de emprego nos próximos 6 meses?  \\\n",
              "0  Não estou buscando e não pretendo mudar de emp...     \n",
              "1  Estou em busca de oportunidades dentro ou fora...     \n",
              "2  Não estou buscando, mas me considero aberto a ...     \n",
              "3  Não estou buscando, mas me considero aberto a ...     \n",
              "4  Não estou buscando, mas me considero aberto a ...     \n",
              "\n",
              "  Quais os principais critérios que você leva em consideração no momento de decidir onde trabalhar?  \\\n",
              "0                                         Benefícios                                                  \n",
              "1  Remuneração/Salário, Plano de carreira e oport...                                                  \n",
              "2  Remuneração/Salário, Flexibilidade de trabalho...                                                  \n",
              "3  Remuneração/Salário, Flexibilidade de trabalho...                                                  \n",
              "4  Remuneração/Salário, Oportunidade de aprendiza...                                                  \n",
              "\n",
              "            Atualmente qual a sua forma de trabalho?  \\\n",
              "0                             Modelo 100% presencial   \n",
              "1                             Modelo 100% presencial   \n",
              "2  Modelo híbrido com dias fixos de trabalho pres...   \n",
              "3  Modelo híbrido flexível (o funcionário tem lib...   \n",
              "4                             Modelo 100% presencial   \n",
              "\n",
              "           Qual a forma de trabalho ideal para você?  \\\n",
              "0  Modelo híbrido com dias fixos de trabalho pres...   \n",
              "1  Modelo híbrido flexível (o funcionário tem lib...   \n",
              "2  Modelo híbrido flexível (o funcionário tem lib...   \n",
              "3  Modelo híbrido flexível (o funcionário tem lib...   \n",
              "4                             Modelo 100% presencial   \n",
              "\n",
              "  Caso sua empresa decida pelo modelo 100% presencial qual será sua atitude?  \\\n",
              "0   Vou aceitar e retornar ao modelo 100% presencial                           \n",
              "1   Vou aceitar e retornar ao modelo 100% presencial                           \n",
              "2  Vou procurar outra oportunidade no modelo híbr...                           \n",
              "3  Vou procurar outra oportunidade no modelo híbr...                           \n",
              "4   Vou aceitar e retornar ao modelo 100% presencial                           \n",
              "\n",
              "               Sua empresa passu por Layoff em 2022?  \\\n",
              "0  Não ocorreram layoffs/demissões em massa na em...   \n",
              "1  Não ocorreram layoffs/demissões em massa na em...   \n",
              "2  Não ocorreram layoffs/demissões em massa na em...   \n",
              "3  Não ocorreram layoffs/demissões em massa na em...   \n",
              "4  Não ocorreram layoffs/demissões em massa na em...   \n",
              "\n",
              "                                             Atuacao  \\\n",
              "0                                Engenharia de Dados   \n",
              "1                                             Gestor   \n",
              "2   desenvolve modelos preditivos e algoritmos de...   \n",
              "3   desenvolve modelos preditivos e algoritmos de...   \n",
              "4                                      Outra atuação   \n",
              "\n",
              "  Quais das linguagens listadas abaixo você utiliza no trabalho?  \n",
              "0                                                SQL              \n",
              "1                                                NaN              \n",
              "2                                                  1              \n",
              "3                                                  0              \n",
              "4                                                SQL              "
            ],
            "text/html": [
              "\n",
              "  <div id=\"df-30ecd998-341b-4c53-b07c-25c28675f9ec\" class=\"colab-df-container\">\n",
              "    <div>\n",
              "<style scoped>\n",
              "    .dataframe tbody tr th:only-of-type {\n",
              "        vertical-align: middle;\n",
              "    }\n",
              "\n",
              "    .dataframe tbody tr th {\n",
              "        vertical-align: top;\n",
              "    }\n",
              "\n",
              "    .dataframe thead th {\n",
              "        text-align: right;\n",
              "    }\n",
              "</style>\n",
              "<table border=\"1\" class=\"dataframe\">\n",
              "  <thead>\n",
              "    <tr style=\"text-align: right;\">\n",
              "      <th></th>\n",
              "      <th>ID</th>\n",
              "      <th>Quanto tempo de experiência na área de dados você tem?</th>\n",
              "      <th>Quanto tempo de experiência na área de TI/Engenharia de Software você teve antes de começar a trabalhar na área de dados?</th>\n",
              "      <th>Você está satisfeito na sua empresa atual?</th>\n",
              "      <th>Qual o principal motivo da sua insatisfação com a empresa atual?</th>\n",
              "      <th>Você participou de entrevistas de emprego nos últimos 6 meses?</th>\n",
              "      <th>Você pretende mudar de emprego nos próximos 6 meses?</th>\n",
              "      <th>Quais os principais critérios que você leva em consideração no momento de decidir onde trabalhar?</th>\n",
              "      <th>Atualmente qual a sua forma de trabalho?</th>\n",
              "      <th>Qual a forma de trabalho ideal para você?</th>\n",
              "      <th>Caso sua empresa decida pelo modelo 100% presencial qual será sua atitude?</th>\n",
              "      <th>Sua empresa passu por Layoff em 2022?</th>\n",
              "      <th>Atuacao</th>\n",
              "      <th>Quais das linguagens listadas abaixo você utiliza no trabalho?</th>\n",
              "    </tr>\n",
              "  </thead>\n",
              "  <tbody>\n",
              "    <tr>\n",
              "      <th>0</th>\n",
              "      <td>zzqzz3l9ily8nuo2m7wyzzqzz3w48o96</td>\n",
              "      <td>de 1 a 2 anos</td>\n",
              "      <td>de 7 a 10 anos</td>\n",
              "      <td>True</td>\n",
              "      <td>NaN</td>\n",
              "      <td>Não participei de entrevistas de emprego/proce...</td>\n",
              "      <td>Não estou buscando e não pretendo mudar de emp...</td>\n",
              "      <td>Benefícios</td>\n",
              "      <td>Modelo 100% presencial</td>\n",
              "      <td>Modelo híbrido com dias fixos de trabalho pres...</td>\n",
              "      <td>Vou aceitar e retornar ao modelo 100% presencial</td>\n",
              "      <td>Não ocorreram layoffs/demissões em massa na em...</td>\n",
              "      <td>Engenharia de Dados</td>\n",
              "      <td>SQL</td>\n",
              "    </tr>\n",
              "    <tr>\n",
              "      <th>1</th>\n",
              "      <td>zzls2oftfn9law393oezzls2ofhvfpzd</td>\n",
              "      <td>de 3 a 4 anos</td>\n",
              "      <td>Menos de 1 ano</td>\n",
              "      <td>False</td>\n",
              "      <td>Falta de oportunidade de crescimento no empreg...</td>\n",
              "      <td>Sim, fiz entrevistas mas não fui aprovado</td>\n",
              "      <td>Estou em busca de oportunidades dentro ou fora...</td>\n",
              "      <td>Remuneração/Salário, Plano de carreira e oport...</td>\n",
              "      <td>Modelo 100% presencial</td>\n",
              "      <td>Modelo híbrido flexível (o funcionário tem lib...</td>\n",
              "      <td>Vou aceitar e retornar ao modelo 100% presencial</td>\n",
              "      <td>Não ocorreram layoffs/demissões em massa na em...</td>\n",
              "      <td>Gestor</td>\n",
              "      <td>NaN</td>\n",
              "    </tr>\n",
              "    <tr>\n",
              "      <th>2</th>\n",
              "      <td>zzdwqzfqqp1ypc7ps6m0hzzdwqz292yi</td>\n",
              "      <td>de 3 a 4 anos</td>\n",
              "      <td>Mais de 10 anos</td>\n",
              "      <td>False</td>\n",
              "      <td>Falta de oportunidade de crescimento no empreg...</td>\n",
              "      <td>Não participei de entrevistas de emprego/proce...</td>\n",
              "      <td>Não estou buscando, mas me considero aberto a ...</td>\n",
              "      <td>Remuneração/Salário, Flexibilidade de trabalho...</td>\n",
              "      <td>Modelo híbrido com dias fixos de trabalho pres...</td>\n",
              "      <td>Modelo híbrido flexível (o funcionário tem lib...</td>\n",
              "      <td>Vou procurar outra oportunidade no modelo híbr...</td>\n",
              "      <td>Não ocorreram layoffs/demissões em massa na em...</td>\n",
              "      <td>desenvolve modelos preditivos e algoritmos de...</td>\n",
              "      <td>1</td>\n",
              "    </tr>\n",
              "    <tr>\n",
              "      <th>3</th>\n",
              "      <td>zzbqh3uy7yk7k9qmkzzbqtb4s9faqspl</td>\n",
              "      <td>de 4 a 6 anos</td>\n",
              "      <td>Não tive experiência na área de TI/Engenharia ...</td>\n",
              "      <td>True</td>\n",
              "      <td>NaN</td>\n",
              "      <td>Sim, fui aprovado e mudei de emprego</td>\n",
              "      <td>Não estou buscando, mas me considero aberto a ...</td>\n",
              "      <td>Remuneração/Salário, Flexibilidade de trabalho...</td>\n",
              "      <td>Modelo híbrido flexível (o funcionário tem lib...</td>\n",
              "      <td>Modelo híbrido flexível (o funcionário tem lib...</td>\n",
              "      <td>Vou procurar outra oportunidade no modelo híbr...</td>\n",
              "      <td>Não ocorreram layoffs/demissões em massa na em...</td>\n",
              "      <td>desenvolve modelos preditivos e algoritmos de...</td>\n",
              "      <td>0</td>\n",
              "    </tr>\n",
              "    <tr>\n",
              "      <th>4</th>\n",
              "      <td>zzaf1m95yan929rb94wzzaf1mekhvhpg</td>\n",
              "      <td>Não tenho experiência na área de dados</td>\n",
              "      <td>Mais de 10 anos</td>\n",
              "      <td>False</td>\n",
              "      <td>Falta de oportunidade de crescimento no empreg...</td>\n",
              "      <td>Não participei de entrevistas de emprego/proce...</td>\n",
              "      <td>Não estou buscando, mas me considero aberto a ...</td>\n",
              "      <td>Remuneração/Salário, Oportunidade de aprendiza...</td>\n",
              "      <td>Modelo 100% presencial</td>\n",
              "      <td>Modelo 100% presencial</td>\n",
              "      <td>Vou aceitar e retornar ao modelo 100% presencial</td>\n",
              "      <td>Não ocorreram layoffs/demissões em massa na em...</td>\n",
              "      <td>Outra atuação</td>\n",
              "      <td>SQL</td>\n",
              "    </tr>\n",
              "  </tbody>\n",
              "</table>\n",
              "</div>\n",
              "    <div class=\"colab-df-buttons\">\n",
              "\n",
              "  <div class=\"colab-df-container\">\n",
              "    <button class=\"colab-df-convert\" onclick=\"convertToInteractive('df-30ecd998-341b-4c53-b07c-25c28675f9ec')\"\n",
              "            title=\"Convert this dataframe to an interactive table.\"\n",
              "            style=\"display:none;\">\n",
              "\n",
              "  <svg xmlns=\"http://www.w3.org/2000/svg\" height=\"24px\" viewBox=\"0 -960 960 960\">\n",
              "    <path d=\"M120-120v-720h720v720H120Zm60-500h600v-160H180v160Zm220 220h160v-160H400v160Zm0 220h160v-160H400v160ZM180-400h160v-160H180v160Zm440 0h160v-160H620v160ZM180-180h160v-160H180v160Zm440 0h160v-160H620v160Z\"/>\n",
              "  </svg>\n",
              "    </button>\n",
              "\n",
              "  <style>\n",
              "    .colab-df-container {\n",
              "      display:flex;\n",
              "      gap: 12px;\n",
              "    }\n",
              "\n",
              "    .colab-df-convert {\n",
              "      background-color: #E8F0FE;\n",
              "      border: none;\n",
              "      border-radius: 50%;\n",
              "      cursor: pointer;\n",
              "      display: none;\n",
              "      fill: #1967D2;\n",
              "      height: 32px;\n",
              "      padding: 0 0 0 0;\n",
              "      width: 32px;\n",
              "    }\n",
              "\n",
              "    .colab-df-convert:hover {\n",
              "      background-color: #E2EBFA;\n",
              "      box-shadow: 0px 1px 2px rgba(60, 64, 67, 0.3), 0px 1px 3px 1px rgba(60, 64, 67, 0.15);\n",
              "      fill: #174EA6;\n",
              "    }\n",
              "\n",
              "    .colab-df-buttons div {\n",
              "      margin-bottom: 4px;\n",
              "    }\n",
              "\n",
              "    [theme=dark] .colab-df-convert {\n",
              "      background-color: #3B4455;\n",
              "      fill: #D2E3FC;\n",
              "    }\n",
              "\n",
              "    [theme=dark] .colab-df-convert:hover {\n",
              "      background-color: #434B5C;\n",
              "      box-shadow: 0px 1px 3px 1px rgba(0, 0, 0, 0.15);\n",
              "      filter: drop-shadow(0px 1px 2px rgba(0, 0, 0, 0.3));\n",
              "      fill: #FFFFFF;\n",
              "    }\n",
              "  </style>\n",
              "\n",
              "    <script>\n",
              "      const buttonEl =\n",
              "        document.querySelector('#df-30ecd998-341b-4c53-b07c-25c28675f9ec button.colab-df-convert');\n",
              "      buttonEl.style.display =\n",
              "        google.colab.kernel.accessAllowed ? 'block' : 'none';\n",
              "\n",
              "      async function convertToInteractive(key) {\n",
              "        const element = document.querySelector('#df-30ecd998-341b-4c53-b07c-25c28675f9ec');\n",
              "        const dataTable =\n",
              "          await google.colab.kernel.invokeFunction('convertToInteractive',\n",
              "                                                    [key], {});\n",
              "        if (!dataTable) return;\n",
              "\n",
              "        const docLinkHtml = 'Like what you see? Visit the ' +\n",
              "          '<a target=\"_blank\" href=https://colab.research.google.com/notebooks/data_table.ipynb>data table notebook</a>'\n",
              "          + ' to learn more about interactive tables.';\n",
              "        element.innerHTML = '';\n",
              "        dataTable['output_type'] = 'display_data';\n",
              "        await google.colab.output.renderOutput(dataTable, element);\n",
              "        const docLink = document.createElement('div');\n",
              "        docLink.innerHTML = docLinkHtml;\n",
              "        element.appendChild(docLink);\n",
              "      }\n",
              "    </script>\n",
              "  </div>\n",
              "\n",
              "\n",
              "<div id=\"df-ba4bdef1-4c08-4301-bf9a-34a6d7dfa753\">\n",
              "  <button class=\"colab-df-quickchart\" onclick=\"quickchart('df-ba4bdef1-4c08-4301-bf9a-34a6d7dfa753')\"\n",
              "            title=\"Suggest charts\"\n",
              "            style=\"display:none;\">\n",
              "\n",
              "<svg xmlns=\"http://www.w3.org/2000/svg\" height=\"24px\"viewBox=\"0 0 24 24\"\n",
              "     width=\"24px\">\n",
              "    <g>\n",
              "        <path d=\"M19 3H5c-1.1 0-2 .9-2 2v14c0 1.1.9 2 2 2h14c1.1 0 2-.9 2-2V5c0-1.1-.9-2-2-2zM9 17H7v-7h2v7zm4 0h-2V7h2v10zm4 0h-2v-4h2v4z\"/>\n",
              "    </g>\n",
              "</svg>\n",
              "  </button>\n",
              "\n",
              "<style>\n",
              "  .colab-df-quickchart {\n",
              "      --bg-color: #E8F0FE;\n",
              "      --fill-color: #1967D2;\n",
              "      --hover-bg-color: #E2EBFA;\n",
              "      --hover-fill-color: #174EA6;\n",
              "      --disabled-fill-color: #AAA;\n",
              "      --disabled-bg-color: #DDD;\n",
              "  }\n",
              "\n",
              "  [theme=dark] .colab-df-quickchart {\n",
              "      --bg-color: #3B4455;\n",
              "      --fill-color: #D2E3FC;\n",
              "      --hover-bg-color: #434B5C;\n",
              "      --hover-fill-color: #FFFFFF;\n",
              "      --disabled-bg-color: #3B4455;\n",
              "      --disabled-fill-color: #666;\n",
              "  }\n",
              "\n",
              "  .colab-df-quickchart {\n",
              "    background-color: var(--bg-color);\n",
              "    border: none;\n",
              "    border-radius: 50%;\n",
              "    cursor: pointer;\n",
              "    display: none;\n",
              "    fill: var(--fill-color);\n",
              "    height: 32px;\n",
              "    padding: 0;\n",
              "    width: 32px;\n",
              "  }\n",
              "\n",
              "  .colab-df-quickchart:hover {\n",
              "    background-color: var(--hover-bg-color);\n",
              "    box-shadow: 0 1px 2px rgba(60, 64, 67, 0.3), 0 1px 3px 1px rgba(60, 64, 67, 0.15);\n",
              "    fill: var(--button-hover-fill-color);\n",
              "  }\n",
              "\n",
              "  .colab-df-quickchart-complete:disabled,\n",
              "  .colab-df-quickchart-complete:disabled:hover {\n",
              "    background-color: var(--disabled-bg-color);\n",
              "    fill: var(--disabled-fill-color);\n",
              "    box-shadow: none;\n",
              "  }\n",
              "\n",
              "  .colab-df-spinner {\n",
              "    border: 2px solid var(--fill-color);\n",
              "    border-color: transparent;\n",
              "    border-bottom-color: var(--fill-color);\n",
              "    animation:\n",
              "      spin 1s steps(1) infinite;\n",
              "  }\n",
              "\n",
              "  @keyframes spin {\n",
              "    0% {\n",
              "      border-color: transparent;\n",
              "      border-bottom-color: var(--fill-color);\n",
              "      border-left-color: var(--fill-color);\n",
              "    }\n",
              "    20% {\n",
              "      border-color: transparent;\n",
              "      border-left-color: var(--fill-color);\n",
              "      border-top-color: var(--fill-color);\n",
              "    }\n",
              "    30% {\n",
              "      border-color: transparent;\n",
              "      border-left-color: var(--fill-color);\n",
              "      border-top-color: var(--fill-color);\n",
              "      border-right-color: var(--fill-color);\n",
              "    }\n",
              "    40% {\n",
              "      border-color: transparent;\n",
              "      border-right-color: var(--fill-color);\n",
              "      border-top-color: var(--fill-color);\n",
              "    }\n",
              "    60% {\n",
              "      border-color: transparent;\n",
              "      border-right-color: var(--fill-color);\n",
              "    }\n",
              "    80% {\n",
              "      border-color: transparent;\n",
              "      border-right-color: var(--fill-color);\n",
              "      border-bottom-color: var(--fill-color);\n",
              "    }\n",
              "    90% {\n",
              "      border-color: transparent;\n",
              "      border-bottom-color: var(--fill-color);\n",
              "    }\n",
              "  }\n",
              "</style>\n",
              "\n",
              "  <script>\n",
              "    async function quickchart(key) {\n",
              "      const quickchartButtonEl =\n",
              "        document.querySelector('#' + key + ' button');\n",
              "      quickchartButtonEl.disabled = true;  // To prevent multiple clicks.\n",
              "      quickchartButtonEl.classList.add('colab-df-spinner');\n",
              "      try {\n",
              "        const charts = await google.colab.kernel.invokeFunction(\n",
              "            'suggestCharts', [key], {});\n",
              "      } catch (error) {\n",
              "        console.error('Error during call to suggestCharts:', error);\n",
              "      }\n",
              "      quickchartButtonEl.classList.remove('colab-df-spinner');\n",
              "      quickchartButtonEl.classList.add('colab-df-quickchart-complete');\n",
              "    }\n",
              "    (() => {\n",
              "      let quickchartButtonEl =\n",
              "        document.querySelector('#df-ba4bdef1-4c08-4301-bf9a-34a6d7dfa753 button');\n",
              "      quickchartButtonEl.style.display =\n",
              "        google.colab.kernel.accessAllowed ? 'block' : 'none';\n",
              "    })();\n",
              "  </script>\n",
              "</div>\n",
              "\n",
              "    </div>\n",
              "  </div>\n"
            ],
            "application/vnd.google.colaboratory.intrinsic+json": {
              "type": "dataframe",
              "variable_name": "df2",
              "summary": "{\n  \"name\": \"df2\",\n  \"rows\": 4271,\n  \"fields\": [\n    {\n      \"column\": \"ID\",\n      \"properties\": {\n        \"dtype\": \"string\",\n        \"num_unique_values\": 4270,\n        \"samples\": [\n          \"lon3cbabqxsfdipw9plon3c9ppw1805p\",\n          \"q8n7by6t52wt15467rvzyq8n7by60zrc\",\n          \"xmrl95xsh1vjvdbyewlcc9qtnxmrl95x\"\n        ],\n        \"semantic_type\": \"\",\n        \"description\": \"\"\n      }\n    },\n    {\n      \"column\": \"Quanto tempo de experi\\u00eancia na \\u00e1rea de dados voc\\u00ea tem?\",\n      \"properties\": {\n        \"dtype\": \"category\",\n        \"num_unique_values\": 7,\n        \"samples\": [\n          \"de 1 a 2 anos\",\n          \"de 3 a 4 anos\",\n          \"Mais de 10 anos\"\n        ],\n        \"semantic_type\": \"\",\n        \"description\": \"\"\n      }\n    },\n    {\n      \"column\": \"Quanto tempo de experi\\u00eancia na \\u00e1rea de TI/Engenharia de Software voc\\u00ea teve antes de come\\u00e7ar a trabalhar na \\u00e1rea de dados?\",\n      \"properties\": {\n        \"dtype\": \"category\",\n        \"num_unique_values\": 7,\n        \"samples\": [\n          \"de 7 a 10 anos\",\n          \"Menos de 1 ano\",\n          \"de 5 a 6 anos\"\n        ],\n        \"semantic_type\": \"\",\n        \"description\": \"\"\n      }\n    },\n    {\n      \"column\": \"Voc\\u00ea est\\u00e1 satisfeito na sua empresa atual?\",\n      \"properties\": {\n        \"dtype\": \"category\",\n        \"num_unique_values\": 2,\n        \"samples\": [\n          false,\n          true\n        ],\n        \"semantic_type\": \"\",\n        \"description\": \"\"\n      }\n    },\n    {\n      \"column\": \"Qual o principal motivo da sua insatisfa\\u00e7\\u00e3o com a empresa atual?\",\n      \"properties\": {\n        \"dtype\": \"category\",\n        \"num_unique_values\": 221,\n        \"samples\": [\n          \"Falta de oportunidade de crescimento no emprego atual, Gostaria de receber mais benef\\u00edcios, Pouco reconhecimento financeiro pelo trabalho exercido. Gest\\u00e3o de pessoas deixa a desejar. Processos de mudan\\u00e7a s\\u00e3o engessados\",\n          \"Burocracia\"\n        ],\n        \"semantic_type\": \"\",\n        \"description\": \"\"\n      }\n    },\n    {\n      \"column\": \"Voc\\u00ea participou de entrevistas de emprego nos \\u00faltimos 6 meses?\",\n      \"properties\": {\n        \"dtype\": \"category\",\n        \"num_unique_values\": 4,\n        \"samples\": [\n          \"Sim, fiz entrevistas mas n\\u00e3o fui aprovado\",\n          \"Sim, fui aprovado mas decidi n\\u00e3o mudar de emprego\"\n        ],\n        \"semantic_type\": \"\",\n        \"description\": \"\"\n      }\n    },\n    {\n      \"column\": \"Voc\\u00ea pretende mudar de emprego nos pr\\u00f3ximos 6 meses?\",\n      \"properties\": {\n        \"dtype\": \"category\",\n        \"num_unique_values\": 4,\n        \"samples\": [\n          \"Estou em busca de oportunidades dentro ou fora do Brasil\",\n          \"Estou em busca de oportunidades, mas apenas fora do Brasil\"\n        ],\n        \"semantic_type\": \"\",\n        \"description\": \"\"\n      }\n    },\n    {\n      \"column\": \"Quais os principais crit\\u00e9rios que voc\\u00ea leva em considera\\u00e7\\u00e3o no momento de decidir onde trabalhar?\",\n      \"properties\": {\n        \"dtype\": \"category\",\n        \"num_unique_values\": 462,\n        \"samples\": [\n          \"Remunera\\u00e7\\u00e3o/Sal\\u00e1rio, Prop\\u00f3sito do trabalho e da empresa, Benef\\u00edcios\",\n          \"Flexibilidade de trabalho remoto, Ambiente e clima de trabalho, Oportunidade de aprendizado e trabalhar com refer\\u00eancias na \\u00e1rea\"\n        ],\n        \"semantic_type\": \"\",\n        \"description\": \"\"\n      }\n    },\n    {\n      \"column\": \"Atualmente qual a sua forma de trabalho?\",\n      \"properties\": {\n        \"dtype\": \"category\",\n        \"num_unique_values\": 4,\n        \"samples\": [\n          \"Modelo h\\u00edbrido com dias fixos de trabalho presencial\",\n          \"Modelo 100% remoto\"\n        ],\n        \"semantic_type\": \"\",\n        \"description\": \"\"\n      }\n    },\n    {\n      \"column\": \"Qual a forma de trabalho ideal para voc\\u00ea?\",\n      \"properties\": {\n        \"dtype\": \"category\",\n        \"num_unique_values\": 4,\n        \"samples\": [\n          \"Modelo h\\u00edbrido flex\\u00edvel (o funcion\\u00e1rio tem liberdade para escolher quando estar no escrit\\u00f3rio presencialmente)\",\n          \"Modelo 100% remoto\"\n        ],\n        \"semantic_type\": \"\",\n        \"description\": \"\"\n      }\n    },\n    {\n      \"column\": \"Caso sua empresa decida pelo modelo 100% presencial qual ser\\u00e1 sua atitude?\",\n      \"properties\": {\n        \"dtype\": \"category\",\n        \"num_unique_values\": 3,\n        \"samples\": [\n          \"Vou aceitar e retornar ao modelo 100% presencial\",\n          \"Vou procurar outra oportunidade no modelo h\\u00edbrido ou remoto\"\n        ],\n        \"semantic_type\": \"\",\n        \"description\": \"\"\n      }\n    },\n    {\n      \"column\": \"Sua empresa passu por Layoff em 2022?\",\n      \"properties\": {\n        \"dtype\": \"category\",\n        \"num_unique_values\": 3,\n        \"samples\": [\n          \"N\\u00e3o ocorreram layoffs/demiss\\u00f5es em massa na empresa em que trabalho\",\n          \"Sim, ocorreram layoffs/demiss\\u00f5es em massa na empresa em que trabalho mas n\\u00e3o fui afetado\"\n        ],\n        \"semantic_type\": \"\",\n        \"description\": \"\"\n      }\n    },\n    {\n      \"column\": \"Atuacao\",\n      \"properties\": {\n        \"dtype\": \"category\",\n        \"num_unique_values\": 6,\n        \"samples\": [\n          \"Engenharia de Dados\",\n          \"Gestor\"\n        ],\n        \"semantic_type\": \"\",\n        \"description\": \"\"\n      }\n    },\n    {\n      \"column\": \"Quais das linguagens listadas abaixo voc\\u00ea utiliza no trabalho?\",\n      \"properties\": {\n        \"dtype\": \"category\",\n        \"num_unique_values\": 208,\n        \"samples\": [\n          \"SQL, .NET, Java\",\n          \"SQL, Python, Java\"\n        ],\n        \"semantic_type\": \"\",\n        \"description\": \"\"\n      }\n    }\n  ]\n}"
            }
          },
          "metadata": {},
          "execution_count": 13
        }
      ]
    },
    {
      "cell_type": "code",
      "source": [
        "#ultimas linhas\n",
        "df2.tail()"
      ],
      "metadata": {
        "collapsed": true,
        "id": "6IZssrpXXJOe",
        "colab": {
          "base_uri": "https://localhost:8080/",
          "height": 764
        },
        "outputId": "65b682eb-4e8f-4054-a3d3-fc4861ed4c80"
      },
      "execution_count": 14,
      "outputs": [
        {
          "output_type": "execute_result",
          "data": {
            "text/plain": [
              "                                    ID  \\\n",
              "4266  01jnrn9f6va0menfhk2ztm01jnrn96bp   \n",
              "4267  01dyfxam4u4bi29fem01dyfxaq9akvqp   \n",
              "4268  00zw9ks9d40z4u00zz3d20iix65qpli3   \n",
              "4269  00xu7yujd7s57emj00xu7y0c3njix3de   \n",
              "4270  00lb35llmdsidpa00lb35qcdysnzvhv7   \n",
              "\n",
              "     Quanto tempo de experiência na área de dados você tem?  \\\n",
              "4266                                      de 3 a 4 anos       \n",
              "4267                                      de 1 a 2 anos       \n",
              "4268                                      de 4 a 6 anos       \n",
              "4269                                     Menos de 1 ano       \n",
              "4270                                      de 1 a 2 anos       \n",
              "\n",
              "     Quanto tempo de experiência na área de TI/Engenharia de Software você teve antes de começar a trabalhar na área de dados?  \\\n",
              "4266                                     de 7 a 10 anos                                                                          \n",
              "4267  Não tive experiência na área de TI/Engenharia ...                                                                          \n",
              "4268  Não tive experiência na área de TI/Engenharia ...                                                                          \n",
              "4269  Não tive experiência na área de TI/Engenharia ...                                                                          \n",
              "4270  Não tive experiência na área de TI/Engenharia ...                                                                          \n",
              "\n",
              "     Você está satisfeito na sua empresa atual?  \\\n",
              "4266                                       True   \n",
              "4267                                       True   \n",
              "4268                                       True   \n",
              "4269                                       True   \n",
              "4270                                      False   \n",
              "\n",
              "     Qual o principal motivo da sua insatisfação com a empresa atual?  \\\n",
              "4266                                                NaN                 \n",
              "4267                                                NaN                 \n",
              "4268                                                NaN                 \n",
              "4269                                                NaN                 \n",
              "4270  Salário atual não corresponde ao mercado, Falt...                 \n",
              "\n",
              "     Você participou de entrevistas de emprego nos últimos 6 meses?  \\\n",
              "4266               Sim, fui aprovado e mudei de emprego               \n",
              "4267  Não participei de entrevistas de emprego/proce...               \n",
              "4268  Sim, fui aprovado mas decidi não mudar de emprego               \n",
              "4269  Não participei de entrevistas de emprego/proce...               \n",
              "4270          Sim, fiz entrevistas mas não fui aprovado               \n",
              "\n",
              "     Você pretende mudar de emprego nos próximos 6 meses?  \\\n",
              "4266  Não estou buscando e não pretendo mudar de emp...     \n",
              "4267  Não estou buscando e não pretendo mudar de emp...     \n",
              "4268  Não estou buscando, mas me considero aberto a ...     \n",
              "4269  Estou em busca de oportunidades dentro ou fora...     \n",
              "4270  Estou em busca de oportunidades dentro ou fora...     \n",
              "\n",
              "     Quais os principais critérios que você leva em consideração no momento de decidir onde trabalhar?  \\\n",
              "4266  Remuneração/Salário, Benefícios, Flexibilidade...                                                  \n",
              "4267  Ambiente e clima de trabalho, Plano de carreir...                                                  \n",
              "4268  Remuneração/Salário, Ambiente e clima de traba...                                                  \n",
              "4269  Oportunidade de aprendizado e trabalhar com re...                                                  \n",
              "4270  Remuneração/Salário, Oportunidade de aprendiza...                                                  \n",
              "\n",
              "               Atualmente qual a sua forma de trabalho?  \\\n",
              "4266                                 Modelo 100% remoto   \n",
              "4267                                 Modelo 100% remoto   \n",
              "4268  Modelo híbrido com dias fixos de trabalho pres...   \n",
              "4269                             Modelo 100% presencial   \n",
              "4270                                 Modelo 100% remoto   \n",
              "\n",
              "              Qual a forma de trabalho ideal para você?  \\\n",
              "4266  Modelo híbrido flexível (o funcionário tem lib...   \n",
              "4267  Modelo híbrido flexível (o funcionário tem lib...   \n",
              "4268  Modelo híbrido flexível (o funcionário tem lib...   \n",
              "4269                             Modelo 100% presencial   \n",
              "4270                                 Modelo 100% remoto   \n",
              "\n",
              "     Caso sua empresa decida pelo modelo 100% presencial qual será sua atitude?  \\\n",
              "4266  Vou procurar outra oportunidade no modelo híbr...                           \n",
              "4267   Vou aceitar e retornar ao modelo 100% presencial                           \n",
              "4268  Vou procurar outra oportunidade no modelo híbr...                           \n",
              "4269   Vou aceitar e retornar ao modelo 100% presencial                           \n",
              "4270  Vou procurar outra oportunidade no modelo 100%...                           \n",
              "\n",
              "                  Sua empresa passu por Layoff em 2022?              Atuacao  \\\n",
              "4266  Não ocorreram layoffs/demissões em massa na em...     Análise de Dados   \n",
              "4267  Não ocorreram layoffs/demissões em massa na em...  Engenharia de Dados   \n",
              "4268  Sim, ocorreram layoffs/demissões em massa na e...               Gestor   \n",
              "4269  Não ocorreram layoffs/demissões em massa na em...        Outra atuação   \n",
              "4270  Não ocorreram layoffs/demissões em massa na em...     Análise de Dados   \n",
              "\n",
              "     Quais das linguagens listadas abaixo você utiliza no trabalho?  \n",
              "4266                                                SQL              \n",
              "4267                                        SQL, Python              \n",
              "4268                                                NaN              \n",
              "4269                                        Python, SQL              \n",
              "4270                                                SQL              "
            ],
            "text/html": [
              "\n",
              "  <div id=\"df-110a0e5d-2d86-4af3-ad0a-e96a4a6cc9c6\" class=\"colab-df-container\">\n",
              "    <div>\n",
              "<style scoped>\n",
              "    .dataframe tbody tr th:only-of-type {\n",
              "        vertical-align: middle;\n",
              "    }\n",
              "\n",
              "    .dataframe tbody tr th {\n",
              "        vertical-align: top;\n",
              "    }\n",
              "\n",
              "    .dataframe thead th {\n",
              "        text-align: right;\n",
              "    }\n",
              "</style>\n",
              "<table border=\"1\" class=\"dataframe\">\n",
              "  <thead>\n",
              "    <tr style=\"text-align: right;\">\n",
              "      <th></th>\n",
              "      <th>ID</th>\n",
              "      <th>Quanto tempo de experiência na área de dados você tem?</th>\n",
              "      <th>Quanto tempo de experiência na área de TI/Engenharia de Software você teve antes de começar a trabalhar na área de dados?</th>\n",
              "      <th>Você está satisfeito na sua empresa atual?</th>\n",
              "      <th>Qual o principal motivo da sua insatisfação com a empresa atual?</th>\n",
              "      <th>Você participou de entrevistas de emprego nos últimos 6 meses?</th>\n",
              "      <th>Você pretende mudar de emprego nos próximos 6 meses?</th>\n",
              "      <th>Quais os principais critérios que você leva em consideração no momento de decidir onde trabalhar?</th>\n",
              "      <th>Atualmente qual a sua forma de trabalho?</th>\n",
              "      <th>Qual a forma de trabalho ideal para você?</th>\n",
              "      <th>Caso sua empresa decida pelo modelo 100% presencial qual será sua atitude?</th>\n",
              "      <th>Sua empresa passu por Layoff em 2022?</th>\n",
              "      <th>Atuacao</th>\n",
              "      <th>Quais das linguagens listadas abaixo você utiliza no trabalho?</th>\n",
              "    </tr>\n",
              "  </thead>\n",
              "  <tbody>\n",
              "    <tr>\n",
              "      <th>4266</th>\n",
              "      <td>01jnrn9f6va0menfhk2ztm01jnrn96bp</td>\n",
              "      <td>de 3 a 4 anos</td>\n",
              "      <td>de 7 a 10 anos</td>\n",
              "      <td>True</td>\n",
              "      <td>NaN</td>\n",
              "      <td>Sim, fui aprovado e mudei de emprego</td>\n",
              "      <td>Não estou buscando e não pretendo mudar de emp...</td>\n",
              "      <td>Remuneração/Salário, Benefícios, Flexibilidade...</td>\n",
              "      <td>Modelo 100% remoto</td>\n",
              "      <td>Modelo híbrido flexível (o funcionário tem lib...</td>\n",
              "      <td>Vou procurar outra oportunidade no modelo híbr...</td>\n",
              "      <td>Não ocorreram layoffs/demissões em massa na em...</td>\n",
              "      <td>Análise de Dados</td>\n",
              "      <td>SQL</td>\n",
              "    </tr>\n",
              "    <tr>\n",
              "      <th>4267</th>\n",
              "      <td>01dyfxam4u4bi29fem01dyfxaq9akvqp</td>\n",
              "      <td>de 1 a 2 anos</td>\n",
              "      <td>Não tive experiência na área de TI/Engenharia ...</td>\n",
              "      <td>True</td>\n",
              "      <td>NaN</td>\n",
              "      <td>Não participei de entrevistas de emprego/proce...</td>\n",
              "      <td>Não estou buscando e não pretendo mudar de emp...</td>\n",
              "      <td>Ambiente e clima de trabalho, Plano de carreir...</td>\n",
              "      <td>Modelo 100% remoto</td>\n",
              "      <td>Modelo híbrido flexível (o funcionário tem lib...</td>\n",
              "      <td>Vou aceitar e retornar ao modelo 100% presencial</td>\n",
              "      <td>Não ocorreram layoffs/demissões em massa na em...</td>\n",
              "      <td>Engenharia de Dados</td>\n",
              "      <td>SQL, Python</td>\n",
              "    </tr>\n",
              "    <tr>\n",
              "      <th>4268</th>\n",
              "      <td>00zw9ks9d40z4u00zz3d20iix65qpli3</td>\n",
              "      <td>de 4 a 6 anos</td>\n",
              "      <td>Não tive experiência na área de TI/Engenharia ...</td>\n",
              "      <td>True</td>\n",
              "      <td>NaN</td>\n",
              "      <td>Sim, fui aprovado mas decidi não mudar de emprego</td>\n",
              "      <td>Não estou buscando, mas me considero aberto a ...</td>\n",
              "      <td>Remuneração/Salário, Ambiente e clima de traba...</td>\n",
              "      <td>Modelo híbrido com dias fixos de trabalho pres...</td>\n",
              "      <td>Modelo híbrido flexível (o funcionário tem lib...</td>\n",
              "      <td>Vou procurar outra oportunidade no modelo híbr...</td>\n",
              "      <td>Sim, ocorreram layoffs/demissões em massa na e...</td>\n",
              "      <td>Gestor</td>\n",
              "      <td>NaN</td>\n",
              "    </tr>\n",
              "    <tr>\n",
              "      <th>4269</th>\n",
              "      <td>00xu7yujd7s57emj00xu7y0c3njix3de</td>\n",
              "      <td>Menos de 1 ano</td>\n",
              "      <td>Não tive experiência na área de TI/Engenharia ...</td>\n",
              "      <td>True</td>\n",
              "      <td>NaN</td>\n",
              "      <td>Não participei de entrevistas de emprego/proce...</td>\n",
              "      <td>Estou em busca de oportunidades dentro ou fora...</td>\n",
              "      <td>Oportunidade de aprendizado e trabalhar com re...</td>\n",
              "      <td>Modelo 100% presencial</td>\n",
              "      <td>Modelo 100% presencial</td>\n",
              "      <td>Vou aceitar e retornar ao modelo 100% presencial</td>\n",
              "      <td>Não ocorreram layoffs/demissões em massa na em...</td>\n",
              "      <td>Outra atuação</td>\n",
              "      <td>Python, SQL</td>\n",
              "    </tr>\n",
              "    <tr>\n",
              "      <th>4270</th>\n",
              "      <td>00lb35llmdsidpa00lb35qcdysnzvhv7</td>\n",
              "      <td>de 1 a 2 anos</td>\n",
              "      <td>Não tive experiência na área de TI/Engenharia ...</td>\n",
              "      <td>False</td>\n",
              "      <td>Salário atual não corresponde ao mercado, Falt...</td>\n",
              "      <td>Sim, fiz entrevistas mas não fui aprovado</td>\n",
              "      <td>Estou em busca de oportunidades dentro ou fora...</td>\n",
              "      <td>Remuneração/Salário, Oportunidade de aprendiza...</td>\n",
              "      <td>Modelo 100% remoto</td>\n",
              "      <td>Modelo 100% remoto</td>\n",
              "      <td>Vou procurar outra oportunidade no modelo 100%...</td>\n",
              "      <td>Não ocorreram layoffs/demissões em massa na em...</td>\n",
              "      <td>Análise de Dados</td>\n",
              "      <td>SQL</td>\n",
              "    </tr>\n",
              "  </tbody>\n",
              "</table>\n",
              "</div>\n",
              "    <div class=\"colab-df-buttons\">\n",
              "\n",
              "  <div class=\"colab-df-container\">\n",
              "    <button class=\"colab-df-convert\" onclick=\"convertToInteractive('df-110a0e5d-2d86-4af3-ad0a-e96a4a6cc9c6')\"\n",
              "            title=\"Convert this dataframe to an interactive table.\"\n",
              "            style=\"display:none;\">\n",
              "\n",
              "  <svg xmlns=\"http://www.w3.org/2000/svg\" height=\"24px\" viewBox=\"0 -960 960 960\">\n",
              "    <path d=\"M120-120v-720h720v720H120Zm60-500h600v-160H180v160Zm220 220h160v-160H400v160Zm0 220h160v-160H400v160ZM180-400h160v-160H180v160Zm440 0h160v-160H620v160ZM180-180h160v-160H180v160Zm440 0h160v-160H620v160Z\"/>\n",
              "  </svg>\n",
              "    </button>\n",
              "\n",
              "  <style>\n",
              "    .colab-df-container {\n",
              "      display:flex;\n",
              "      gap: 12px;\n",
              "    }\n",
              "\n",
              "    .colab-df-convert {\n",
              "      background-color: #E8F0FE;\n",
              "      border: none;\n",
              "      border-radius: 50%;\n",
              "      cursor: pointer;\n",
              "      display: none;\n",
              "      fill: #1967D2;\n",
              "      height: 32px;\n",
              "      padding: 0 0 0 0;\n",
              "      width: 32px;\n",
              "    }\n",
              "\n",
              "    .colab-df-convert:hover {\n",
              "      background-color: #E2EBFA;\n",
              "      box-shadow: 0px 1px 2px rgba(60, 64, 67, 0.3), 0px 1px 3px 1px rgba(60, 64, 67, 0.15);\n",
              "      fill: #174EA6;\n",
              "    }\n",
              "\n",
              "    .colab-df-buttons div {\n",
              "      margin-bottom: 4px;\n",
              "    }\n",
              "\n",
              "    [theme=dark] .colab-df-convert {\n",
              "      background-color: #3B4455;\n",
              "      fill: #D2E3FC;\n",
              "    }\n",
              "\n",
              "    [theme=dark] .colab-df-convert:hover {\n",
              "      background-color: #434B5C;\n",
              "      box-shadow: 0px 1px 3px 1px rgba(0, 0, 0, 0.15);\n",
              "      filter: drop-shadow(0px 1px 2px rgba(0, 0, 0, 0.3));\n",
              "      fill: #FFFFFF;\n",
              "    }\n",
              "  </style>\n",
              "\n",
              "    <script>\n",
              "      const buttonEl =\n",
              "        document.querySelector('#df-110a0e5d-2d86-4af3-ad0a-e96a4a6cc9c6 button.colab-df-convert');\n",
              "      buttonEl.style.display =\n",
              "        google.colab.kernel.accessAllowed ? 'block' : 'none';\n",
              "\n",
              "      async function convertToInteractive(key) {\n",
              "        const element = document.querySelector('#df-110a0e5d-2d86-4af3-ad0a-e96a4a6cc9c6');\n",
              "        const dataTable =\n",
              "          await google.colab.kernel.invokeFunction('convertToInteractive',\n",
              "                                                    [key], {});\n",
              "        if (!dataTable) return;\n",
              "\n",
              "        const docLinkHtml = 'Like what you see? Visit the ' +\n",
              "          '<a target=\"_blank\" href=https://colab.research.google.com/notebooks/data_table.ipynb>data table notebook</a>'\n",
              "          + ' to learn more about interactive tables.';\n",
              "        element.innerHTML = '';\n",
              "        dataTable['output_type'] = 'display_data';\n",
              "        await google.colab.output.renderOutput(dataTable, element);\n",
              "        const docLink = document.createElement('div');\n",
              "        docLink.innerHTML = docLinkHtml;\n",
              "        element.appendChild(docLink);\n",
              "      }\n",
              "    </script>\n",
              "  </div>\n",
              "\n",
              "\n",
              "<div id=\"df-6c2092d8-5735-4c74-b21b-cf63b75e1aad\">\n",
              "  <button class=\"colab-df-quickchart\" onclick=\"quickchart('df-6c2092d8-5735-4c74-b21b-cf63b75e1aad')\"\n",
              "            title=\"Suggest charts\"\n",
              "            style=\"display:none;\">\n",
              "\n",
              "<svg xmlns=\"http://www.w3.org/2000/svg\" height=\"24px\"viewBox=\"0 0 24 24\"\n",
              "     width=\"24px\">\n",
              "    <g>\n",
              "        <path d=\"M19 3H5c-1.1 0-2 .9-2 2v14c0 1.1.9 2 2 2h14c1.1 0 2-.9 2-2V5c0-1.1-.9-2-2-2zM9 17H7v-7h2v7zm4 0h-2V7h2v10zm4 0h-2v-4h2v4z\"/>\n",
              "    </g>\n",
              "</svg>\n",
              "  </button>\n",
              "\n",
              "<style>\n",
              "  .colab-df-quickchart {\n",
              "      --bg-color: #E8F0FE;\n",
              "      --fill-color: #1967D2;\n",
              "      --hover-bg-color: #E2EBFA;\n",
              "      --hover-fill-color: #174EA6;\n",
              "      --disabled-fill-color: #AAA;\n",
              "      --disabled-bg-color: #DDD;\n",
              "  }\n",
              "\n",
              "  [theme=dark] .colab-df-quickchart {\n",
              "      --bg-color: #3B4455;\n",
              "      --fill-color: #D2E3FC;\n",
              "      --hover-bg-color: #434B5C;\n",
              "      --hover-fill-color: #FFFFFF;\n",
              "      --disabled-bg-color: #3B4455;\n",
              "      --disabled-fill-color: #666;\n",
              "  }\n",
              "\n",
              "  .colab-df-quickchart {\n",
              "    background-color: var(--bg-color);\n",
              "    border: none;\n",
              "    border-radius: 50%;\n",
              "    cursor: pointer;\n",
              "    display: none;\n",
              "    fill: var(--fill-color);\n",
              "    height: 32px;\n",
              "    padding: 0;\n",
              "    width: 32px;\n",
              "  }\n",
              "\n",
              "  .colab-df-quickchart:hover {\n",
              "    background-color: var(--hover-bg-color);\n",
              "    box-shadow: 0 1px 2px rgba(60, 64, 67, 0.3), 0 1px 3px 1px rgba(60, 64, 67, 0.15);\n",
              "    fill: var(--button-hover-fill-color);\n",
              "  }\n",
              "\n",
              "  .colab-df-quickchart-complete:disabled,\n",
              "  .colab-df-quickchart-complete:disabled:hover {\n",
              "    background-color: var(--disabled-bg-color);\n",
              "    fill: var(--disabled-fill-color);\n",
              "    box-shadow: none;\n",
              "  }\n",
              "\n",
              "  .colab-df-spinner {\n",
              "    border: 2px solid var(--fill-color);\n",
              "    border-color: transparent;\n",
              "    border-bottom-color: var(--fill-color);\n",
              "    animation:\n",
              "      spin 1s steps(1) infinite;\n",
              "  }\n",
              "\n",
              "  @keyframes spin {\n",
              "    0% {\n",
              "      border-color: transparent;\n",
              "      border-bottom-color: var(--fill-color);\n",
              "      border-left-color: var(--fill-color);\n",
              "    }\n",
              "    20% {\n",
              "      border-color: transparent;\n",
              "      border-left-color: var(--fill-color);\n",
              "      border-top-color: var(--fill-color);\n",
              "    }\n",
              "    30% {\n",
              "      border-color: transparent;\n",
              "      border-left-color: var(--fill-color);\n",
              "      border-top-color: var(--fill-color);\n",
              "      border-right-color: var(--fill-color);\n",
              "    }\n",
              "    40% {\n",
              "      border-color: transparent;\n",
              "      border-right-color: var(--fill-color);\n",
              "      border-top-color: var(--fill-color);\n",
              "    }\n",
              "    60% {\n",
              "      border-color: transparent;\n",
              "      border-right-color: var(--fill-color);\n",
              "    }\n",
              "    80% {\n",
              "      border-color: transparent;\n",
              "      border-right-color: var(--fill-color);\n",
              "      border-bottom-color: var(--fill-color);\n",
              "    }\n",
              "    90% {\n",
              "      border-color: transparent;\n",
              "      border-bottom-color: var(--fill-color);\n",
              "    }\n",
              "  }\n",
              "</style>\n",
              "\n",
              "  <script>\n",
              "    async function quickchart(key) {\n",
              "      const quickchartButtonEl =\n",
              "        document.querySelector('#' + key + ' button');\n",
              "      quickchartButtonEl.disabled = true;  // To prevent multiple clicks.\n",
              "      quickchartButtonEl.classList.add('colab-df-spinner');\n",
              "      try {\n",
              "        const charts = await google.colab.kernel.invokeFunction(\n",
              "            'suggestCharts', [key], {});\n",
              "      } catch (error) {\n",
              "        console.error('Error during call to suggestCharts:', error);\n",
              "      }\n",
              "      quickchartButtonEl.classList.remove('colab-df-spinner');\n",
              "      quickchartButtonEl.classList.add('colab-df-quickchart-complete');\n",
              "    }\n",
              "    (() => {\n",
              "      let quickchartButtonEl =\n",
              "        document.querySelector('#df-6c2092d8-5735-4c74-b21b-cf63b75e1aad button');\n",
              "      quickchartButtonEl.style.display =\n",
              "        google.colab.kernel.accessAllowed ? 'block' : 'none';\n",
              "    })();\n",
              "  </script>\n",
              "</div>\n",
              "\n",
              "    </div>\n",
              "  </div>\n"
            ],
            "application/vnd.google.colaboratory.intrinsic+json": {
              "type": "dataframe",
              "summary": "{\n  \"name\": \"df2\",\n  \"rows\": 5,\n  \"fields\": [\n    {\n      \"column\": \"ID\",\n      \"properties\": {\n        \"dtype\": \"string\",\n        \"num_unique_values\": 5,\n        \"samples\": [\n          \"01dyfxam4u4bi29fem01dyfxaq9akvqp\",\n          \"00lb35llmdsidpa00lb35qcdysnzvhv7\",\n          \"00zw9ks9d40z4u00zz3d20iix65qpli3\"\n        ],\n        \"semantic_type\": \"\",\n        \"description\": \"\"\n      }\n    },\n    {\n      \"column\": \"Quanto tempo de experi\\u00eancia na \\u00e1rea de dados voc\\u00ea tem?\",\n      \"properties\": {\n        \"dtype\": \"string\",\n        \"num_unique_values\": 4,\n        \"samples\": [\n          \"de 1 a 2 anos\",\n          \"Menos de 1 ano\",\n          \"de 3 a 4 anos\"\n        ],\n        \"semantic_type\": \"\",\n        \"description\": \"\"\n      }\n    },\n    {\n      \"column\": \"Quanto tempo de experi\\u00eancia na \\u00e1rea de TI/Engenharia de Software voc\\u00ea teve antes de come\\u00e7ar a trabalhar na \\u00e1rea de dados?\",\n      \"properties\": {\n        \"dtype\": \"category\",\n        \"num_unique_values\": 2,\n        \"samples\": [\n          \"N\\u00e3o tive experi\\u00eancia na \\u00e1rea de TI/Engenharia de Software antes de come\\u00e7ar a trabalhar na \\u00e1rea de dados\",\n          \"de 7 a 10 anos\"\n        ],\n        \"semantic_type\": \"\",\n        \"description\": \"\"\n      }\n    },\n    {\n      \"column\": \"Voc\\u00ea est\\u00e1 satisfeito na sua empresa atual?\",\n      \"properties\": {\n        \"dtype\": \"category\",\n        \"num_unique_values\": 2,\n        \"samples\": [\n          false,\n          true\n        ],\n        \"semantic_type\": \"\",\n        \"description\": \"\"\n      }\n    },\n    {\n      \"column\": \"Qual o principal motivo da sua insatisfa\\u00e7\\u00e3o com a empresa atual?\",\n      \"properties\": {\n        \"dtype\": \"category\",\n        \"num_unique_values\": 1,\n        \"samples\": [\n          \"Sal\\u00e1rio atual n\\u00e3o corresponde ao mercado, Falta de oportunidade de crescimento no emprego atual, Gostaria de trabalhar em em outra \\u00e1rea de atua\\u00e7\\u00e3o\"\n        ],\n        \"semantic_type\": \"\",\n        \"description\": \"\"\n      }\n    },\n    {\n      \"column\": \"Voc\\u00ea participou de entrevistas de emprego nos \\u00faltimos 6 meses?\",\n      \"properties\": {\n        \"dtype\": \"string\",\n        \"num_unique_values\": 4,\n        \"samples\": [\n          \"N\\u00e3o participei de entrevistas de emprego/processos seletivos nos \\u00faltimos 6 meses\"\n        ],\n        \"semantic_type\": \"\",\n        \"description\": \"\"\n      }\n    },\n    {\n      \"column\": \"Voc\\u00ea pretende mudar de emprego nos pr\\u00f3ximos 6 meses?\",\n      \"properties\": {\n        \"dtype\": \"string\",\n        \"num_unique_values\": 3,\n        \"samples\": [\n          \"N\\u00e3o estou buscando e n\\u00e3o pretendo mudar de emprego nos pr\\u00f3ximos 6 meses\"\n        ],\n        \"semantic_type\": \"\",\n        \"description\": \"\"\n      }\n    },\n    {\n      \"column\": \"Quais os principais crit\\u00e9rios que voc\\u00ea leva em considera\\u00e7\\u00e3o no momento de decidir onde trabalhar?\",\n      \"properties\": {\n        \"dtype\": \"string\",\n        \"num_unique_values\": 5,\n        \"samples\": [\n          \"Ambiente e clima de trabalho, Plano de carreira e oportunidades de crescimento profissional\"\n        ],\n        \"semantic_type\": \"\",\n        \"description\": \"\"\n      }\n    },\n    {\n      \"column\": \"Atualmente qual a sua forma de trabalho?\",\n      \"properties\": {\n        \"dtype\": \"string\",\n        \"num_unique_values\": 3,\n        \"samples\": [\n          \"Modelo 100% remoto\"\n        ],\n        \"semantic_type\": \"\",\n        \"description\": \"\"\n      }\n    },\n    {\n      \"column\": \"Qual a forma de trabalho ideal para voc\\u00ea?\",\n      \"properties\": {\n        \"dtype\": \"string\",\n        \"num_unique_values\": 3,\n        \"samples\": [\n          \"Modelo h\\u00edbrido flex\\u00edvel (o funcion\\u00e1rio tem liberdade para escolher quando estar no escrit\\u00f3rio presencialmente)\"\n        ],\n        \"semantic_type\": \"\",\n        \"description\": \"\"\n      }\n    },\n    {\n      \"column\": \"Caso sua empresa decida pelo modelo 100% presencial qual ser\\u00e1 sua atitude?\",\n      \"properties\": {\n        \"dtype\": \"string\",\n        \"num_unique_values\": 3,\n        \"samples\": [\n          \"Vou procurar outra oportunidade no modelo h\\u00edbrido ou remoto\"\n        ],\n        \"semantic_type\": \"\",\n        \"description\": \"\"\n      }\n    },\n    {\n      \"column\": \"Sua empresa passu por Layoff em 2022?\",\n      \"properties\": {\n        \"dtype\": \"category\",\n        \"num_unique_values\": 2,\n        \"samples\": [\n          \"Sim, ocorreram layoffs/demiss\\u00f5es em massa na empresa em que trabalho mas n\\u00e3o fui afetado\"\n        ],\n        \"semantic_type\": \"\",\n        \"description\": \"\"\n      }\n    },\n    {\n      \"column\": \"Atuacao\",\n      \"properties\": {\n        \"dtype\": \"string\",\n        \"num_unique_values\": 4,\n        \"samples\": [\n          \"Engenharia de Dados\"\n        ],\n        \"semantic_type\": \"\",\n        \"description\": \"\"\n      }\n    },\n    {\n      \"column\": \"Quais das linguagens listadas abaixo voc\\u00ea utiliza no trabalho?\",\n      \"properties\": {\n        \"dtype\": \"string\",\n        \"num_unique_values\": 3,\n        \"samples\": [\n          \"SQL\"\n        ],\n        \"semantic_type\": \"\",\n        \"description\": \"\"\n      }\n    }\n  ]\n}"
            }
          },
          "metadata": {},
          "execution_count": 14
        }
      ]
    },
    {
      "cell_type": "code",
      "source": [
        "print(\"Dimensões (linhas, colunas):\", df2.shape)"
      ],
      "metadata": {
        "id": "LVA4U8ndV81z",
        "colab": {
          "base_uri": "https://localhost:8080/"
        },
        "outputId": "03e82fad-4955-46e7-e74f-9bf684daa1c7"
      },
      "execution_count": 15,
      "outputs": [
        {
          "output_type": "stream",
          "name": "stdout",
          "text": [
            "Dimensões (linhas, colunas): (4271, 14)\n"
          ]
        }
      ]
    },
    {
      "cell_type": "code",
      "source": [
        "print(\"Número de registros (linhas):\", len(df2))"
      ],
      "metadata": {
        "id": "VkpkJ-HIWG9g",
        "colab": {
          "base_uri": "https://localhost:8080/"
        },
        "outputId": "cc00f521-3915-4c4f-f096-017327c7a707"
      },
      "execution_count": 16,
      "outputs": [
        {
          "output_type": "stream",
          "name": "stdout",
          "text": [
            "Número de registros (linhas): 4271\n"
          ]
        }
      ]
    },
    {
      "cell_type": "code",
      "source": [
        "print(\"Colunas Disponíveis:\", df2.columns)"
      ],
      "metadata": {
        "collapsed": true,
        "id": "86TEW62mWPAI",
        "colab": {
          "base_uri": "https://localhost:8080/"
        },
        "outputId": "eaed5ead-a746-45ee-8642-a5b2f7bf4cc3"
      },
      "execution_count": 17,
      "outputs": [
        {
          "output_type": "stream",
          "name": "stdout",
          "text": [
            "Colunas Disponíveis: Index(['ID', 'Quanto tempo de experiência na área de dados você tem?',\n",
            "       'Quanto tempo de experiência na área de TI/Engenharia de Software você teve antes de começar a trabalhar na área de dados?',\n",
            "       'Você está satisfeito na sua empresa atual?',\n",
            "       'Qual o principal motivo da sua insatisfação com a empresa atual?',\n",
            "       'Você participou de entrevistas de emprego nos últimos 6 meses?',\n",
            "       'Você pretende mudar de emprego nos próximos 6 meses?',\n",
            "       'Quais os principais critérios que você leva em consideração no momento de decidir onde trabalhar?',\n",
            "       'Atualmente qual a sua forma de trabalho?',\n",
            "       'Qual a forma de trabalho ideal para você?',\n",
            "       'Caso sua empresa decida pelo modelo 100% presencial qual será sua atitude?',\n",
            "       'Sua empresa passu por Layoff em 2022?', 'Atuacao',\n",
            "       'Quais das linguagens listadas abaixo você utiliza no trabalho?'],\n",
            "      dtype='object')\n"
          ]
        }
      ]
    },
    {
      "cell_type": "code",
      "source": [
        "# Informações gerais sobre o DataFrame\n",
        "df2.info()"
      ],
      "metadata": {
        "collapsed": true,
        "id": "AlfTmuh8WXx_",
        "colab": {
          "base_uri": "https://localhost:8080/"
        },
        "outputId": "6bd7ba42-d0b9-421c-a082-7149ae3dea39"
      },
      "execution_count": 18,
      "outputs": [
        {
          "output_type": "stream",
          "name": "stdout",
          "text": [
            "<class 'pandas.core.frame.DataFrame'>\n",
            "RangeIndex: 4271 entries, 0 to 4270\n",
            "Data columns (total 14 columns):\n",
            " #   Column                                                                                                                     Non-Null Count  Dtype \n",
            "---  ------                                                                                                                     --------------  ----- \n",
            " 0   ID                                                                                                                         4271 non-null   object\n",
            " 1   Quanto tempo de experiência na área de dados você tem?                                                                     3694 non-null   object\n",
            " 2   Quanto tempo de experiência na área de TI/Engenharia de Software você teve antes de começar a trabalhar na área de dados?  3694 non-null   object\n",
            " 3   Você está satisfeito na sua empresa atual?                                                                                 3694 non-null   object\n",
            " 4   Qual o principal motivo da sua insatisfação com a empresa atual?                                                           960 non-null    object\n",
            " 5   Você participou de entrevistas de emprego nos últimos 6 meses?                                                             3694 non-null   object\n",
            " 6   Você pretende mudar de emprego nos próximos 6 meses?                                                                       3694 non-null   object\n",
            " 7   Quais os principais critérios que você leva em consideração no momento de decidir onde trabalhar?                          3694 non-null   object\n",
            " 8   Atualmente qual a sua forma de trabalho?                                                                                   3694 non-null   object\n",
            " 9   Qual a forma de trabalho ideal para você?                                                                                  3694 non-null   object\n",
            " 10  Caso sua empresa decida pelo modelo 100% presencial qual será sua atitude?                                                 3694 non-null   object\n",
            " 11  Sua empresa passu por Layoff em 2022?                                                                                      3694 non-null   object\n",
            " 12  Atuacao                                                                                                                    4271 non-null   object\n",
            " 13  Quais das linguagens listadas abaixo você utiliza no trabalho?                                                             2981 non-null   object\n",
            "dtypes: object(14)\n",
            "memory usage: 467.3+ KB\n"
          ]
        }
      ]
    },
    {
      "cell_type": "code",
      "source": [
        "# Estatísticas descritivas básicas\n",
        "df2.describe()"
      ],
      "metadata": {
        "collapsed": true,
        "id": "kDZpuYwEWb-2",
        "colab": {
          "base_uri": "https://localhost:8080/",
          "height": 472
        },
        "outputId": "ac076b88-9460-403a-ed5d-b4ae14bd1f39"
      },
      "execution_count": 19,
      "outputs": [
        {
          "output_type": "execute_result",
          "data": {
            "text/plain": [
              "                                      ID  \\\n",
              "count                               4271   \n",
              "unique                              4270   \n",
              "top     x4w2zctsfwfqh3q8aphgx4w2zflx9d1u   \n",
              "freq                                   2   \n",
              "\n",
              "       Quanto tempo de experiência na área de dados você tem?  \\\n",
              "count                                                3694       \n",
              "unique                                                  7       \n",
              "top                                         de 1 a 2 anos       \n",
              "freq                                                  980       \n",
              "\n",
              "       Quanto tempo de experiência na área de TI/Engenharia de Software você teve antes de começar a trabalhar na área de dados?  \\\n",
              "count                                                3694                                                                          \n",
              "unique                                                  7                                                                          \n",
              "top     Não tive experiência na área de TI/Engenharia ...                                                                          \n",
              "freq                                                 1605                                                                          \n",
              "\n",
              "       Você está satisfeito na sua empresa atual?  \\\n",
              "count                                        3694   \n",
              "unique                                          2   \n",
              "top                                          True   \n",
              "freq                                         2734   \n",
              "\n",
              "       Qual o principal motivo da sua insatisfação com a empresa atual?  \\\n",
              "count                                                 960                 \n",
              "unique                                                221                 \n",
              "top     Gostaria de trabalhar em em outra área de atuação                 \n",
              "freq                                                  112                 \n",
              "\n",
              "       Você participou de entrevistas de emprego nos últimos 6 meses?  \\\n",
              "count                                                3694               \n",
              "unique                                                  4               \n",
              "top     Não participei de entrevistas de emprego/proce...               \n",
              "freq                                                 1672               \n",
              "\n",
              "       Você pretende mudar de emprego nos próximos 6 meses?  \\\n",
              "count                                                3694     \n",
              "unique                                                  4     \n",
              "top     Não estou buscando, mas me considero aberto a ...     \n",
              "freq                                                 1354     \n",
              "\n",
              "       Quais os principais critérios que você leva em consideração no momento de decidir onde trabalhar?  \\\n",
              "count                                                3694                                                  \n",
              "unique                                                462                                                  \n",
              "top     Remuneração/Salário, Benefícios, Flexibilidade...                                                  \n",
              "freq                                                  216                                                  \n",
              "\n",
              "       Atualmente qual a sua forma de trabalho?  \\\n",
              "count                                      3694   \n",
              "unique                                        4   \n",
              "top                          Modelo 100% remoto   \n",
              "freq                                       1689   \n",
              "\n",
              "                Qual a forma de trabalho ideal para você?  \\\n",
              "count                                                3694   \n",
              "unique                                                  4   \n",
              "top     Modelo híbrido flexível (o funcionário tem lib...   \n",
              "freq                                                 1939   \n",
              "\n",
              "       Caso sua empresa decida pelo modelo 100% presencial qual será sua atitude?  \\\n",
              "count                                                3694                           \n",
              "unique                                                  3                           \n",
              "top     Vou procurar outra oportunidade no modelo híbr...                           \n",
              "freq                                                 1626                           \n",
              "\n",
              "                    Sua empresa passu por Layoff em 2022?           Atuacao  \\\n",
              "count                                                3694              4271   \n",
              "unique                                                  3                 6   \n",
              "top     Não ocorreram layoffs/demissões em massa na em...  Análise de Dados   \n",
              "freq                                                 3000              1326   \n",
              "\n",
              "       Quais das linguagens listadas abaixo você utiliza no trabalho?  \n",
              "count                                                2981              \n",
              "unique                                                208              \n",
              "top                                           SQL, Python              \n",
              "freq                                                  749              "
            ],
            "text/html": [
              "\n",
              "  <div id=\"df-c6fc95a7-e9c9-4ce0-8206-73e7f318625b\" class=\"colab-df-container\">\n",
              "    <div>\n",
              "<style scoped>\n",
              "    .dataframe tbody tr th:only-of-type {\n",
              "        vertical-align: middle;\n",
              "    }\n",
              "\n",
              "    .dataframe tbody tr th {\n",
              "        vertical-align: top;\n",
              "    }\n",
              "\n",
              "    .dataframe thead th {\n",
              "        text-align: right;\n",
              "    }\n",
              "</style>\n",
              "<table border=\"1\" class=\"dataframe\">\n",
              "  <thead>\n",
              "    <tr style=\"text-align: right;\">\n",
              "      <th></th>\n",
              "      <th>ID</th>\n",
              "      <th>Quanto tempo de experiência na área de dados você tem?</th>\n",
              "      <th>Quanto tempo de experiência na área de TI/Engenharia de Software você teve antes de começar a trabalhar na área de dados?</th>\n",
              "      <th>Você está satisfeito na sua empresa atual?</th>\n",
              "      <th>Qual o principal motivo da sua insatisfação com a empresa atual?</th>\n",
              "      <th>Você participou de entrevistas de emprego nos últimos 6 meses?</th>\n",
              "      <th>Você pretende mudar de emprego nos próximos 6 meses?</th>\n",
              "      <th>Quais os principais critérios que você leva em consideração no momento de decidir onde trabalhar?</th>\n",
              "      <th>Atualmente qual a sua forma de trabalho?</th>\n",
              "      <th>Qual a forma de trabalho ideal para você?</th>\n",
              "      <th>Caso sua empresa decida pelo modelo 100% presencial qual será sua atitude?</th>\n",
              "      <th>Sua empresa passu por Layoff em 2022?</th>\n",
              "      <th>Atuacao</th>\n",
              "      <th>Quais das linguagens listadas abaixo você utiliza no trabalho?</th>\n",
              "    </tr>\n",
              "  </thead>\n",
              "  <tbody>\n",
              "    <tr>\n",
              "      <th>count</th>\n",
              "      <td>4271</td>\n",
              "      <td>3694</td>\n",
              "      <td>3694</td>\n",
              "      <td>3694</td>\n",
              "      <td>960</td>\n",
              "      <td>3694</td>\n",
              "      <td>3694</td>\n",
              "      <td>3694</td>\n",
              "      <td>3694</td>\n",
              "      <td>3694</td>\n",
              "      <td>3694</td>\n",
              "      <td>3694</td>\n",
              "      <td>4271</td>\n",
              "      <td>2981</td>\n",
              "    </tr>\n",
              "    <tr>\n",
              "      <th>unique</th>\n",
              "      <td>4270</td>\n",
              "      <td>7</td>\n",
              "      <td>7</td>\n",
              "      <td>2</td>\n",
              "      <td>221</td>\n",
              "      <td>4</td>\n",
              "      <td>4</td>\n",
              "      <td>462</td>\n",
              "      <td>4</td>\n",
              "      <td>4</td>\n",
              "      <td>3</td>\n",
              "      <td>3</td>\n",
              "      <td>6</td>\n",
              "      <td>208</td>\n",
              "    </tr>\n",
              "    <tr>\n",
              "      <th>top</th>\n",
              "      <td>x4w2zctsfwfqh3q8aphgx4w2zflx9d1u</td>\n",
              "      <td>de 1 a 2 anos</td>\n",
              "      <td>Não tive experiência na área de TI/Engenharia ...</td>\n",
              "      <td>True</td>\n",
              "      <td>Gostaria de trabalhar em em outra área de atuação</td>\n",
              "      <td>Não participei de entrevistas de emprego/proce...</td>\n",
              "      <td>Não estou buscando, mas me considero aberto a ...</td>\n",
              "      <td>Remuneração/Salário, Benefícios, Flexibilidade...</td>\n",
              "      <td>Modelo 100% remoto</td>\n",
              "      <td>Modelo híbrido flexível (o funcionário tem lib...</td>\n",
              "      <td>Vou procurar outra oportunidade no modelo híbr...</td>\n",
              "      <td>Não ocorreram layoffs/demissões em massa na em...</td>\n",
              "      <td>Análise de Dados</td>\n",
              "      <td>SQL, Python</td>\n",
              "    </tr>\n",
              "    <tr>\n",
              "      <th>freq</th>\n",
              "      <td>2</td>\n",
              "      <td>980</td>\n",
              "      <td>1605</td>\n",
              "      <td>2734</td>\n",
              "      <td>112</td>\n",
              "      <td>1672</td>\n",
              "      <td>1354</td>\n",
              "      <td>216</td>\n",
              "      <td>1689</td>\n",
              "      <td>1939</td>\n",
              "      <td>1626</td>\n",
              "      <td>3000</td>\n",
              "      <td>1326</td>\n",
              "      <td>749</td>\n",
              "    </tr>\n",
              "  </tbody>\n",
              "</table>\n",
              "</div>\n",
              "    <div class=\"colab-df-buttons\">\n",
              "\n",
              "  <div class=\"colab-df-container\">\n",
              "    <button class=\"colab-df-convert\" onclick=\"convertToInteractive('df-c6fc95a7-e9c9-4ce0-8206-73e7f318625b')\"\n",
              "            title=\"Convert this dataframe to an interactive table.\"\n",
              "            style=\"display:none;\">\n",
              "\n",
              "  <svg xmlns=\"http://www.w3.org/2000/svg\" height=\"24px\" viewBox=\"0 -960 960 960\">\n",
              "    <path d=\"M120-120v-720h720v720H120Zm60-500h600v-160H180v160Zm220 220h160v-160H400v160Zm0 220h160v-160H400v160ZM180-400h160v-160H180v160Zm440 0h160v-160H620v160ZM180-180h160v-160H180v160Zm440 0h160v-160H620v160Z\"/>\n",
              "  </svg>\n",
              "    </button>\n",
              "\n",
              "  <style>\n",
              "    .colab-df-container {\n",
              "      display:flex;\n",
              "      gap: 12px;\n",
              "    }\n",
              "\n",
              "    .colab-df-convert {\n",
              "      background-color: #E8F0FE;\n",
              "      border: none;\n",
              "      border-radius: 50%;\n",
              "      cursor: pointer;\n",
              "      display: none;\n",
              "      fill: #1967D2;\n",
              "      height: 32px;\n",
              "      padding: 0 0 0 0;\n",
              "      width: 32px;\n",
              "    }\n",
              "\n",
              "    .colab-df-convert:hover {\n",
              "      background-color: #E2EBFA;\n",
              "      box-shadow: 0px 1px 2px rgba(60, 64, 67, 0.3), 0px 1px 3px 1px rgba(60, 64, 67, 0.15);\n",
              "      fill: #174EA6;\n",
              "    }\n",
              "\n",
              "    .colab-df-buttons div {\n",
              "      margin-bottom: 4px;\n",
              "    }\n",
              "\n",
              "    [theme=dark] .colab-df-convert {\n",
              "      background-color: #3B4455;\n",
              "      fill: #D2E3FC;\n",
              "    }\n",
              "\n",
              "    [theme=dark] .colab-df-convert:hover {\n",
              "      background-color: #434B5C;\n",
              "      box-shadow: 0px 1px 3px 1px rgba(0, 0, 0, 0.15);\n",
              "      filter: drop-shadow(0px 1px 2px rgba(0, 0, 0, 0.3));\n",
              "      fill: #FFFFFF;\n",
              "    }\n",
              "  </style>\n",
              "\n",
              "    <script>\n",
              "      const buttonEl =\n",
              "        document.querySelector('#df-c6fc95a7-e9c9-4ce0-8206-73e7f318625b button.colab-df-convert');\n",
              "      buttonEl.style.display =\n",
              "        google.colab.kernel.accessAllowed ? 'block' : 'none';\n",
              "\n",
              "      async function convertToInteractive(key) {\n",
              "        const element = document.querySelector('#df-c6fc95a7-e9c9-4ce0-8206-73e7f318625b');\n",
              "        const dataTable =\n",
              "          await google.colab.kernel.invokeFunction('convertToInteractive',\n",
              "                                                    [key], {});\n",
              "        if (!dataTable) return;\n",
              "\n",
              "        const docLinkHtml = 'Like what you see? Visit the ' +\n",
              "          '<a target=\"_blank\" href=https://colab.research.google.com/notebooks/data_table.ipynb>data table notebook</a>'\n",
              "          + ' to learn more about interactive tables.';\n",
              "        element.innerHTML = '';\n",
              "        dataTable['output_type'] = 'display_data';\n",
              "        await google.colab.output.renderOutput(dataTable, element);\n",
              "        const docLink = document.createElement('div');\n",
              "        docLink.innerHTML = docLinkHtml;\n",
              "        element.appendChild(docLink);\n",
              "      }\n",
              "    </script>\n",
              "  </div>\n",
              "\n",
              "\n",
              "<div id=\"df-709e2d9a-79ef-40c5-b3d0-905320311135\">\n",
              "  <button class=\"colab-df-quickchart\" onclick=\"quickchart('df-709e2d9a-79ef-40c5-b3d0-905320311135')\"\n",
              "            title=\"Suggest charts\"\n",
              "            style=\"display:none;\">\n",
              "\n",
              "<svg xmlns=\"http://www.w3.org/2000/svg\" height=\"24px\"viewBox=\"0 0 24 24\"\n",
              "     width=\"24px\">\n",
              "    <g>\n",
              "        <path d=\"M19 3H5c-1.1 0-2 .9-2 2v14c0 1.1.9 2 2 2h14c1.1 0 2-.9 2-2V5c0-1.1-.9-2-2-2zM9 17H7v-7h2v7zm4 0h-2V7h2v10zm4 0h-2v-4h2v4z\"/>\n",
              "    </g>\n",
              "</svg>\n",
              "  </button>\n",
              "\n",
              "<style>\n",
              "  .colab-df-quickchart {\n",
              "      --bg-color: #E8F0FE;\n",
              "      --fill-color: #1967D2;\n",
              "      --hover-bg-color: #E2EBFA;\n",
              "      --hover-fill-color: #174EA6;\n",
              "      --disabled-fill-color: #AAA;\n",
              "      --disabled-bg-color: #DDD;\n",
              "  }\n",
              "\n",
              "  [theme=dark] .colab-df-quickchart {\n",
              "      --bg-color: #3B4455;\n",
              "      --fill-color: #D2E3FC;\n",
              "      --hover-bg-color: #434B5C;\n",
              "      --hover-fill-color: #FFFFFF;\n",
              "      --disabled-bg-color: #3B4455;\n",
              "      --disabled-fill-color: #666;\n",
              "  }\n",
              "\n",
              "  .colab-df-quickchart {\n",
              "    background-color: var(--bg-color);\n",
              "    border: none;\n",
              "    border-radius: 50%;\n",
              "    cursor: pointer;\n",
              "    display: none;\n",
              "    fill: var(--fill-color);\n",
              "    height: 32px;\n",
              "    padding: 0;\n",
              "    width: 32px;\n",
              "  }\n",
              "\n",
              "  .colab-df-quickchart:hover {\n",
              "    background-color: var(--hover-bg-color);\n",
              "    box-shadow: 0 1px 2px rgba(60, 64, 67, 0.3), 0 1px 3px 1px rgba(60, 64, 67, 0.15);\n",
              "    fill: var(--button-hover-fill-color);\n",
              "  }\n",
              "\n",
              "  .colab-df-quickchart-complete:disabled,\n",
              "  .colab-df-quickchart-complete:disabled:hover {\n",
              "    background-color: var(--disabled-bg-color);\n",
              "    fill: var(--disabled-fill-color);\n",
              "    box-shadow: none;\n",
              "  }\n",
              "\n",
              "  .colab-df-spinner {\n",
              "    border: 2px solid var(--fill-color);\n",
              "    border-color: transparent;\n",
              "    border-bottom-color: var(--fill-color);\n",
              "    animation:\n",
              "      spin 1s steps(1) infinite;\n",
              "  }\n",
              "\n",
              "  @keyframes spin {\n",
              "    0% {\n",
              "      border-color: transparent;\n",
              "      border-bottom-color: var(--fill-color);\n",
              "      border-left-color: var(--fill-color);\n",
              "    }\n",
              "    20% {\n",
              "      border-color: transparent;\n",
              "      border-left-color: var(--fill-color);\n",
              "      border-top-color: var(--fill-color);\n",
              "    }\n",
              "    30% {\n",
              "      border-color: transparent;\n",
              "      border-left-color: var(--fill-color);\n",
              "      border-top-color: var(--fill-color);\n",
              "      border-right-color: var(--fill-color);\n",
              "    }\n",
              "    40% {\n",
              "      border-color: transparent;\n",
              "      border-right-color: var(--fill-color);\n",
              "      border-top-color: var(--fill-color);\n",
              "    }\n",
              "    60% {\n",
              "      border-color: transparent;\n",
              "      border-right-color: var(--fill-color);\n",
              "    }\n",
              "    80% {\n",
              "      border-color: transparent;\n",
              "      border-right-color: var(--fill-color);\n",
              "      border-bottom-color: var(--fill-color);\n",
              "    }\n",
              "    90% {\n",
              "      border-color: transparent;\n",
              "      border-bottom-color: var(--fill-color);\n",
              "    }\n",
              "  }\n",
              "</style>\n",
              "\n",
              "  <script>\n",
              "    async function quickchart(key) {\n",
              "      const quickchartButtonEl =\n",
              "        document.querySelector('#' + key + ' button');\n",
              "      quickchartButtonEl.disabled = true;  // To prevent multiple clicks.\n",
              "      quickchartButtonEl.classList.add('colab-df-spinner');\n",
              "      try {\n",
              "        const charts = await google.colab.kernel.invokeFunction(\n",
              "            'suggestCharts', [key], {});\n",
              "      } catch (error) {\n",
              "        console.error('Error during call to suggestCharts:', error);\n",
              "      }\n",
              "      quickchartButtonEl.classList.remove('colab-df-spinner');\n",
              "      quickchartButtonEl.classList.add('colab-df-quickchart-complete');\n",
              "    }\n",
              "    (() => {\n",
              "      let quickchartButtonEl =\n",
              "        document.querySelector('#df-709e2d9a-79ef-40c5-b3d0-905320311135 button');\n",
              "      quickchartButtonEl.style.display =\n",
              "        google.colab.kernel.accessAllowed ? 'block' : 'none';\n",
              "    })();\n",
              "  </script>\n",
              "</div>\n",
              "\n",
              "    </div>\n",
              "  </div>\n"
            ],
            "application/vnd.google.colaboratory.intrinsic+json": {
              "type": "dataframe",
              "summary": "{\n  \"name\": \"df2\",\n  \"rows\": 4,\n  \"fields\": [\n    {\n      \"column\": \"ID\",\n      \"properties\": {\n        \"dtype\": \"string\",\n        \"num_unique_values\": 4,\n        \"samples\": [\n          4270,\n          \"2\",\n          \"4271\"\n        ],\n        \"semantic_type\": \"\",\n        \"description\": \"\"\n      }\n    },\n    {\n      \"column\": \"Quanto tempo de experi\\u00eancia na \\u00e1rea de dados voc\\u00ea tem?\",\n      \"properties\": {\n        \"dtype\": \"string\",\n        \"num_unique_values\": 4,\n        \"samples\": [\n          7,\n          \"980\",\n          \"3694\"\n        ],\n        \"semantic_type\": \"\",\n        \"description\": \"\"\n      }\n    },\n    {\n      \"column\": \"Quanto tempo de experi\\u00eancia na \\u00e1rea de TI/Engenharia de Software voc\\u00ea teve antes de come\\u00e7ar a trabalhar na \\u00e1rea de dados?\",\n      \"properties\": {\n        \"dtype\": \"string\",\n        \"num_unique_values\": 4,\n        \"samples\": [\n          7,\n          \"1605\",\n          \"3694\"\n        ],\n        \"semantic_type\": \"\",\n        \"description\": \"\"\n      }\n    },\n    {\n      \"column\": \"Voc\\u00ea est\\u00e1 satisfeito na sua empresa atual?\",\n      \"properties\": {\n        \"dtype\": \"string\",\n        \"num_unique_values\": 4,\n        \"samples\": [\n          2,\n          \"2734\",\n          \"3694\"\n        ],\n        \"semantic_type\": \"\",\n        \"description\": \"\"\n      }\n    },\n    {\n      \"column\": \"Qual o principal motivo da sua insatisfa\\u00e7\\u00e3o com a empresa atual?\",\n      \"properties\": {\n        \"dtype\": \"string\",\n        \"num_unique_values\": 4,\n        \"samples\": [\n          221,\n          \"112\",\n          \"960\"\n        ],\n        \"semantic_type\": \"\",\n        \"description\": \"\"\n      }\n    },\n    {\n      \"column\": \"Voc\\u00ea participou de entrevistas de emprego nos \\u00faltimos 6 meses?\",\n      \"properties\": {\n        \"dtype\": \"string\",\n        \"num_unique_values\": 4,\n        \"samples\": [\n          4,\n          \"1672\",\n          \"3694\"\n        ],\n        \"semantic_type\": \"\",\n        \"description\": \"\"\n      }\n    },\n    {\n      \"column\": \"Voc\\u00ea pretende mudar de emprego nos pr\\u00f3ximos 6 meses?\",\n      \"properties\": {\n        \"dtype\": \"string\",\n        \"num_unique_values\": 4,\n        \"samples\": [\n          4,\n          \"1354\",\n          \"3694\"\n        ],\n        \"semantic_type\": \"\",\n        \"description\": \"\"\n      }\n    },\n    {\n      \"column\": \"Quais os principais crit\\u00e9rios que voc\\u00ea leva em considera\\u00e7\\u00e3o no momento de decidir onde trabalhar?\",\n      \"properties\": {\n        \"dtype\": \"string\",\n        \"num_unique_values\": 4,\n        \"samples\": [\n          462,\n          \"216\",\n          \"3694\"\n        ],\n        \"semantic_type\": \"\",\n        \"description\": \"\"\n      }\n    },\n    {\n      \"column\": \"Atualmente qual a sua forma de trabalho?\",\n      \"properties\": {\n        \"dtype\": \"string\",\n        \"num_unique_values\": 4,\n        \"samples\": [\n          4,\n          \"1689\",\n          \"3694\"\n        ],\n        \"semantic_type\": \"\",\n        \"description\": \"\"\n      }\n    },\n    {\n      \"column\": \"Qual a forma de trabalho ideal para voc\\u00ea?\",\n      \"properties\": {\n        \"dtype\": \"string\",\n        \"num_unique_values\": 4,\n        \"samples\": [\n          4,\n          \"1939\",\n          \"3694\"\n        ],\n        \"semantic_type\": \"\",\n        \"description\": \"\"\n      }\n    },\n    {\n      \"column\": \"Caso sua empresa decida pelo modelo 100% presencial qual ser\\u00e1 sua atitude?\",\n      \"properties\": {\n        \"dtype\": \"string\",\n        \"num_unique_values\": 4,\n        \"samples\": [\n          3,\n          \"1626\",\n          \"3694\"\n        ],\n        \"semantic_type\": \"\",\n        \"description\": \"\"\n      }\n    },\n    {\n      \"column\": \"Sua empresa passu por Layoff em 2022?\",\n      \"properties\": {\n        \"dtype\": \"string\",\n        \"num_unique_values\": 4,\n        \"samples\": [\n          3,\n          \"3000\",\n          \"3694\"\n        ],\n        \"semantic_type\": \"\",\n        \"description\": \"\"\n      }\n    },\n    {\n      \"column\": \"Atuacao\",\n      \"properties\": {\n        \"dtype\": \"string\",\n        \"num_unique_values\": 4,\n        \"samples\": [\n          6,\n          \"1326\",\n          \"4271\"\n        ],\n        \"semantic_type\": \"\",\n        \"description\": \"\"\n      }\n    },\n    {\n      \"column\": \"Quais das linguagens listadas abaixo voc\\u00ea utiliza no trabalho?\",\n      \"properties\": {\n        \"dtype\": \"string\",\n        \"num_unique_values\": 4,\n        \"samples\": [\n          208,\n          \"749\",\n          \"2981\"\n        ],\n        \"semantic_type\": \"\",\n        \"description\": \"\"\n      }\n    }\n  ]\n}"
            }
          },
          "metadata": {},
          "execution_count": 19
        }
      ]
    },
    {
      "cell_type": "markdown",
      "source": [
        "#Tratamento de Dados Faltantes"
      ],
      "metadata": {
        "id": "YJzJA12nCie7"
      }
    },
    {
      "cell_type": "markdown",
      "source": [
        "####Análise da Coluna GENÊRO e preenchimento de valores faltantes"
      ],
      "metadata": {
        "id": "SD2nhfObDv9V"
      }
    },
    {
      "cell_type": "code",
      "source": [
        "df.groupby(\"GENERO\", dropna=False)[\"ID\"].nunique()"
      ],
      "metadata": {
        "id": "AJdX9jXvCoPj",
        "colab": {
          "base_uri": "https://localhost:8080/",
          "height": 241
        },
        "outputId": "9393d8c7-8196-487e-b3dc-0c9b70c2c739"
      },
      "execution_count": 20,
      "outputs": [
        {
          "output_type": "execute_result",
          "data": {
            "text/plain": [
              "GENERO\n",
              "Feminino                1055\n",
              "Masculino               3194\n",
              "Prefiro não informar      12\n",
              "NaN                        9\n",
              "Name: ID, dtype: int64"
            ],
            "text/html": [
              "<div>\n",
              "<style scoped>\n",
              "    .dataframe tbody tr th:only-of-type {\n",
              "        vertical-align: middle;\n",
              "    }\n",
              "\n",
              "    .dataframe tbody tr th {\n",
              "        vertical-align: top;\n",
              "    }\n",
              "\n",
              "    .dataframe thead th {\n",
              "        text-align: right;\n",
              "    }\n",
              "</style>\n",
              "<table border=\"1\" class=\"dataframe\">\n",
              "  <thead>\n",
              "    <tr style=\"text-align: right;\">\n",
              "      <th></th>\n",
              "      <th>ID</th>\n",
              "    </tr>\n",
              "    <tr>\n",
              "      <th>GENERO</th>\n",
              "      <th></th>\n",
              "    </tr>\n",
              "  </thead>\n",
              "  <tbody>\n",
              "    <tr>\n",
              "      <th>Feminino</th>\n",
              "      <td>1055</td>\n",
              "    </tr>\n",
              "    <tr>\n",
              "      <th>Masculino</th>\n",
              "      <td>3194</td>\n",
              "    </tr>\n",
              "    <tr>\n",
              "      <th>Prefiro não informar</th>\n",
              "      <td>12</td>\n",
              "    </tr>\n",
              "    <tr>\n",
              "      <th>NaN</th>\n",
              "      <td>9</td>\n",
              "    </tr>\n",
              "  </tbody>\n",
              "</table>\n",
              "</div><br><label><b>dtype:</b> int64</label>"
            ]
          },
          "metadata": {},
          "execution_count": 20
        }
      ]
    },
    {
      "cell_type": "code",
      "source": [
        "df[\"GENERO\"] = df[\"GENERO\"].fillna(\"Prefiro não informar\")"
      ],
      "metadata": {
        "id": "XX7VgfJUDsdM"
      },
      "execution_count": 21,
      "outputs": []
    },
    {
      "cell_type": "markdown",
      "source": [
        "####Análise da Coluna IDADE e preenchimento de valores faltantes"
      ],
      "metadata": {
        "id": "RKQU1ZVHEP1m"
      }
    },
    {
      "cell_type": "code",
      "source": [
        "df[\"IDADE\"].isnull().value_counts()"
      ],
      "metadata": {
        "id": "Z8vJmFylEAPO",
        "colab": {
          "base_uri": "https://localhost:8080/",
          "height": 178
        },
        "outputId": "43a08537-bb9e-4e53-ac5b-764c3c1aafe2"
      },
      "execution_count": 22,
      "outputs": [
        {
          "output_type": "execute_result",
          "data": {
            "text/plain": [
              "IDADE\n",
              "False    4197\n",
              "True       74\n",
              "Name: count, dtype: int64"
            ],
            "text/html": [
              "<div>\n",
              "<style scoped>\n",
              "    .dataframe tbody tr th:only-of-type {\n",
              "        vertical-align: middle;\n",
              "    }\n",
              "\n",
              "    .dataframe tbody tr th {\n",
              "        vertical-align: top;\n",
              "    }\n",
              "\n",
              "    .dataframe thead th {\n",
              "        text-align: right;\n",
              "    }\n",
              "</style>\n",
              "<table border=\"1\" class=\"dataframe\">\n",
              "  <thead>\n",
              "    <tr style=\"text-align: right;\">\n",
              "      <th></th>\n",
              "      <th>count</th>\n",
              "    </tr>\n",
              "    <tr>\n",
              "      <th>IDADE</th>\n",
              "      <th></th>\n",
              "    </tr>\n",
              "  </thead>\n",
              "  <tbody>\n",
              "    <tr>\n",
              "      <th>False</th>\n",
              "      <td>4197</td>\n",
              "    </tr>\n",
              "    <tr>\n",
              "      <th>True</th>\n",
              "      <td>74</td>\n",
              "    </tr>\n",
              "  </tbody>\n",
              "</table>\n",
              "</div><br><label><b>dtype:</b> int64</label>"
            ]
          },
          "metadata": {},
          "execution_count": 22
        }
      ]
    },
    {
      "cell_type": "code",
      "source": [
        "#Preenchendo os dados vazios sobre IDADE com a média da faixa etária correspondente\n",
        "media_17_21 = df[df[\"FAIXA IDADE\"] == \"17-21\"][\"IDADE\"].mean()\n",
        "df.loc[(df[\"FAIXA IDADE\"] == \"17-21\") & (df[\"IDADE\"].isnull()), \"IDADE\"] = int(media_17_21)"
      ],
      "metadata": {
        "id": "38u0SHIPEfrr"
      },
      "execution_count": 23,
      "outputs": []
    },
    {
      "cell_type": "code",
      "source": [
        "#Preenchendo os dados vazios sobre IDADE da faixa etária 55+ com a média geral\n",
        "media_geral = df[\"IDADE\"].mean()\n",
        "df.loc[(df[\"FAIXA IDADE\"] == \"55+\") & (df[\"IDADE\"].isnull()), \"IDADE\"] = int(media_geral)"
      ],
      "metadata": {
        "id": "XEGxsESqEms6"
      },
      "execution_count": 24,
      "outputs": []
    },
    {
      "cell_type": "markdown",
      "source": [
        "###Análise da Coluna SALÁRIO e preenchimento de valores faltantes"
      ],
      "metadata": {
        "id": "rMOv788aHQsR"
      }
    },
    {
      "cell_type": "code",
      "source": [
        "df[\"SALARIO\"].isnull().value_counts()"
      ],
      "metadata": {
        "id": "KbeidyNjFPbP",
        "colab": {
          "base_uri": "https://localhost:8080/",
          "height": 178
        },
        "outputId": "bdd02f5e-d8bb-4e15-f615-3e0a64cc9b48"
      },
      "execution_count": 25,
      "outputs": [
        {
          "output_type": "execute_result",
          "data": {
            "text/plain": [
              "SALARIO\n",
              "False    3694\n",
              "True      577\n",
              "Name: count, dtype: int64"
            ],
            "text/html": [
              "<div>\n",
              "<style scoped>\n",
              "    .dataframe tbody tr th:only-of-type {\n",
              "        vertical-align: middle;\n",
              "    }\n",
              "\n",
              "    .dataframe tbody tr th {\n",
              "        vertical-align: top;\n",
              "    }\n",
              "\n",
              "    .dataframe thead th {\n",
              "        text-align: right;\n",
              "    }\n",
              "</style>\n",
              "<table border=\"1\" class=\"dataframe\">\n",
              "  <thead>\n",
              "    <tr style=\"text-align: right;\">\n",
              "      <th></th>\n",
              "      <th>count</th>\n",
              "    </tr>\n",
              "    <tr>\n",
              "      <th>SALARIO</th>\n",
              "      <th></th>\n",
              "    </tr>\n",
              "  </thead>\n",
              "  <tbody>\n",
              "    <tr>\n",
              "      <th>False</th>\n",
              "      <td>3694</td>\n",
              "    </tr>\n",
              "    <tr>\n",
              "      <th>True</th>\n",
              "      <td>577</td>\n",
              "    </tr>\n",
              "  </tbody>\n",
              "</table>\n",
              "</div><br><label><b>dtype:</b> int64</label>"
            ]
          },
          "metadata": {},
          "execution_count": 25
        }
      ]
    },
    {
      "cell_type": "code",
      "source": [
        "df[df[\"SALARIO\"].isnull()][\"FAIXA SALARIAL\"].value_counts()"
      ],
      "metadata": {
        "id": "0U5w9mlWH_4k",
        "colab": {
          "base_uri": "https://localhost:8080/",
          "height": 115
        },
        "outputId": "af890d42-9cbe-409b-dad1-829bf5e24a9a"
      },
      "execution_count": 26,
      "outputs": [
        {
          "output_type": "execute_result",
          "data": {
            "text/plain": [
              "Series([], Name: count, dtype: int64)"
            ],
            "text/html": [
              "<div>\n",
              "<style scoped>\n",
              "    .dataframe tbody tr th:only-of-type {\n",
              "        vertical-align: middle;\n",
              "    }\n",
              "\n",
              "    .dataframe tbody tr th {\n",
              "        vertical-align: top;\n",
              "    }\n",
              "\n",
              "    .dataframe thead th {\n",
              "        text-align: right;\n",
              "    }\n",
              "</style>\n",
              "<table border=\"1\" class=\"dataframe\">\n",
              "  <thead>\n",
              "    <tr style=\"text-align: right;\">\n",
              "      <th></th>\n",
              "      <th>count</th>\n",
              "    </tr>\n",
              "    <tr>\n",
              "      <th>FAIXA SALARIAL</th>\n",
              "      <th></th>\n",
              "    </tr>\n",
              "  </thead>\n",
              "  <tbody>\n",
              "  </tbody>\n",
              "</table>\n",
              "</div><br><label><b>dtype:</b> int64</label>"
            ]
          },
          "metadata": {},
          "execution_count": 26
        }
      ]
    },
    {
      "cell_type": "code",
      "source": [
        "#Preenchendo os dados de SALÁRIOS faltantes com a médiana\n",
        "mediana_salario = df[\"SALARIO\"].median()\n",
        "df.loc[df[\"SALARIO\"].isnull(), \"SALARIO\"] = mediana_salario"
      ],
      "metadata": {
        "id": "c0hOkA7EIrMM"
      },
      "execution_count": 27,
      "outputs": []
    },
    {
      "cell_type": "markdown",
      "source": [
        "#Análise Descritiva e Estatísticas Básicas"
      ],
      "metadata": {
        "id": "nqOb-zrDKDZC"
      }
    },
    {
      "cell_type": "code",
      "source": [
        "#Análise geral das IDADES\n",
        "print(\"Média de idades:\", df['IDADE'].mean())\n",
        "print(\"Mediana de idades:\", df['IDADE'].median())\n",
        "print(\"Desvio padrão da idade:\", df['IDADE'].std())\n",
        "print(\"Moda da Idade:\", df[\"IDADE\"].mode())\n",
        "print(\"Variância da Idade:\", df[\"IDADE\"].var())\n",
        "print(\"Valor Máximo da Idade:\", df[\"IDADE\"].max())\n",
        "print(\"Valor Mínimo da Idade:\", df[\"IDADE\"].min())"
      ],
      "metadata": {
        "id": "-_TsWHG5KK3Y",
        "colab": {
          "base_uri": "https://localhost:8080/"
        },
        "outputId": "dae3d3b6-a460-4200-a12f-b2af0cc8f863"
      },
      "execution_count": 28,
      "outputs": [
        {
          "output_type": "stream",
          "name": "stdout",
          "text": [
            "Média de idades: 31.150784359634745\n",
            "Mediana de idades: 30.0\n",
            "Desvio padrão da idade: 6.855533242256926\n",
            "Moda da Idade: 0    31.0\n",
            "Name: IDADE, dtype: float64\n",
            "Variância da Idade: 46.99833603568975\n",
            "Valor Máximo da Idade: 54.0\n",
            "Valor Mínimo da Idade: 18.0\n"
          ]
        }
      ]
    },
    {
      "cell_type": "code",
      "source": [
        "#Média de Idades por Genêro\n",
        "print(\"Média de idades por gênero (Feminino):\", df[df[\"GENERO\"] == \"Feminino\"][\"IDADE\"].mean())\n",
        "print(\"Média de idades por gênero (Masculino):\", df[df[\"GENERO\"] == \"Masculino\"][\"IDADE\"].mean())"
      ],
      "metadata": {
        "id": "cO5AT1klNdiu",
        "colab": {
          "base_uri": "https://localhost:8080/"
        },
        "outputId": "bb588f36-13d6-4f85-a2f7-0932338af428"
      },
      "execution_count": 29,
      "outputs": [
        {
          "output_type": "stream",
          "name": "stdout",
          "text": [
            "Média de idades por gênero (Feminino): 31.294507575757574\n",
            "Média de idades por gênero (Masculino): 31.134627426424547\n"
          ]
        }
      ]
    },
    {
      "cell_type": "code",
      "source": [
        "#Análise Salárial Geral\n",
        "print(\"Média salarial geral:\", df[\"SALARIO\"].mean())\n",
        "print(\"Mediana salarial geral:\", df[\"SALARIO\"].median())\n",
        "print(\"Desvio padrão salarial geral:\", df[\"SALARIO\"].std())\n",
        "print(\"Moda salarial geral:\", df[\"SALARIO\"].mode())\n",
        "print(\"Variância salarial geral:\", df[\"SALARIO\"].var())\n",
        "print(\"Valor Máximo salarial geral:\", df[\"SALARIO\"].max())\n",
        "print(\"Valor Mínimo salarial geral:\", df[\"SALARIO\"].min())"
      ],
      "metadata": {
        "id": "5z9oHDHkNG4a",
        "colab": {
          "base_uri": "https://localhost:8080/"
        },
        "outputId": "cbfd8e47-a9e4-4886-f23d-4adb34925a94"
      },
      "execution_count": 30,
      "outputs": [
        {
          "output_type": "stream",
          "name": "stdout",
          "text": [
            "Média salarial geral: 10517.53348162023\n",
            "Mediana salarial geral: 7625.5\n",
            "Desvio padrão salarial geral: 18096.21098911858\n",
            "Moda salarial geral: 0    7625.5\n",
            "Name: SALARIO, dtype: float64\n",
            "Variância salarial geral: 327472852.162696\n",
            "Valor Máximo salarial geral: 485191.0\n",
            "Valor Mínimo salarial geral: 35.0\n"
          ]
        }
      ]
    },
    {
      "cell_type": "code",
      "source": [
        "#Média Salárial por GENÊRO\n",
        "print(\"Média salarial por gênero (Feminino):\", df[df[\"GENERO\"] == \"Feminino\"][\"SALARIO\"].mean())\n",
        "print(\"Média salarial por gênero (Masculino):\", df[df[\"GENERO\"] == \"Masculino\"][\"SALARIO\"].mean())"
      ],
      "metadata": {
        "id": "E9Dx18CnKZ7P",
        "colab": {
          "base_uri": "https://localhost:8080/"
        },
        "outputId": "08a06524-dcb2-48b8-b261-7b1820407753"
      },
      "execution_count": 31,
      "outputs": [
        {
          "output_type": "stream",
          "name": "stdout",
          "text": [
            "Média salarial por gênero (Feminino): 8504.556818181818\n",
            "Média salarial por gênero (Masculino): 11206.075140889167\n"
          ]
        }
      ]
    },
    {
      "cell_type": "markdown",
      "source": [
        "#Detectando e Corrigindo Outliers"
      ],
      "metadata": {
        "id": "LvU90aBAK73H"
      }
    },
    {
      "cell_type": "code",
      "source": [
        "#Plotando o gráfico para vizualização de Outliers para IDADE\n",
        "plt.boxplot(df[\"IDADE\"])\n",
        "plt.title(\"Boxplot de Idades\")\n",
        "plt.show()"
      ],
      "metadata": {
        "id": "tr_E1loqKt3O",
        "colab": {
          "base_uri": "https://localhost:8080/",
          "height": 452
        },
        "outputId": "63678c39-3e70-4f9b-f5af-b686b47366ff"
      },
      "execution_count": 32,
      "outputs": [
        {
          "output_type": "display_data",
          "data": {
            "text/plain": [
              "<Figure size 640x480 with 1 Axes>"
            ],
            "image/png": "[encoded data removed]"
          },
          "metadata": {}
        }
      ]
    },
    {
      "cell_type": "code",
      "source": [
        "#Vizualizando total por FAIXA SALARIAL\n",
        "df[\"FAIXA SALARIAL\"].value_counts()"
      ],
      "metadata": {
        "id": "bA63zuAzLp5g",
        "colab": {
          "base_uri": "https://localhost:8080/",
          "height": 523
        },
        "outputId": "63d93e59-bba3-4242-c52d-0e5f4e18bc1e"
      },
      "execution_count": 33,
      "outputs": [
        {
          "output_type": "execute_result",
          "data": {
            "text/plain": [
              "FAIXA SALARIAL\n",
              "de R$ 8.001/mês a R$ 12.000/mês     752\n",
              "de R$ 4.001/mês a R$ 6.000/mês      584\n",
              "de R$ 6.001/mês a R$ 8.000/mês      527\n",
              "de R$ 12.001/mês a R$ 16.000/mês    437\n",
              "de R$ 3.001/mês a R$ 4.000/mês      303\n",
              "de R$ 2.001/mês a R$ 3.000/mês      285\n",
              "de R$ 16.001/mês a R$ 20.000/mês    229\n",
              "de R$ 1.001/mês a R$ 2.000/mês      216\n",
              "de R$ 20.001/mês a R$ 25.000/mês    134\n",
              "de R$ 25.001/mês a R$ 30.000/mês     77\n",
              "de R$ 30.001/mês a R$ 40.000/mês     70\n",
              "Acima de R$ 40.001/mês               45\n",
              "Menos de R$ 1.000/mês                35\n",
              "Name: count, dtype: int64"
            ],
            "text/html": [
              "<div>\n",
              "<style scoped>\n",
              "    .dataframe tbody tr th:only-of-type {\n",
              "        vertical-align: middle;\n",
              "    }\n",
              "\n",
              "    .dataframe tbody tr th {\n",
              "        vertical-align: top;\n",
              "    }\n",
              "\n",
              "    .dataframe thead th {\n",
              "        text-align: right;\n",
              "    }\n",
              "</style>\n",
              "<table border=\"1\" class=\"dataframe\">\n",
              "  <thead>\n",
              "    <tr style=\"text-align: right;\">\n",
              "      <th></th>\n",
              "      <th>count</th>\n",
              "    </tr>\n",
              "    <tr>\n",
              "      <th>FAIXA SALARIAL</th>\n",
              "      <th></th>\n",
              "    </tr>\n",
              "  </thead>\n",
              "  <tbody>\n",
              "    <tr>\n",
              "      <th>de R$ 8.001/mês a R$ 12.000/mês</th>\n",
              "      <td>752</td>\n",
              "    </tr>\n",
              "    <tr>\n",
              "      <th>de R$ 4.001/mês a R$ 6.000/mês</th>\n",
              "      <td>584</td>\n",
              "    </tr>\n",
              "    <tr>\n",
              "      <th>de R$ 6.001/mês a R$ 8.000/mês</th>\n",
              "      <td>527</td>\n",
              "    </tr>\n",
              "    <tr>\n",
              "      <th>de R$ 12.001/mês a R$ 16.000/mês</th>\n",
              "      <td>437</td>\n",
              "    </tr>\n",
              "    <tr>\n",
              "      <th>de R$ 3.001/mês a R$ 4.000/mês</th>\n",
              "      <td>303</td>\n",
              "    </tr>\n",
              "    <tr>\n",
              "      <th>de R$ 2.001/mês a R$ 3.000/mês</th>\n",
              "      <td>285</td>\n",
              "    </tr>\n",
              "    <tr>\n",
              "      <th>de R$ 16.001/mês a R$ 20.000/mês</th>\n",
              "      <td>229</td>\n",
              "    </tr>\n",
              "    <tr>\n",
              "      <th>de R$ 1.001/mês a R$ 2.000/mês</th>\n",
              "      <td>216</td>\n",
              "    </tr>\n",
              "    <tr>\n",
              "      <th>de R$ 20.001/mês a R$ 25.000/mês</th>\n",
              "      <td>134</td>\n",
              "    </tr>\n",
              "    <tr>\n",
              "      <th>de R$ 25.001/mês a R$ 30.000/mês</th>\n",
              "      <td>77</td>\n",
              "    </tr>\n",
              "    <tr>\n",
              "      <th>de R$ 30.001/mês a R$ 40.000/mês</th>\n",
              "      <td>70</td>\n",
              "    </tr>\n",
              "    <tr>\n",
              "      <th>Acima de R$ 40.001/mês</th>\n",
              "      <td>45</td>\n",
              "    </tr>\n",
              "    <tr>\n",
              "      <th>Menos de R$ 1.000/mês</th>\n",
              "      <td>35</td>\n",
              "    </tr>\n",
              "  </tbody>\n",
              "</table>\n",
              "</div><br><label><b>dtype:</b> int64</label>"
            ]
          },
          "metadata": {},
          "execution_count": 33
        }
      ]
    },
    {
      "cell_type": "code",
      "source": [
        "#Plotando o gráfico para vizualização de Outliers para SALÁRIO\n",
        "plt.boxplot(df[\"SALARIO\"])\n",
        "plt.title(\"Boxplot de Salários\")\n",
        "plt.show()"
      ],
      "metadata": {
        "id": "l9A2sTTQLNr3",
        "colab": {
          "base_uri": "https://localhost:8080/",
          "height": 453
        },
        "outputId": "fe587d1e-804b-48c8-e938-436b51499291"
      },
      "execution_count": 34,
      "outputs": [
        {
          "output_type": "display_data",
          "data": {
            "text/plain": [
              "<Figure size 640x480 with 1 Axes>"
            ],
            "image/png": "[encoded data removed]"
          },
          "metadata": {}
        }
      ]
    },
    {
      "cell_type": "code",
      "source": [
        "#Estátisticas referentes ao SALÁRIO\n",
        "media_salario = df[\"SALARIO\"].mean()\n",
        "print(\"Média Salarial:\", media_salario)\n",
        "desvio_salario = df[\"SALARIO\"].std()\n",
        "print(\"Desvio Padrão Salarial:\", desvio_salario)"
      ],
      "metadata": {
        "id": "Yt2XaeVLQk58",
        "colab": {
          "base_uri": "https://localhost:8080/"
        },
        "outputId": "43558e3f-b511-41df-c9e8-fbb2899e9635"
      },
      "execution_count": 35,
      "outputs": [
        {
          "output_type": "stream",
          "name": "stdout",
          "text": [
            "Média Salarial: 10517.53348162023\n",
            "Desvio Padrão Salarial: 18096.21098911858\n"
          ]
        }
      ]
    },
    {
      "cell_type": "code",
      "source": [
        "# Detectando e corrigindo outliers nos SALÁRIOS (quartis)\n",
        "Q1 = df[\"SALARIO\"].quantile(0.25)\n",
        "print(\"Q1:\", Q1)\n",
        "Q3 = df[\"SALARIO\"].quantile(0.75)\n",
        "print(\"Q3:\", Q3)\n",
        "IQR = Q3 - Q1\n",
        "print(\"IQR:\", IQR)"
      ],
      "metadata": {
        "id": "yMRs0DhULZT4",
        "colab": {
          "base_uri": "https://localhost:8080/"
        },
        "outputId": "d7b38412-0df2-4fdb-a6f3-a0aa0aa0d23f"
      },
      "execution_count": 36,
      "outputs": [
        {
          "output_type": "stream",
          "name": "stdout",
          "text": [
            "Q1: 4751.5\n",
            "Q3: 11794.5\n",
            "IQR: 7043.0\n"
          ]
        }
      ]
    },
    {
      "cell_type": "code",
      "source": [
        "limite_superior = media_salario + (3 * desvio_salario)\n",
        "print(\"Limite Superior:\", limite_superior)"
      ],
      "metadata": {
        "id": "Ekc7M5aMLdjM",
        "colab": {
          "base_uri": "https://localhost:8080/"
        },
        "outputId": "0f71d86b-7a37-4e1b-ad5d-e522c9134ee6"
      },
      "execution_count": 37,
      "outputs": [
        {
          "output_type": "stream",
          "name": "stdout",
          "text": [
            "Limite Superior: 64806.166448975964\n"
          ]
        }
      ]
    },
    {
      "cell_type": "code",
      "source": [
        "# Corrigindo outliers da FAIXA SALARIAL \"Acima de R$ 40.001/mês\"\n",
        "media_40mais = round(df[(df[\"FAIXA SALARIAL\"] == \"Acima de R$ 40.001/mês\") & (df[\"SALARIO\"] < limite_superior)][\"SALARIO\"].mean() , 2)\n",
        "df[\"SALARIO\"] = np.where((df[\"SALARIO\"] > limite_superior), media_40mais, df[\"SALARIO\"])\n",
        "print(media_40mais)"
      ],
      "metadata": {
        "id": "ietInn7kLgC1",
        "colab": {
          "base_uri": "https://localhost:8080/"
        },
        "outputId": "92359da8-0ce3-4891-df45-9765c15eb471"
      },
      "execution_count": 38,
      "outputs": [
        {
          "output_type": "stream",
          "name": "stdout",
          "text": [
            "53127.85\n"
          ]
        }
      ]
    },
    {
      "cell_type": "code",
      "source": [
        "#Verificando maior salário após tratamento\n",
        "print(\"Max:\", df[\"SALARIO\"].max())"
      ],
      "metadata": {
        "id": "sVArehFzBlAy",
        "colab": {
          "base_uri": "https://localhost:8080/"
        },
        "outputId": "4dd1eb40-1297-44ef-ec39-8b6a3c85fb82"
      },
      "execution_count": 39,
      "outputs": [
        {
          "output_type": "stream",
          "name": "stdout",
          "text": [
            "Max: 63813.0\n"
          ]
        }
      ]
    },
    {
      "cell_type": "markdown",
      "source": [
        "#Intervalo de Confiança para SALÁRIOS"
      ],
      "metadata": {
        "id": "HALav_GtPMUz"
      }
    },
    {
      "cell_type": "code",
      "source": [
        "#calculando a média e o desvio padrão amostral dos Salários\n",
        "media_amostral = np.mean(df[\"SALARIO\"])\n",
        "print(\"Média Amostral:\", media_amostral)\n",
        "desvio_amostral = np.std(df[\"SALARIO\"])\n",
        "print(\"Desvio Padrão Amostral:\", desvio_amostral)"
      ],
      "metadata": {
        "id": "hLAnPx9qMEc-",
        "colab": {
          "base_uri": "https://localhost:8080/"
        },
        "outputId": "aaa0a395-4009-401e-c84f-1b1c48205b11"
      },
      "execution_count": 40,
      "outputs": [
        {
          "output_type": "stream",
          "name": "stdout",
          "text": [
            "Média Amostral: 9914.31215172091\n",
            "Desvio Padrão Amostral: 8349.18286776598\n"
          ]
        }
      ]
    },
    {
      "cell_type": "code",
      "source": [
        "#Definindo o nível de confiança e tamanho da amostra\n",
        "nivel_confianca = 0.95\n",
        "tamanho_amostra = len(df[\"SALARIO\"])\n",
        "print(\"Tamanho da Amostra:\", tamanho_amostra)"
      ],
      "metadata": {
        "id": "bv51D9VqPhi_",
        "colab": {
          "base_uri": "https://localhost:8080/"
        },
        "outputId": "800bd58e-165f-4ded-c72b-265b3f55b51d"
      },
      "execution_count": 41,
      "outputs": [
        {
          "output_type": "stream",
          "name": "stdout",
          "text": [
            "Tamanho da Amostra: 4271\n"
          ]
        }
      ]
    },
    {
      "cell_type": "code",
      "source": [
        "# Erro padrão\n",
        "erro_padrao = st.sem(df[\"SALARIO\"])\n",
        "print(\"Erro Padrão:\", erro_padrao)"
      ],
      "metadata": {
        "id": "w288AK42PtWF",
        "colab": {
          "base_uri": "https://localhost:8080/"
        },
        "outputId": "b3844807-8f96-4979-d4d9-bb636c1d5f5f"
      },
      "execution_count": 42,
      "outputs": [
        {
          "output_type": "stream",
          "name": "stdout",
          "text": [
            "Erro Padrão: 127.77033567700946\n"
          ]
        }
      ]
    },
    {
      "cell_type": "code",
      "source": [
        "# Calculando o intervalo de confiança\n",
        "intervalo_confianca = st.t.interval(nivel_confianca, tamanho_amostra - 1, loc=media_amostral, scale=erro_padrao)\n",
        "print(\"Intervalo de confiança para o salário (95%):\", intervalo_confianca)"
      ],
      "metadata": {
        "id": "v6FkdwEtP0yD",
        "colab": {
          "base_uri": "https://localhost:8080/"
        },
        "outputId": "97b58e78-74ee-4c9d-c041-ab816b245574"
      },
      "execution_count": 43,
      "outputs": [
        {
          "output_type": "stream",
          "name": "stdout",
          "text": [
            "Intervalo de confiança para o salário (95%): (9663.815890731736, 10164.808412710083)\n"
          ]
        }
      ]
    },
    {
      "cell_type": "markdown",
      "source": [
        "#Featuring Engeneering"
      ],
      "metadata": {
        "id": "W6mIE2f-TI7a"
      }
    },
    {
      "cell_type": "code",
      "source": [
        "# Criando nova coluna \"NOVO NIVEL\" para diferenciar gestores de não gestores\n",
        "def preencher_nivel(gestor, nivel):\n",
        "    if gestor == 1:\n",
        "        return \"Pessoa Gestora\"\n",
        "    else:\n",
        "        return nivel"
      ],
      "metadata": {
        "id": "OusBRlH8TArr"
      },
      "execution_count": 44,
      "outputs": []
    },
    {
      "cell_type": "code",
      "source": [
        "df[\"NOVO NIVEL\"] = df.apply(lambda x: preencher_nivel(x[\"GESTOR?\"], x[\"NIVEL\"]), axis=1)\n",
        "print(df[\"NOVO NIVEL\"].value_counts())"
      ],
      "metadata": {
        "id": "GsucTwnoTebX",
        "colab": {
          "base_uri": "https://localhost:8080/"
        },
        "outputId": "a028f7e6-ca2e-48a5-e73e-54808d4ab721"
      },
      "execution_count": 45,
      "outputs": [
        {
          "output_type": "stream",
          "name": "stdout",
          "text": [
            "NOVO NIVEL\n",
            "Pleno             1060\n",
            "Júnior            1023\n",
            "Sênior             898\n",
            "Pessoa Gestora     713\n",
            "Name: count, dtype: int64\n"
          ]
        }
      ]
    },
    {
      "cell_type": "code",
      "source": [
        "# Criando nova coluna \"GERACAO\" com base na idade\n",
        "def determinar_geracao(idade):\n",
        "    if 39 < idade <= 58:\n",
        "        return \"Geração X\"\n",
        "    elif 29 < idade <= 39:\n",
        "        return \"Millennials\"\n",
        "    elif 13 < idade <= 29:\n",
        "        return \"Geração Z\"\n",
        "    else:\n",
        "        return \"Outra Geração\""
      ],
      "metadata": {
        "id": "UI5ScWk1Th0x"
      },
      "execution_count": 46,
      "outputs": []
    },
    {
      "cell_type": "code",
      "source": [
        "df[\"GERACAO\"] = df[\"IDADE\"].apply(determinar_geracao)\n",
        "print(df[\"GERACAO\"].value_counts())"
      ],
      "metadata": {
        "id": "1ZkOCePXT5IC",
        "colab": {
          "base_uri": "https://localhost:8080/"
        },
        "outputId": "5f85954d-f716-4b49-c8d7-cf08f154c896"
      },
      "execution_count": 47,
      "outputs": [
        {
          "output_type": "stream",
          "name": "stdout",
          "text": [
            "GERACAO\n",
            "Geração Z      1999\n",
            "Millennials    1761\n",
            "Geração X       511\n",
            "Name: count, dtype: int64\n"
          ]
        }
      ]
    },
    {
      "cell_type": "code",
      "source": [
        "#Realizando o merge com o Data Frame Secundário (df e df2) utilizando a coluna ID como chave e mantendo todas as linhas do Data Frame Principal\n",
        "df = df.merge(df2, on=\"ID\", how=\"left\")"
      ],
      "metadata": {
        "id": "iVfEaX11Xbk0"
      },
      "execution_count": 48,
      "outputs": []
    },
    {
      "cell_type": "code",
      "source": [
        "#Vizualizando o Data Frame após o merge\n",
        "df.columns"
      ],
      "metadata": {
        "id": "xKLFVwcPYbaJ",
        "colab": {
          "base_uri": "https://localhost:8080/"
        },
        "outputId": "9357d751-046d-48b8-c0c9-7c20364b2b65"
      },
      "execution_count": 49,
      "outputs": [
        {
          "output_type": "execute_result",
          "data": {
            "text/plain": [
              "Index(['Unnamed: 0', 'ID', 'IDADE', 'FAIXA IDADE', 'GENERO', 'COR/RACA/ETNIA',\n",
              "       'PCD', 'EXPERIENCIA_PROFISSIONAL_PREJUDICADA', 'ASPECTOS_PREJUDICADOS',\n",
              "       'VIVE_NO_BRASIL', 'ESTADO ONDE MORA', 'UF ONDE MORA',\n",
              "       'REGIAO ONDE MORA', 'MUDOU DE ESTADO?', 'REGIAO DE ORIGEM',\n",
              "       'NIVEL DE ENSINO', 'ÁREA DE FORMAÇÃO',\n",
              "       'QUAL SUA SITUAÇÃO ATUAL DE TRABALHO?', 'SETOR',\n",
              "       'NUMERO DE FUNCIONARIOS', 'GESTOR?', 'CARGO COMO GESTOR', 'CARGO ATUAL',\n",
              "       'NIVEL', 'FAIXA SALARIAL',\n",
              "       'QUANTO TEMPO DE EXPERIÊNCIA NA ÁREA DE DADOS VOCÊ TEM?',\n",
              "       'QUANTO TEMPO DE EXPERIÊNCIA NA ÁREA DE TI/ENGENHARIA DE SOFTWARE VOCÊ TEVE ANTES DE COMEÇAR A TRABALHAR NA ÁREA DE DADOS?',\n",
              "       'SALARIO', 'NOVO NIVEL', 'GERACAO',\n",
              "       'Quanto tempo de experiência na área de dados você tem?',\n",
              "       'Quanto tempo de experiência na área de TI/Engenharia de Software você teve antes de começar a trabalhar na área de dados?',\n",
              "       'Você está satisfeito na sua empresa atual?',\n",
              "       'Qual o principal motivo da sua insatisfação com a empresa atual?',\n",
              "       'Você participou de entrevistas de emprego nos últimos 6 meses?',\n",
              "       'Você pretende mudar de emprego nos próximos 6 meses?',\n",
              "       'Quais os principais critérios que você leva em consideração no momento de decidir onde trabalhar?',\n",
              "       'Atualmente qual a sua forma de trabalho?',\n",
              "       'Qual a forma de trabalho ideal para você?',\n",
              "       'Caso sua empresa decida pelo modelo 100% presencial qual será sua atitude?',\n",
              "       'Sua empresa passu por Layoff em 2022?', 'Atuacao',\n",
              "       'Quais das linguagens listadas abaixo você utiliza no trabalho?'],\n",
              "      dtype='object')"
            ]
          },
          "metadata": {},
          "execution_count": 49
        }
      ]
    },
    {
      "cell_type": "markdown",
      "source": [
        "###Realizando a Análise sobre a intenção de Mudar de emprego"
      ],
      "metadata": {
        "id": "HIb9Cy7qYpp8"
      }
    },
    {
      "cell_type": "code",
      "source": [
        "# Contando as respostas na coluna \"Você pretende mudar de emprego nos próximos 6 meses?\"\n",
        "df['Você pretende mudar de emprego nos próximos 6 meses?'].value_counts()"
      ],
      "metadata": {
        "id": "GrsiWcQvYnZF",
        "colab": {
          "base_uri": "https://localhost:8080/",
          "height": 241
        },
        "outputId": "c12713b3-8d75-4059-badd-1d47a7249300"
      },
      "execution_count": 50,
      "outputs": [
        {
          "output_type": "execute_result",
          "data": {
            "text/plain": [
              "Você pretende mudar de emprego nos próximos 6 meses?\n",
              "Não estou buscando, mas me considero aberto a outras oportunidades         1354\n",
              "Estou em busca de oportunidades dentro ou fora do Brasil                   1011\n",
              "Não estou buscando e não pretendo mudar de emprego nos próximos 6 meses     978\n",
              "Estou em busca de oportunidades, mas apenas fora do Brasil                  353\n",
              "Name: count, dtype: int64"
            ],
            "text/html": [
              "<div>\n",
              "<style scoped>\n",
              "    .dataframe tbody tr th:only-of-type {\n",
              "        vertical-align: middle;\n",
              "    }\n",
              "\n",
              "    .dataframe tbody tr th {\n",
              "        vertical-align: top;\n",
              "    }\n",
              "\n",
              "    .dataframe thead th {\n",
              "        text-align: right;\n",
              "    }\n",
              "</style>\n",
              "<table border=\"1\" class=\"dataframe\">\n",
              "  <thead>\n",
              "    <tr style=\"text-align: right;\">\n",
              "      <th></th>\n",
              "      <th>count</th>\n",
              "    </tr>\n",
              "    <tr>\n",
              "      <th>Você pretende mudar de emprego nos próximos 6 meses?</th>\n",
              "      <th></th>\n",
              "    </tr>\n",
              "  </thead>\n",
              "  <tbody>\n",
              "    <tr>\n",
              "      <th>Não estou buscando, mas me considero aberto a outras oportunidades</th>\n",
              "      <td>1354</td>\n",
              "    </tr>\n",
              "    <tr>\n",
              "      <th>Estou em busca de oportunidades dentro ou fora do Brasil</th>\n",
              "      <td>1011</td>\n",
              "    </tr>\n",
              "    <tr>\n",
              "      <th>Não estou buscando e não pretendo mudar de emprego nos próximos 6 meses</th>\n",
              "      <td>978</td>\n",
              "    </tr>\n",
              "    <tr>\n",
              "      <th>Estou em busca de oportunidades, mas apenas fora do Brasil</th>\n",
              "      <td>353</td>\n",
              "    </tr>\n",
              "  </tbody>\n",
              "</table>\n",
              "</div><br><label><b>dtype:</b> int64</label>"
            ]
          },
          "metadata": {},
          "execution_count": 50
        }
      ]
    },
    {
      "cell_type": "code",
      "source": [
        "#Criando uma coluna sobre a \"Probabilidade de Mudar de Emprego\"\n",
        "df[\"Probabilidade de Mudar de Emprego\"] = df[\"Você pretende mudar de emprego nos próximos 6 meses?\"].str.contains(\"em busca\", case=False)"
      ],
      "metadata": {
        "id": "_hIVuiI-ZJOd"
      },
      "execution_count": 51,
      "outputs": []
    },
    {
      "cell_type": "code",
      "source": [
        "# Contando quantos funcionários possuem alta ou baixa probabilidade de mudar de emprego\n",
        "df[\"Probabilidade de Mudar de Emprego\"].value_counts()"
      ],
      "metadata": {
        "id": "V1OPuaZMZgpM",
        "colab": {
          "base_uri": "https://localhost:8080/",
          "height": 178
        },
        "outputId": "bddddcf5-3f9c-42e9-fc73-6935674039e9"
      },
      "execution_count": 52,
      "outputs": [
        {
          "output_type": "execute_result",
          "data": {
            "text/plain": [
              "Probabilidade de Mudar de Emprego\n",
              "False    2332\n",
              "True     1364\n",
              "Name: count, dtype: int64"
            ],
            "text/html": [
              "<div>\n",
              "<style scoped>\n",
              "    .dataframe tbody tr th:only-of-type {\n",
              "        vertical-align: middle;\n",
              "    }\n",
              "\n",
              "    .dataframe tbody tr th {\n",
              "        vertical-align: top;\n",
              "    }\n",
              "\n",
              "    .dataframe thead th {\n",
              "        text-align: right;\n",
              "    }\n",
              "</style>\n",
              "<table border=\"1\" class=\"dataframe\">\n",
              "  <thead>\n",
              "    <tr style=\"text-align: right;\">\n",
              "      <th></th>\n",
              "      <th>count</th>\n",
              "    </tr>\n",
              "    <tr>\n",
              "      <th>Probabilidade de Mudar de Emprego</th>\n",
              "      <th></th>\n",
              "    </tr>\n",
              "  </thead>\n",
              "  <tbody>\n",
              "    <tr>\n",
              "      <th>False</th>\n",
              "      <td>2332</td>\n",
              "    </tr>\n",
              "    <tr>\n",
              "      <th>True</th>\n",
              "      <td>1364</td>\n",
              "    </tr>\n",
              "  </tbody>\n",
              "</table>\n",
              "</div><br><label><b>dtype:</b> int64</label>"
            ]
          },
          "metadata": {},
          "execution_count": 52
        }
      ]
    },
    {
      "cell_type": "code",
      "source": [
        "#Criando coluna sobre \"Aberto a Oportunidades\"\n",
        "df[\"Aberto a oportunidades\"] = df[\"Você pretende mudar de emprego nos próximos 6 meses?\"].str.contains(\"aberto\", case=False)"
      ],
      "metadata": {
        "id": "oybhDSU7Zrsw"
      },
      "execution_count": 53,
      "outputs": []
    },
    {
      "cell_type": "code",
      "source": [
        "#Contando quantas pessoas estão abertas a oportunidades\n",
        "df[\"Aberto a oportunidades\"].value_counts()"
      ],
      "metadata": {
        "id": "ygAZCKF0Z7kx",
        "colab": {
          "base_uri": "https://localhost:8080/",
          "height": 178
        },
        "outputId": "b786a8b7-3dff-4c5a-8809-0fa9cd03a931"
      },
      "execution_count": 54,
      "outputs": [
        {
          "output_type": "execute_result",
          "data": {
            "text/plain": [
              "Aberto a oportunidades\n",
              "False    2342\n",
              "True     1354\n",
              "Name: count, dtype: int64"
            ],
            "text/html": [
              "<div>\n",
              "<style scoped>\n",
              "    .dataframe tbody tr th:only-of-type {\n",
              "        vertical-align: middle;\n",
              "    }\n",
              "\n",
              "    .dataframe tbody tr th {\n",
              "        vertical-align: top;\n",
              "    }\n",
              "\n",
              "    .dataframe thead th {\n",
              "        text-align: right;\n",
              "    }\n",
              "</style>\n",
              "<table border=\"1\" class=\"dataframe\">\n",
              "  <thead>\n",
              "    <tr style=\"text-align: right;\">\n",
              "      <th></th>\n",
              "      <th>count</th>\n",
              "    </tr>\n",
              "    <tr>\n",
              "      <th>Aberto a oportunidades</th>\n",
              "      <th></th>\n",
              "    </tr>\n",
              "  </thead>\n",
              "  <tbody>\n",
              "    <tr>\n",
              "      <th>False</th>\n",
              "      <td>2342</td>\n",
              "    </tr>\n",
              "    <tr>\n",
              "      <th>True</th>\n",
              "      <td>1354</td>\n",
              "    </tr>\n",
              "  </tbody>\n",
              "</table>\n",
              "</div><br><label><b>dtype:</b> int64</label>"
            ]
          },
          "metadata": {},
          "execution_count": 54
        }
      ]
    },
    {
      "cell_type": "markdown",
      "source": [
        "#Análise de Correlação"
      ],
      "metadata": {
        "id": "xLVhn7GnT9zc"
      }
    },
    {
      "cell_type": "code",
      "source": [
        "# Correlação entre idade e salário (variáveis contínuas)\n",
        "correlacao_continua = df[\"IDADE\"].corr(df[\"SALARIO\"])\n",
        "print(\"Correlação entre idade e salário:\", correlacao_continua)"
      ],
      "metadata": {
        "id": "Q4qxNB4gT5lA",
        "colab": {
          "base_uri": "https://localhost:8080/"
        },
        "outputId": "0bb6c68f-3d26-4ab4-f613-4c9f9386b814"
      },
      "execution_count": 55,
      "outputs": [
        {
          "output_type": "stream",
          "name": "stdout",
          "text": [
            "Correlação entre idade e salário: 0.28937841529921254\n"
          ]
        }
      ]
    },
    {
      "cell_type": "code",
      "source": [
        "# Cálculo do coeficiente de Cramer (variáveis categóricas)\n",
        "def crawmer_coeficiente (coluna1, coluna2):\n",
        "  tabela_cruzada = np.array(pd.crosstab(coluna1, coluna2))\n",
        "  chi2 = chi2_contingency(tabela_cruzada)[0]\n",
        "  soma = np.sum(tabela_cruzada)\n",
        "  mini = min(tabela_cruzada.shape)-1\n",
        "  cramer = np.sqrt(chi2/(soma*mini))\n",
        "  return cramer"
      ],
      "metadata": {
        "id": "68zl9kFdUESD"
      },
      "execution_count": 56,
      "outputs": []
    },
    {
      "cell_type": "code",
      "source": [
        "# Correlação entre \"COR/RACA/ETNIA\" & \"NIVEL DE ENSINO\"\n",
        "cramer_cor_raca_nivel = crawmer_coeficiente(df[\"COR/RACA/ETNIA\"], df[\"NIVEL DE ENSINO\"])\n",
        "print(\"Coeficiente de Cramer entre cor/raça e nível de ensino:\", cramer_cor_raca_nivel)"
      ],
      "metadata": {
        "id": "Kl0TF85ZUczd",
        "colab": {
          "base_uri": "https://localhost:8080/"
        },
        "outputId": "85dcd27e-f68d-4d97-93aa-c7c9f08410ae"
      },
      "execution_count": 57,
      "outputs": [
        {
          "output_type": "stream",
          "name": "stdout",
          "text": [
            "Coeficiente de Cramer entre cor/raça e nível de ensino: 0.04499106580480143\n"
          ]
        }
      ]
    },
    {
      "cell_type": "code",
      "source": [
        "#Gerando Tabela Cruzada entre \"COR/RACA/ETNIA\" & \"NIVEL DE ENSINO\" e convertendo em um array para melhor vizualização\n",
        "tabela_cruzada = pd.crosstab(df[\"COR/RACA/ETNIA\"], df[\"NIVEL DE ENSINO\"])\n",
        "np.array(tabela_cruzada)"
      ],
      "metadata": {
        "id": "_5Rwb3G4aTM0",
        "colab": {
          "base_uri": "https://localhost:8080/"
        },
        "outputId": "db3a3bf3-4965-49e6-e015-e8936271264b"
      },
      "execution_count": 58,
      "outputs": [
        {
          "output_type": "execute_result",
          "data": {
            "text/plain": [
              "array([[  7,  15,  50,  14,   2,   0,  40],\n",
              "       [127, 365, 999, 355,  65,   8, 827],\n",
              "       [  0,   2,   4,   2,   0,   0,   3],\n",
              "       [  0,   0,   6,   3,   1,   0,   7],\n",
              "       [ 50, 178, 333, 113,  33,   3, 344],\n",
              "       [  1,   2,  14,   1,   0,   1,   7],\n",
              "       [  6,  51, 104,  33,   9,   0,  88]])"
            ]
          },
          "metadata": {},
          "execution_count": 58
        }
      ]
    },
    {
      "cell_type": "code",
      "source": [
        "#Correlação entre \"NIVEL DE ENSINO\" & \"GENERO\"\n",
        "crawmer_nivel_ensino_genero = crawmer_coeficiente(df[\"NIVEL DE ENSINO\"], df[\"GENERO\"])\n",
        "print(\"Coeficiente de Cramer entre nível de ensino e gênero:\", crawmer_nivel_ensino_genero)"
      ],
      "metadata": {
        "id": "UdP_wOCIbEHA",
        "colab": {
          "base_uri": "https://localhost:8080/"
        },
        "outputId": "48c81af7-47a1-4b80-a9a9-bd7b41c34cbf"
      },
      "execution_count": 59,
      "outputs": [
        {
          "output_type": "stream",
          "name": "stdout",
          "text": [
            "Coeficiente de Cramer entre nível de ensino e gênero: 0.076119232802818\n"
          ]
        }
      ]
    },
    {
      "cell_type": "code",
      "source": [
        "#Gerando Tabela Cruzada entre \"NIVEL DE ENSINO\" & \"GENERO\"\n",
        "tabela_cruzada2 = pd.crosstab(df[\"NIVEL DE ENSINO\"], df[\"GENERO\"])\n",
        "print(tabela_cruzada2)"
      ],
      "metadata": {
        "id": "L4sGLf4camVo",
        "colab": {
          "base_uri": "https://localhost:8080/"
        },
        "outputId": "857bcb77-6d58-4b60-d0a9-d86d2fa61812"
      },
      "execution_count": 60,
      "outputs": [
        {
          "output_type": "stream",
          "name": "stdout",
          "text": [
            "GENERO                      Feminino  Masculino  Prefiro não informar\n",
            "NIVEL DE ENSINO                                                      \n",
            "Doutorado ou Phd                  57        134                     0\n",
            "Estudante de Graduação           104        506                     3\n",
            "Graduação/Bacharelado            365       1138                     7\n",
            "Mestrado                         133        386                     2\n",
            "Não tenho graduação formal        24         86                     0\n",
            "Prefiro não informar               3          8                     1\n",
            "Pós-graduação                    372        936                     8\n"
          ]
        }
      ]
    },
    {
      "cell_type": "markdown",
      "source": [
        "#Exportação do DataFrame final para CSV"
      ],
      "metadata": {
        "id": "r0LlEqoQUkWU"
      }
    },
    {
      "cell_type": "code",
      "source": [
        "df.to_csv(\"/content/drive/MyDrive/Python_PrograMaria/analise_dados.csv\", float_format='%.2f', index=False)"
      ],
      "metadata": {
        "id": "LJDgJtG0Ug0B"
      },
      "execution_count": 61,
      "outputs": []
    },
    {
      "cell_type": "markdown",
      "source": [
        "#Conectando SQL com Pandas"
      ],
      "metadata": {
        "id": "pQTf1hSOsnhV"
      }
    },
    {
      "cell_type": "code",
      "source": [
        "#Conectando ao banco de Dados SQLite\n",
        "conexao = sqlite3.connect(\"/content/drive/MyDrive/Python_PrograMaria/satatus_brasil\")"
      ],
      "metadata": {
        "id": "mYTsd6Dkdruj"
      },
      "execution_count": 62,
      "outputs": []
    },
    {
      "cell_type": "code",
      "source": [
        "#Carregando o arquivo CSV\n",
        "df3 = pd.read_csv(\"/content/drive/MyDrive/Python_PrograMaria/analise_dados.csv\")"
      ],
      "metadata": {
        "id": "uteWpFBstj7t"
      },
      "execution_count": 63,
      "outputs": []
    },
    {
      "cell_type": "code",
      "source": [
        "#Lista dos estados únicos do DataFrame\n",
        "estados_list = list(df[\"UF ONDE MORA\"].unique())"
      ],
      "metadata": {
        "id": "-uTRSg1i1jPd"
      },
      "execution_count": 64,
      "outputs": []
    },
    {
      "cell_type": "code",
      "source": [
        "#Query para buscar a média de renda e educação dos Estados\n",
        "query = \"\"\"\n",
        "        SELECT Municipios_Brasileiros.Estado, AVG(Municipio_status.Renda) AS Media_Renda, AVG(Municipio_status.Educacao) AS Media_Educacao\n",
        "        FROM Municipios_Brasileiros\n",
        "        INNER JOIN Municipio_status ON Municipios_Brasileiros.municipio_ID = Municipio_status.municipio_ID\n",
        "        WHERE Municipios_Brasileiros.Estado IN ({})\n",
        "        GROUP BY Municipios_Brasileiros.Estado;\n",
        "        \"\"\".format(','.join(['?' for _ in estados_list]))"
      ],
      "metadata": {
        "id": "C6a3UFXlskI2"
      },
      "execution_count": 65,
      "outputs": []
    },
    {
      "cell_type": "code",
      "source": [
        "#Executando a query e armazenando o resultado em um DataFrame\n",
        "estados_renda_educacao = pd.read_sql(query, conexao, params = estados_list)"
      ],
      "metadata": {
        "id": "H0R-TzJotNAn"
      },
      "execution_count": 66,
      "outputs": []
    },
    {
      "cell_type": "code",
      "source": [
        "#Renomeando a coluna do DataFrame 3\n",
        "df3.rename(columns={\"UF ONDE MORA\": \"Estado\"}, inplace=True)"
      ],
      "metadata": {
        "id": "dUz2UClO53WD"
      },
      "execution_count": 67,
      "outputs": []
    },
    {
      "cell_type": "code",
      "source": [
        "#Verificando a mudança\n",
        "df3.columns"
      ],
      "metadata": {
        "id": "GvfWy8lh6bSX",
        "collapsed": true,
        "colab": {
          "base_uri": "https://localhost:8080/"
        },
        "outputId": "c866c107-b14b-46c1-ed9a-a57783cb7451"
      },
      "execution_count": 68,
      "outputs": [
        {
          "output_type": "execute_result",
          "data": {
            "text/plain": [
              "Index(['Unnamed: 0', 'ID', 'IDADE', 'FAIXA IDADE', 'GENERO', 'COR/RACA/ETNIA',\n",
              "       'PCD', 'EXPERIENCIA_PROFISSIONAL_PREJUDICADA', 'ASPECTOS_PREJUDICADOS',\n",
              "       'VIVE_NO_BRASIL', 'ESTADO ONDE MORA', 'Estado', 'REGIAO ONDE MORA',\n",
              "       'MUDOU DE ESTADO?', 'REGIAO DE ORIGEM', 'NIVEL DE ENSINO',\n",
              "       'ÁREA DE FORMAÇÃO', 'QUAL SUA SITUAÇÃO ATUAL DE TRABALHO?', 'SETOR',\n",
              "       'NUMERO DE FUNCIONARIOS', 'GESTOR?', 'CARGO COMO GESTOR', 'CARGO ATUAL',\n",
              "       'NIVEL', 'FAIXA SALARIAL',\n",
              "       'QUANTO TEMPO DE EXPERIÊNCIA NA ÁREA DE DADOS VOCÊ TEM?',\n",
              "       'QUANTO TEMPO DE EXPERIÊNCIA NA ÁREA DE TI/ENGENHARIA DE SOFTWARE VOCÊ TEVE ANTES DE COMEÇAR A TRABALHAR NA ÁREA DE DADOS?',\n",
              "       'SALARIO', 'NOVO NIVEL', 'GERACAO',\n",
              "       'Quanto tempo de experiência na área de dados você tem?',\n",
              "       'Quanto tempo de experiência na área de TI/Engenharia de Software você teve antes de começar a trabalhar na área de dados?',\n",
              "       'Você está satisfeito na sua empresa atual?',\n",
              "       'Qual o principal motivo da sua insatisfação com a empresa atual?',\n",
              "       'Você participou de entrevistas de emprego nos últimos 6 meses?',\n",
              "       'Você pretende mudar de emprego nos próximos 6 meses?',\n",
              "       'Quais os principais critérios que você leva em consideração no momento de decidir onde trabalhar?',\n",
              "       'Atualmente qual a sua forma de trabalho?',\n",
              "       'Qual a forma de trabalho ideal para você?',\n",
              "       'Caso sua empresa decida pelo modelo 100% presencial qual será sua atitude?',\n",
              "       'Sua empresa passu por Layoff em 2022?', 'Atuacao',\n",
              "       'Quais das linguagens listadas abaixo você utiliza no trabalho?',\n",
              "       'Probabilidade de Mudar de Emprego', 'Aberto a oportunidades'],\n",
              "      dtype='object')"
            ]
          },
          "metadata": {},
          "execution_count": 68
        }
      ]
    },
    {
      "cell_type": "code",
      "source": [
        "#Calculando a correlação entre salário e renda\n",
        "correlacao_renda_salario = df3[\"SALARIO\"].corr(estados_renda_educacao[\"Media_Renda\"])\n",
        "print(\"Correlação entre salário e renda:\", correlacao_renda_salario)"
      ],
      "metadata": {
        "id": "brJ4NPI-63xX",
        "colab": {
          "base_uri": "https://localhost:8080/"
        },
        "outputId": "87bdde96-1c26-4554-99a2-b7bcd2f77e23"
      },
      "execution_count": 69,
      "outputs": [
        {
          "output_type": "stream",
          "name": "stdout",
          "text": [
            "Correlação entre salário e renda: -0.15859512793375552\n"
          ]
        }
      ]
    },
    {
      "cell_type": "code",
      "source": [
        "#Calculando a correlação entre salário e educação\n",
        "correlacao_renda_educacao = df3[\"SALARIO\"].corr(estados_renda_educacao[\"Media_Educacao\"])\n",
        "print(\"Correlação entre salário e educação:\", correlacao_renda_educacao)"
      ],
      "metadata": {
        "id": "Uxh8xCVS7Pjz",
        "colab": {
          "base_uri": "https://localhost:8080/"
        },
        "outputId": "44458e1d-abb5-446e-999e-6fbb74620df1"
      },
      "execution_count": 70,
      "outputs": [
        {
          "output_type": "stream",
          "name": "stdout",
          "text": [
            "Correlação entre salário e educação: -0.1141070853307146\n"
          ]
        }
      ]
    },
    {
      "cell_type": "markdown",
      "source": [
        "#Vizualização de Dados"
      ],
      "metadata": {
        "id": "OQ7lVY3txB1f"
      }
    },
    {
      "cell_type": "code",
      "source": [
        "genero_counts = df3[\"GENERO\"].value_counts()"
      ],
      "metadata": {
        "id": "dqz6GXcRx5Z5"
      },
      "execution_count": 71,
      "outputs": []
    },
    {
      "cell_type": "code",
      "source": [
        "plt.figure()\n",
        "plt.bar(height = genero_counts.values, x = genero_counts.index)\n",
        "plt.title(\"Quantidade de Pessoas por Gênero na Área de Dados\")\n",
        "plt.show()"
      ],
      "metadata": {
        "id": "hbNxMAH6yL30",
        "colab": {
          "base_uri": "https://localhost:8080/",
          "height": 455
        },
        "outputId": "7deacc5e-ebf1-4db0-a15f-54e7511cb568"
      },
      "execution_count": 72,
      "outputs": [
        {
          "output_type": "display_data",
          "data": {
            "text/plain": [
              "<Figure size 640x480 with 1 Axes>"
            ],
            "image/png": "[encoded data removed]"
          },
          "metadata": {}
        }
      ]
    },
    {
      "cell_type": "code",
      "source": [
        "plt.figure()\n",
        "sns.countplot(data=df3, x=\"GENERO\", palette = \"pastel\")\n",
        "plt.title(\"Quantidade de Pessoas por Gênero na Área de Dados\")\n",
        "plt.xlabel(\"Gênero\")\n",
        "plt.ylabel(\"Quantidade\")\n",
        "plt.show()"
      ],
      "metadata": {
        "id": "R4FScaOLzPhx",
        "colab": {
          "base_uri": "https://localhost:8080/",
          "height": 565
        },
        "outputId": "c72e63d9-67c5-4783-fb6c-ad1e2e3658b9"
      },
      "execution_count": 73,
      "outputs": [
        {
          "output_type": "stream",
          "name": "stderr",
          "text": [
            "<ipython-input-73-1c79a13c27a0>:2: FutureWarning: \n",
            "\n",
            "Passing `palette` without assigning `hue` is deprecated and will be removed in v0.14.0. Assign the `x` variable to `hue` and set `legend=False` for the same effect.\n",
            "\n",
            "  sns.countplot(data=df3, x=\"GENERO\", palette = \"pastel\")\n"
          ]
        },
        {
          "output_type": "display_data",
          "data": {
            "text/plain": [
              "<Figure size 640x480 with 1 Axes>"
            ],
            "image/png": "[encoded data removed]"
          },
          "metadata": {}
        }
      ]
    },
    {
      "cell_type": "code",
      "source": [
        "salario_idade = df3.groupby(\"IDADE\")[\"SALARIO\"].mean()\n",
        "\n",
        "plt.figure()\n",
        "plt.plot(salario_idade.index, salario_idade.values, marker=\"o\", linestyle=\"--\")\n",
        "plt.xlabel(\"Idade\")\n",
        "plt.ylabel(\"Média Salarial\")\n",
        "plt.title(\"Média Salarial por Idade\")\n",
        "plt.grid(True)\n",
        "plt.show()"
      ],
      "metadata": {
        "id": "sd_LZjdV1GrF",
        "colab": {
          "base_uri": "https://localhost:8080/",
          "height": 472
        },
        "outputId": "5ef20b18-98e4-4dab-863f-39dbf365bc03"
      },
      "execution_count": 76,
      "outputs": [
        {
          "output_type": "display_data",
          "data": {
            "text/plain": [
              "<Figure size 640x480 with 1 Axes>"
            ],
            "image/png": "[encoded data removed]"
          },
          "metadata": {}
        }
      ]
    },
    {
      "cell_type": "code",
      "source": [
        "fig = px.line(salario_idade.reset_index(), x = \"IDADE\", y= \"SALARIO\", title= \"Média Salarial por Idade\", markers=True)\n",
        "fig.show()"
      ],
      "metadata": {
        "id": "9BRQLX1E15bW",
        "colab": {
          "base_uri": "https://localhost:8080/",
          "height": 542
        },
        "outputId": "2254f22c-a783-4c86-8a0d-a553ce52fdad"
      },
      "execution_count": 77,
      "outputs": [
        {
          "output_type": "display_data",
          "data": {
            "text/html": [
              "<html>\n",
              "<head><meta charset=\"utf-8\" /></head>\n",
              "<body>\n",
              "    <div>            <script src=\"https://cdnjs.cloudflare.com/ajax/libs/mathjax/2.7.5/MathJax.js?config=TeX-AMS-MML_SVG\"></script><script type=\"text/javascript\">if (window.MathJax && window.MathJax.Hub && window.MathJax.Hub.Config) {window.MathJax.Hub.Config({SVG: {font: \"STIX-Web\"}});}</script>                <script type=\"text/javascript\">window.PlotlyConfig = {MathJaxConfig: 'local'};</script>\n",
              "        <script charset=\"utf-8\" src=\"https://cdn.plot.ly/plotly-2.24.1.min.js\"></script>                <div id=\"fc53f8eb-ce0d-4bd3-8c03-a0d5bc15f29e\" class=\"plotly-graph-div\" style=\"height:525px; width:100%;\"></div>            <script type=\"text/javascript\">                                    window.PLOTLYENV=window.PLOTLYENV || {};                                    if (document.getElementById(\"fc53f8eb-ce0d-4bd3-8c03-a0d5bc15f29e\")) {                    Plotly.newPlot(                        \"fc53f8eb-ce0d-4bd3-8c03-a0d5bc15f29e\",                        [{\"hovertemplate\":\"IDADE=%{x}\\u003cbr\\u003eSALARIO=%{y}\\u003cextra\\u003e\\u003c\\u002fextra\\u003e\",\"legendgroup\":\"\",\"line\":{\"color\":\"#636efa\",\"dash\":\"solid\"},\"marker\":{\"symbol\":\"circle\"},\"mode\":\"markers+lines\",\"name\":\"\",\"orientation\":\"v\",\"showlegend\":false,\"x\":[18.0,19.0,20.0,21.0,22.0,23.0,24.0,25.0,26.0,27.0,28.0,29.0,30.0,31.0,32.0,33.0,34.0,35.0,36.0,37.0,38.0,39.0,40.0,41.0,42.0,43.0,44.0,45.0,46.0,47.0,48.0,49.0,50.0,51.0,52.0,53.0,54.0],\"xaxis\":\"x\",\"y\":[4230.307692307692,4519.590909090909,4778.384615384615,4578.73717948718,4394.689814814815,5602.4068965517245,6151.622448979592,7616.3923357664235,7700.071174377224,8237.429765886287,9737.938144329897,9554.853162055337,10316.412701612904,9986.00062305296,10843.197777777777,11592.718611111111,12294.640211640211,12533.263448275862,12267.96655844156,12613.52838983051,13983.823076923076,13309.083009708738,15028.032835820895,13578.880952380952,11801.037037037036,14349.732352941175,14665.770238095238,16103.431707317071,11913.709677419354,11156.03125,12249.714285714286,14556.0,15740.010294117646,8977.9,11779.475,9850.0,13644.142307692307],\"yaxis\":\"y\",\"type\":\"scatter\"}],                        {\"template\":{\"data\":{\"histogram2dcontour\":[{\"type\":\"histogram2dcontour\",\"colorbar\":{\"outlinewidth\":0,\"ticks\":\"\"},\"colorscale\":[[0.0,\"#0d0887\"],[0.1111111111111111,\"#46039f\"],[0.2222222222222222,\"#7201a8\"],[0.3333333333333333,\"#9c179e\"],[0.4444444444444444,\"#bd3786\"],[0.5555555555555556,\"#d8576b\"],[0.6666666666666666,\"#ed7953\"],[0.7777777777777778,\"#fb9f3a\"],[0.8888888888888888,\"#fdca26\"],[1.0,\"#f0f921\"]]}],\"choropleth\":[{\"type\":\"choropleth\",\"colorbar\":{\"outlinewidth\":0,\"ticks\":\"\"}}],\"histogram2d\":[{\"type\":\"histogram2d\",\"colorbar\":{\"outlinewidth\":0,\"ticks\":\"\"},\"colorscale\":[[0.0,\"#0d0887\"],[0.1111111111111111,\"#46039f\"],[0.2222222222222222,\"#7201a8\"],[0.3333333333333333,\"#9c179e\"],[0.4444444444444444,\"#bd3786\"],[0.5555555555555556,\"#d8576b\"],[0.6666666666666666,\"#ed7953\"],[0.7777777777777778,\"#fb9f3a\"],[0.8888888888888888,\"#fdca26\"],[1.0,\"#f0f921\"]]}],\"heatmap\":[{\"type\":\"heatmap\",\"colorbar\":{\"outlinewidth\":0,\"ticks\":\"\"},\"colorscale\":[[0.0,\"#0d0887\"],[0.1111111111111111,\"#46039f\"],[0.2222222222222222,\"#7201a8\"],[0.3333333333333333,\"#9c179e\"],[0.4444444444444444,\"#bd3786\"],[0.5555555555555556,\"#d8576b\"],[0.6666666666666666,\"#ed7953\"],[0.7777777777777778,\"#fb9f3a\"],[0.8888888888888888,\"#fdca26\"],[1.0,\"#f0f921\"]]}],\"heatmapgl\":[{\"type\":\"heatmapgl\",\"colorbar\":{\"outlinewidth\":0,\"ticks\":\"\"},\"colorscale\":[[0.0,\"#0d0887\"],[0.1111111111111111,\"#46039f\"],[0.2222222222222222,\"#7201a8\"],[0.3333333333333333,\"#9c179e\"],[0.4444444444444444,\"#bd3786\"],[0.5555555555555556,\"#d8576b\"],[0.6666666666666666,\"#ed7953\"],[0.7777777777777778,\"#fb9f3a\"],[0.8888888888888888,\"#fdca26\"],[1.0,\"#f0f921\"]]}],\"contourcarpet\":[{\"type\":\"contourcarpet\",\"colorbar\":{\"outlinewidth\":0,\"ticks\":\"\"}}],\"contour\":[{\"type\":\"contour\",\"colorbar\":{\"outlinewidth\":0,\"ticks\":\"\"},\"colorscale\":[[0.0,\"#0d0887\"],[0.1111111111111111,\"#46039f\"],[0.2222222222222222,\"#7201a8\"],[0.3333333333333333,\"#9c179e\"],[0.4444444444444444,\"#bd3786\"],[0.5555555555555556,\"#d8576b\"],[0.6666666666666666,\"#ed7953\"],[0.7777777777777778,\"#fb9f3a\"],[0.8888888888888888,\"#fdca26\"],[1.0,\"#f0f921\"]]}],\"surface\":[{\"type\":\"surface\",\"colorbar\":{\"outlinewidth\":0,\"ticks\":\"\"},\"colorscale\":[[0.0,\"#0d0887\"],[0.1111111111111111,\"#46039f\"],[0.2222222222222222,\"#7201a8\"],[0.3333333333333333,\"#9c179e\"],[0.4444444444444444,\"#bd3786\"],[0.5555555555555556,\"#d8576b\"],[0.6666666666666666,\"#ed7953\"],[0.7777777777777778,\"#fb9f3a\"],[0.8888888888888888,\"#fdca26\"],[1.0,\"#f0f921\"]]}],\"mesh3d\":[{\"type\":\"mesh3d\",\"colorbar\":{\"outlinewidth\":0,\"ticks\":\"\"}}],\"scatter\":[{\"fillpattern\":{\"fillmode\":\"overlay\",\"size\":10,\"solidity\":0.2},\"type\":\"scatter\"}],\"parcoords\":[{\"type\":\"parcoords\",\"line\":{\"colorbar\":{\"outlinewidth\":0,\"ticks\":\"\"}}}],\"scatterpolargl\":[{\"type\":\"scatterpolargl\",\"marker\":{\"colorbar\":{\"outlinewidth\":0,\"ticks\":\"\"}}}],\"bar\":[{\"error_x\":{\"color\":\"#2a3f5f\"},\"error_y\":{\"color\":\"#2a3f5f\"},\"marker\":{\"line\":{\"color\":\"#E5ECF6\",\"width\":0.5},\"pattern\":{\"fillmode\":\"overlay\",\"size\":10,\"solidity\":0.2}},\"type\":\"bar\"}],\"scattergeo\":[{\"type\":\"scattergeo\",\"marker\":{\"colorbar\":{\"outlinewidth\":0,\"ticks\":\"\"}}}],\"scatterpolar\":[{\"type\":\"scatterpolar\",\"marker\":{\"colorbar\":{\"outlinewidth\":0,\"ticks\":\"\"}}}],\"histogram\":[{\"marker\":{\"pattern\":{\"fillmode\":\"overlay\",\"size\":10,\"solidity\":0.2}},\"type\":\"histogram\"}],\"scattergl\":[{\"type\":\"scattergl\",\"marker\":{\"colorbar\":{\"outlinewidth\":0,\"ticks\":\"\"}}}],\"scatter3d\":[{\"type\":\"scatter3d\",\"line\":{\"colorbar\":{\"outlinewidth\":0,\"ticks\":\"\"}},\"marker\":{\"colorbar\":{\"outlinewidth\":0,\"ticks\":\"\"}}}],\"scattermapbox\":[{\"type\":\"scattermapbox\",\"marker\":{\"colorbar\":{\"outlinewidth\":0,\"ticks\":\"\"}}}],\"scatterternary\":[{\"type\":\"scatterternary\",\"marker\":{\"colorbar\":{\"outlinewidth\":0,\"ticks\":\"\"}}}],\"scattercarpet\":[{\"type\":\"scattercarpet\",\"marker\":{\"colorbar\":{\"outlinewidth\":0,\"ticks\":\"\"}}}],\"carpet\":[{\"aaxis\":{\"endlinecolor\":\"#2a3f5f\",\"gridcolor\":\"white\",\"linecolor\":\"white\",\"minorgridcolor\":\"white\",\"startlinecolor\":\"#2a3f5f\"},\"baxis\":{\"endlinecolor\":\"#2a3f5f\",\"gridcolor\":\"white\",\"linecolor\":\"white\",\"minorgridcolor\":\"white\",\"startlinecolor\":\"#2a3f5f\"},\"type\":\"carpet\"}],\"table\":[{\"cells\":{\"fill\":{\"color\":\"#EBF0F8\"},\"line\":{\"color\":\"white\"}},\"header\":{\"fill\":{\"color\":\"#C8D4E3\"},\"line\":{\"color\":\"white\"}},\"type\":\"table\"}],\"barpolar\":[{\"marker\":{\"line\":{\"color\":\"#E5ECF6\",\"width\":0.5},\"pattern\":{\"fillmode\":\"overlay\",\"size\":10,\"solidity\":0.2}},\"type\":\"barpolar\"}],\"pie\":[{\"automargin\":true,\"type\":\"pie\"}]},\"layout\":{\"autotypenumbers\":\"strict\",\"colorway\":[\"#636efa\",\"#EF553B\",\"#00cc96\",\"#ab63fa\",\"#FFA15A\",\"#19d3f3\",\"#FF6692\",\"#B6E880\",\"#FF97FF\",\"#FECB52\"],\"font\":{\"color\":\"#2a3f5f\"},\"hovermode\":\"closest\",\"hoverlabel\":{\"align\":\"left\"},\"paper_bgcolor\":\"white\",\"plot_bgcolor\":\"#E5ECF6\",\"polar\":{\"bgcolor\":\"#E5ECF6\",\"angularaxis\":{\"gridcolor\":\"white\",\"linecolor\":\"white\",\"ticks\":\"\"},\"radialaxis\":{\"gridcolor\":\"white\",\"linecolor\":\"white\",\"ticks\":\"\"}},\"ternary\":{\"bgcolor\":\"#E5ECF6\",\"aaxis\":{\"gridcolor\":\"white\",\"linecolor\":\"white\",\"ticks\":\"\"},\"baxis\":{\"gridcolor\":\"white\",\"linecolor\":\"white\",\"ticks\":\"\"},\"caxis\":{\"gridcolor\":\"white\",\"linecolor\":\"white\",\"ticks\":\"\"}},\"coloraxis\":{\"colorbar\":{\"outlinewidth\":0,\"ticks\":\"\"}},\"colorscale\":{\"sequential\":[[0.0,\"#0d0887\"],[0.1111111111111111,\"#46039f\"],[0.2222222222222222,\"#7201a8\"],[0.3333333333333333,\"#9c179e\"],[0.4444444444444444,\"#bd3786\"],[0.5555555555555556,\"#d8576b\"],[0.6666666666666666,\"#ed7953\"],[0.7777777777777778,\"#fb9f3a\"],[0.8888888888888888,\"#fdca26\"],[1.0,\"#f0f921\"]],\"sequentialminus\":[[0.0,\"#0d0887\"],[0.1111111111111111,\"#46039f\"],[0.2222222222222222,\"#7201a8\"],[0.3333333333333333,\"#9c179e\"],[0.4444444444444444,\"#bd3786\"],[0.5555555555555556,\"#d8576b\"],[0.6666666666666666,\"#ed7953\"],[0.7777777777777778,\"#fb9f3a\"],[0.8888888888888888,\"#fdca26\"],[1.0,\"#f0f921\"]],\"diverging\":[[0,\"#8e0152\"],[0.1,\"#c51b7d\"],[0.2,\"#de77ae\"],[0.3,\"#f1b6da\"],[0.4,\"#fde0ef\"],[0.5,\"#f7f7f7\"],[0.6,\"#e6f5d0\"],[0.7,\"#b8e186\"],[0.8,\"#7fbc41\"],[0.9,\"#4d9221\"],[1,\"#276419\"]]},\"xaxis\":{\"gridcolor\":\"white\",\"linecolor\":\"white\",\"ticks\":\"\",\"title\":{\"standoff\":15},\"zerolinecolor\":\"white\",\"automargin\":true,\"zerolinewidth\":2},\"yaxis\":{\"gridcolor\":\"white\",\"linecolor\":\"white\",\"ticks\":\"\",\"title\":{\"standoff\":15},\"zerolinecolor\":\"white\",\"automargin\":true,\"zerolinewidth\":2},\"scene\":{\"xaxis\":{\"backgroundcolor\":\"#E5ECF6\",\"gridcolor\":\"white\",\"linecolor\":\"white\",\"showbackground\":true,\"ticks\":\"\",\"zerolinecolor\":\"white\",\"gridwidth\":2},\"yaxis\":{\"backgroundcolor\":\"#E5ECF6\",\"gridcolor\":\"white\",\"linecolor\":\"white\",\"showbackground\":true,\"ticks\":\"\",\"zerolinecolor\":\"white\",\"gridwidth\":2},\"zaxis\":{\"backgroundcolor\":\"#E5ECF6\",\"gridcolor\":\"white\",\"linecolor\":\"white\",\"showbackground\":true,\"ticks\":\"\",\"zerolinecolor\":\"white\",\"gridwidth\":2}},\"shapedefaults\":{\"line\":{\"color\":\"#2a3f5f\"}},\"annotationdefaults\":{\"arrowcolor\":\"#2a3f5f\",\"arrowhead\":0,\"arrowwidth\":1},\"geo\":{\"bgcolor\":\"white\",\"landcolor\":\"#E5ECF6\",\"subunitcolor\":\"white\",\"showland\":true,\"showlakes\":true,\"lakecolor\":\"white\"},\"title\":{\"x\":0.05},\"mapbox\":{\"style\":\"light\"}}},\"xaxis\":{\"anchor\":\"y\",\"domain\":[0.0,1.0],\"title\":{\"text\":\"IDADE\"}},\"yaxis\":{\"anchor\":\"x\",\"domain\":[0.0,1.0],\"title\":{\"text\":\"SALARIO\"}},\"legend\":{\"tracegroupgap\":0},\"title\":{\"text\":\"M\\u00e9dia Salarial por Idade\"}},                        {\"responsive\": true}                    ).then(function(){\n",
              "                            \n",
              "var gd = document.getElementById('fc53f8eb-ce0d-4bd3-8c03-a0d5bc15f29e');\n",
              "var x = new MutationObserver(function (mutations, observer) {{\n",
              "        var display = window.getComputedStyle(gd).display;\n",
              "        if (!display || display === 'none') {{\n",
              "            console.log([gd, 'removed!']);\n",
              "            Plotly.purge(gd);\n",
              "            observer.disconnect();\n",
              "        }}\n",
              "}});\n",
              "\n",
              "// Listen for the removal of the full notebook cells\n",
              "var notebookContainer = gd.closest('#notebook-container');\n",
              "if (notebookContainer) {{\n",
              "    x.observe(notebookContainer, {childList: true});\n",
              "}}\n",
              "\n",
              "// Listen for the clearing of the current output cell\n",
              "var outputEl = gd.closest('.output');\n",
              "if (outputEl) {{\n",
              "    x.observe(outputEl, {childList: true});\n",
              "}}\n",
              "\n",
              "                        })                };                            </script>        </div>\n",
              "</body>\n",
              "</html>"
            ]
          },
          "metadata": {}
        }
      ]
    },
    {
      "cell_type": "code",
      "source": [
        "plt.figure(figsize=(15, 5))\n",
        "plt.scatter(df3[\"IDADE\"], df3[\"SALARIO\"], alpha=0.5)\n",
        "plt.title(\"Dispersão de Salário por Idade\")\n",
        "plt.xlabel(\"Idade\")\n",
        "plt.ylabel(\"Salário\")\n",
        "plt.grid(True)\n",
        "plt.show()"
      ],
      "metadata": {
        "id": "ZWdetn8b3b8C",
        "colab": {
          "base_uri": "https://localhost:8080/",
          "height": 488
        },
        "outputId": "06e3eee7-6982-488a-a48c-c5182fb71ba1"
      },
      "execution_count": 78,
      "outputs": [
        {
          "output_type": "display_data",
          "data": {
            "text/plain": [
              "<Figure size 1500x500 with 1 Axes>"
            ],
            "image/png": "[encoded data removed]"
          },
          "metadata": {}
        }
      ]
    },
    {
      "cell_type": "code",
      "source": [
        "fig = px.scatter(df3, x=\"IDADE\", y= \"SALARIO\", title= \"Dispersão de Salário por Idade\")\n",
        "fig.show()"
      ],
      "metadata": {
        "id": "uKZsD1aa4ckF",
        "colab": {
          "base_uri": "https://localhost:8080/",
          "height": 542
        },
        "outputId": "3af5a7ba-8165-4de7-e715-d936d2701201"
      },
      "execution_count": 79,
      "outputs": [
        {
          "output_type": "display_data",
          "data": {
            "text/html": [
              "<html>\n",
              "<head><meta charset=\"utf-8\" /></head>\n",
              "<body>\n",
              "    <div>            <script src=\"https://cdnjs.cloudflare.com/ajax/libs/mathjax/2.7.5/MathJax.js?config=TeX-AMS-MML_SVG\"></script><script type=\"text/javascript\">if (window.MathJax && window.MathJax.Hub && window.MathJax.Hub.Config) {window.MathJax.Hub.Config({SVG: {font: \"STIX-Web\"}});}</script>                <script type=\"text/javascript\">window.PlotlyConfig = {MathJaxConfig: 'local'};</script>\n",
              "        <script charset=\"utf-8\" src=\"https://cdn.plot.ly/plotly-2.24.1.min.js\"></script>                <div id=\"9df663cf-473a-4387-a3bb-bd08f1fab4f0\" class=\"plotly-graph-div\" style=\"height:525px; width:100%;\"></div>            <script type=\"text/javascript\">                                    window.PLOTLYENV=window.PLOTLYENV || {};                                    if (document.getElementById(\"9df663cf-473a-4387-a3bb-bd08f1fab4f0\")) {                    Plotly.newPlot(                        \"9df663cf-473a-4387-a3bb-bd08f1fab4f0\",                        [{\"hovertemplate\":\"IDADE=%{x}\\u003cbr\\u003eSALARIO=%{y}\\u003cextra\\u003e\\u003c\\u002fextra\\u003e\",\"legendgroup\":\"\",\"marker\":{\"color\":\"#636efa\",\"symbol\":\"circle\"},\"mode\":\"markers\",\"name\":\"\",\"showlegend\":false,\"x\":[39.0,32.0,53.0,27.0,46.0,32.0,21.0,31.0,33.0,31.0,25.0,33.0,31.0,24.0,35.0,28.0,31.0,29.0,28.0,26.0,37.0,33.0,26.0,46.0,34.0,27.0,25.0,27.0,24.0,25.0,26.0,27.0,29.0,33.0,24.0,25.0,27.0,26.0,31.0,32.0,40.0,29.0,35.0,32.0,18.0,29.0,24.0,24.0,46.0,29.0,30.0,37.0,28.0,40.0,28.0,30.0,34.0,33.0,28.0,34.0,31.0,30.0,39.0,26.0,39.0,31.0,31.0,38.0,48.0,28.0,27.0,26.0,33.0,28.0,39.0,31.0,25.0,43.0,35.0,44.0,31.0,43.0,34.0,32.0,48.0,29.0,33.0,33.0,26.0,50.0,28.0,22.0,31.0,37.0,30.0,36.0,31.0,40.0,51.0,27.0,29.0,32.0,29.0,24.0,31.0,26.0,31.0,44.0,28.0,33.0,39.0,25.0,28.0,31.0,20.0,25.0,24.0,30.0,27.0,26.0,22.0,31.0,32.0,37.0,31.0,27.0,31.0,27.0,33.0,23.0,22.0,42.0,25.0,26.0,34.0,36.0,21.0,29.0,29.0,27.0,25.0,30.0,25.0,29.0,24.0,24.0,31.0,36.0,31.0,33.0,47.0,22.0,26.0,26.0,39.0,30.0,31.0,31.0,41.0,37.0,26.0,32.0,31.0,28.0,24.0,32.0,34.0,44.0,26.0,31.0,34.0,41.0,31.0,39.0,29.0,36.0,22.0,28.0,29.0,31.0,26.0,32.0,25.0,33.0,33.0,29.0,25.0,33.0,24.0,34.0,32.0,46.0,34.0,42.0,21.0,32.0,36.0,39.0,41.0,31.0,35.0,29.0,26.0,24.0,29.0,21.0,33.0,29.0,30.0,32.0,26.0,34.0,34.0,20.0,22.0,45.0,24.0,26.0,26.0,27.0,34.0,31.0,50.0,27.0,34.0,23.0,45.0,33.0,21.0,30.0,26.0,35.0,27.0,31.0,30.0,40.0,24.0,32.0,31.0,34.0,22.0,29.0,36.0,44.0,22.0,29.0,18.0,30.0,28.0,26.0,27.0,24.0,31.0,24.0,31.0,33.0,21.0,30.0,30.0,33.0,34.0,27.0,26.0,28.0,31.0,33.0,37.0,28.0,50.0,31.0,25.0,30.0,33.0,36.0,31.0,22.0,25.0,42.0,27.0,26.0,30.0,24.0,29.0,26.0,29.0,37.0,31.0,29.0,25.0,27.0,29.0,42.0,32.0,45.0,38.0,41.0,26.0,31.0,28.0,23.0,25.0,38.0,32.0,35.0,24.0,25.0,32.0,33.0,24.0,28.0,24.0,31.0,34.0,38.0,43.0,50.0,22.0,33.0,26.0,28.0,38.0,45.0,32.0,22.0,30.0,31.0,31.0,34.0,25.0,32.0,35.0,36.0,34.0,36.0,35.0,54.0,37.0,44.0,40.0,25.0,23.0,38.0,31.0,29.0,38.0,41.0,32.0,30.0,22.0,26.0,25.0,32.0,29.0,32.0,41.0,25.0,28.0,25.0,37.0,35.0,29.0,22.0,25.0,32.0,35.0,29.0,34.0,31.0,45.0,34.0,27.0,25.0,26.0,23.0,26.0,49.0,49.0,49.0,49.0,37.0,35.0,37.0,39.0,21.0,32.0,46.0,31.0,26.0,41.0,45.0,32.0,36.0,26.0,22.0,28.0,29.0,35.0,25.0,32.0,48.0,33.0,35.0,27.0,37.0,32.0,38.0,54.0,39.0,43.0,35.0,31.0,23.0,41.0,23.0,37.0,54.0,31.0,29.0,27.0,35.0,22.0,20.0,45.0,33.0,39.0,27.0,28.0,31.0,26.0,31.0,26.0,27.0,27.0,49.0,52.0,34.0,40.0,32.0,28.0,39.0,33.0,47.0,46.0,25.0,26.0,45.0,22.0,31.0,44.0,27.0,30.0,37.0,29.0,20.0,26.0,37.0,18.0,30.0,29.0,37.0,32.0,27.0,37.0,27.0,42.0,32.0,28.0,28.0,29.0,29.0,39.0,22.0,30.0,30.0,32.0,30.0,29.0,28.0,42.0,31.0,29.0,35.0,35.0,28.0,27.0,26.0,22.0,32.0,31.0,26.0,32.0,38.0,31.0,34.0,43.0,24.0,22.0,29.0,32.0,39.0,34.0,26.0,28.0,34.0,29.0,23.0,31.0,26.0,29.0,52.0,22.0,29.0,30.0,24.0,21.0,44.0,39.0,25.0,26.0,23.0,30.0,40.0,21.0,34.0,31.0,25.0,30.0,44.0,30.0,30.0,36.0,39.0,28.0,34.0,39.0,27.0,33.0,34.0,37.0,23.0,29.0,32.0,24.0,35.0,23.0,25.0,36.0,36.0,28.0,29.0,31.0,26.0,36.0,27.0,32.0,31.0,31.0,41.0,31.0,27.0,32.0,27.0,23.0,31.0,29.0,32.0,25.0,31.0,25.0,37.0,32.0,23.0,25.0,52.0,30.0,29.0,23.0,29.0,31.0,27.0,51.0,46.0,31.0,35.0,25.0,36.0,33.0,25.0,19.0,43.0,24.0,23.0,43.0,36.0,30.0,38.0,36.0,25.0,24.0,22.0,44.0,48.0,37.0,48.0,33.0,40.0,34.0,28.0,25.0,26.0,32.0,54.0,43.0,32.0,29.0,36.0,35.0,34.0,34.0,21.0,25.0,23.0,20.0,49.0,30.0,27.0,36.0,28.0,26.0,24.0,36.0,32.0,28.0,34.0,44.0,43.0,36.0,30.0,42.0,31.0,27.0,39.0,37.0,39.0,21.0,42.0,30.0,46.0,28.0,27.0,42.0,25.0,32.0,30.0,25.0,48.0,28.0,35.0,43.0,26.0,25.0,27.0,39.0,26.0,32.0,34.0,25.0,34.0,30.0,31.0,25.0,28.0,25.0,36.0,35.0,29.0,40.0,38.0,46.0,26.0,35.0,31.0,28.0,40.0,26.0,28.0,32.0,30.0,34.0,26.0,36.0,24.0,36.0,34.0,43.0,28.0,31.0,26.0,37.0,43.0,32.0,31.0,25.0,24.0,36.0,24.0,45.0,25.0,28.0,26.0,47.0,29.0,19.0,39.0,30.0,23.0,47.0,32.0,38.0,31.0,24.0,24.0,33.0,21.0,31.0,29.0,42.0,32.0,21.0,29.0,31.0,32.0,22.0,30.0,26.0,32.0,32.0,50.0,24.0,36.0,26.0,26.0,24.0,26.0,32.0,25.0,24.0,27.0,35.0,23.0,28.0,30.0,27.0,47.0,34.0,27.0,27.0,31.0,44.0,29.0,30.0,32.0,24.0,50.0,28.0,24.0,25.0,32.0,25.0,27.0,29.0,27.0,28.0,30.0,25.0,44.0,30.0,29.0,28.0,41.0,29.0,47.0,48.0,30.0,54.0,36.0,33.0,26.0,35.0,22.0,23.0,24.0,29.0,30.0,26.0,29.0,36.0,33.0,29.0,35.0,30.0,40.0,27.0,35.0,50.0,36.0,31.0,33.0,29.0,26.0,36.0,37.0,24.0,42.0,24.0,26.0,39.0,31.0,25.0,34.0,31.0,28.0,29.0,52.0,24.0,36.0,38.0,34.0,23.0,31.0,30.0,31.0,26.0,30.0,24.0,35.0,25.0,28.0,26.0,25.0,32.0,33.0,27.0,23.0,27.0,19.0,31.0,29.0,43.0,40.0,28.0,27.0,34.0,32.0,27.0,30.0,32.0,20.0,32.0,28.0,24.0,34.0,34.0,31.0,27.0,32.0,45.0,26.0,33.0,19.0,43.0,37.0,32.0,39.0,31.0,23.0,32.0,33.0,23.0,23.0,25.0,52.0,42.0,23.0,28.0,28.0,33.0,24.0,31.0,23.0,28.0,31.0,22.0,41.0,28.0,24.0,24.0,30.0,45.0,42.0,24.0,29.0,25.0,24.0,30.0,35.0,30.0,30.0,26.0,36.0,36.0,33.0,27.0,30.0,23.0,35.0,43.0,27.0,31.0,46.0,34.0,24.0,35.0,34.0,21.0,27.0,22.0,42.0,28.0,25.0,33.0,26.0,23.0,31.0,30.0,26.0,29.0,31.0,26.0,29.0,38.0,29.0,39.0,34.0,32.0,21.0,31.0,37.0,32.0,26.0,37.0,42.0,36.0,25.0,28.0,37.0,31.0,37.0,26.0,33.0,29.0,41.0,28.0,29.0,21.0,30.0,24.0,32.0,32.0,29.0,43.0,21.0,31.0,26.0,21.0,31.0,33.0,30.0,38.0,34.0,32.0,31.0,42.0,28.0,26.0,28.0,27.0,26.0,24.0,26.0,31.0,24.0,42.0,31.0,27.0,25.0,50.0,37.0,36.0,33.0,31.0,49.0,28.0,31.0,32.0,29.0,27.0,32.0,35.0,25.0,25.0,28.0,29.0,36.0,25.0,34.0,25.0,30.0,30.0,32.0,23.0,37.0,32.0,29.0,26.0,38.0,27.0,28.0,29.0,30.0,32.0,28.0,23.0,27.0,41.0,30.0,35.0,29.0,45.0,23.0,52.0,45.0,42.0,45.0,37.0,36.0,23.0,24.0,31.0,33.0,35.0,28.0,23.0,39.0,24.0,36.0,34.0,19.0,40.0,24.0,29.0,35.0,26.0,25.0,33.0,37.0,32.0,28.0,42.0,22.0,46.0,41.0,28.0,27.0,24.0,30.0,34.0,31.0,26.0,37.0,27.0,49.0,27.0,32.0,20.0,20.0,35.0,26.0,22.0,53.0,24.0,45.0,32.0,24.0,27.0,36.0,32.0,38.0,39.0,27.0,26.0,35.0,28.0,30.0,37.0,44.0,29.0,30.0,36.0,27.0,20.0,29.0,24.0,25.0,41.0,29.0,28.0,25.0,24.0,28.0,26.0,32.0,41.0,33.0,22.0,29.0,29.0,29.0,23.0,30.0,25.0,30.0,28.0,30.0,28.0,31.0,25.0,26.0,29.0,21.0,26.0,34.0,43.0,29.0,26.0,32.0,29.0,26.0,31.0,24.0,47.0,34.0,28.0,33.0,29.0,54.0,38.0,30.0,27.0,30.0,27.0,41.0,31.0,40.0,38.0,31.0,21.0,22.0,31.0,26.0,34.0,40.0,30.0,28.0,30.0,30.0,25.0,23.0,27.0,33.0,25.0,22.0,28.0,28.0,40.0,24.0,26.0,43.0,24.0,29.0,30.0,26.0,54.0,25.0,42.0,23.0,21.0,33.0,30.0,33.0,41.0,28.0,25.0,25.0,22.0,36.0,26.0,34.0,31.0,33.0,44.0,25.0,24.0,32.0,32.0,34.0,29.0,36.0,24.0,26.0,27.0,31.0,39.0,27.0,32.0,24.0,42.0,29.0,31.0,39.0,28.0,51.0,27.0,27.0,22.0,28.0,27.0,25.0,28.0,22.0,29.0,29.0,32.0,31.0,24.0,23.0,28.0,37.0,28.0,20.0,24.0,34.0,36.0,38.0,47.0,26.0,43.0,34.0,27.0,25.0,25.0,21.0,28.0,37.0,31.0,27.0,48.0,37.0,27.0,27.0,29.0,34.0,22.0,28.0,27.0,28.0,38.0,27.0,50.0,28.0,26.0,45.0,37.0,32.0,28.0,27.0,26.0,26.0,33.0,27.0,27.0,24.0,29.0,29.0,32.0,27.0,38.0,24.0,22.0,27.0,37.0,25.0,29.0,23.0,34.0,39.0,29.0,33.0,36.0,38.0,30.0,35.0,25.0,37.0,50.0,26.0,27.0,29.0,36.0,25.0,25.0,31.0,32.0,49.0,26.0,23.0,32.0,37.0,24.0,26.0,26.0,30.0,39.0,25.0,26.0,47.0,29.0,24.0,45.0,37.0,28.0,32.0,26.0,25.0,25.0,29.0,27.0,30.0,23.0,28.0,22.0,37.0,37.0,39.0,39.0,27.0,19.0,31.0,37.0,47.0,23.0,37.0,33.0,25.0,34.0,42.0,20.0,34.0,38.0,24.0,28.0,39.0,21.0,26.0,40.0,30.0,28.0,26.0,24.0,23.0,32.0,27.0,27.0,28.0,25.0,28.0,24.0,21.0,28.0,31.0,39.0,37.0,23.0,29.0,27.0,39.0,18.0,39.0,44.0,26.0,38.0,24.0,20.0,28.0,33.0,24.0,39.0,24.0,44.0,28.0,31.0,24.0,27.0,32.0,24.0,30.0,40.0,28.0,32.0,29.0,39.0,28.0,34.0,33.0,28.0,26.0,35.0,28.0,28.0,27.0,24.0,33.0,31.0,46.0,27.0,31.0,36.0,39.0,30.0,50.0,20.0,27.0,32.0,34.0,41.0,34.0,39.0,30.0,29.0,28.0,22.0,39.0,35.0,27.0,26.0,31.0,48.0,38.0,28.0,29.0,28.0,47.0,31.0,24.0,37.0,26.0,37.0,26.0,30.0,24.0,26.0,35.0,32.0,25.0,29.0,27.0,24.0,25.0,26.0,31.0,39.0,35.0,24.0,32.0,32.0,27.0,26.0,32.0,26.0,31.0,32.0,29.0,34.0,29.0,39.0,40.0,34.0,32.0,24.0,30.0,26.0,40.0,29.0,34.0,31.0,42.0,28.0,22.0,21.0,25.0,26.0,36.0,27.0,32.0,26.0,47.0,42.0,32.0,32.0,27.0,25.0,35.0,28.0,35.0,25.0,28.0,31.0,46.0,35.0,27.0,31.0,29.0,34.0,33.0,27.0,25.0,35.0,37.0,25.0,26.0,28.0,51.0,33.0,28.0,30.0,26.0,48.0,36.0,25.0,30.0,25.0,30.0,45.0,29.0,38.0,27.0,24.0,39.0,37.0,26.0,31.0,32.0,29.0,48.0,34.0,25.0,35.0,31.0,27.0,28.0,26.0,28.0,34.0,52.0,38.0,30.0,41.0,24.0,32.0,25.0,23.0,34.0,32.0,42.0,24.0,39.0,25.0,25.0,33.0,34.0,36.0,40.0,27.0,27.0,29.0,30.0,42.0,23.0,27.0,31.0,28.0,30.0,20.0,29.0,29.0,33.0,33.0,23.0,26.0,28.0,25.0,42.0,30.0,39.0,37.0,44.0,26.0,26.0,43.0,36.0,36.0,29.0,33.0,44.0,30.0,26.0,18.0,32.0,28.0,24.0,34.0,29.0,44.0,42.0,33.0,33.0,31.0,27.0,29.0,24.0,37.0,47.0,19.0,22.0,31.0,35.0,31.0,22.0,35.0,27.0,47.0,43.0,25.0,30.0,34.0,22.0,29.0,31.0,28.0,27.0,43.0,23.0,39.0,39.0,31.0,31.0,40.0,25.0,29.0,45.0,35.0,25.0,34.0,21.0,43.0,46.0,32.0,26.0,31.0,50.0,18.0,38.0,28.0,28.0,46.0,24.0,31.0,31.0,32.0,34.0,38.0,50.0,38.0,36.0,27.0,50.0,27.0,25.0,37.0,29.0,31.0,28.0,35.0,27.0,28.0,23.0,24.0,27.0,28.0,38.0,36.0,30.0,26.0,34.0,23.0,39.0,40.0,32.0,25.0,39.0,34.0,26.0,33.0,24.0,36.0,26.0,42.0,27.0,25.0,26.0,25.0,25.0,28.0,34.0,26.0,41.0,22.0,36.0,25.0,36.0,27.0,37.0,29.0,24.0,40.0,28.0,34.0,24.0,35.0,34.0,30.0,22.0,41.0,38.0,19.0,24.0,43.0,28.0,29.0,23.0,25.0,22.0,27.0,25.0,25.0,26.0,29.0,41.0,33.0,31.0,28.0,31.0,25.0,35.0,21.0,25.0,33.0,48.0,25.0,35.0,53.0,26.0,26.0,33.0,32.0,31.0,23.0,24.0,45.0,34.0,39.0,31.0,26.0,49.0,25.0,36.0,31.0,31.0,25.0,35.0,27.0,30.0,28.0,31.0,22.0,38.0,29.0,47.0,36.0,42.0,28.0,29.0,29.0,35.0,38.0,33.0,32.0,32.0,24.0,28.0,27.0,27.0,35.0,31.0,37.0,25.0,35.0,24.0,23.0,31.0,28.0,40.0,23.0,27.0,24.0,23.0,31.0,35.0,30.0,43.0,26.0,33.0,22.0,39.0,23.0,23.0,24.0,25.0,42.0,27.0,40.0,23.0,24.0,25.0,27.0,29.0,42.0,30.0,26.0,38.0,31.0,29.0,29.0,27.0,37.0,28.0,39.0,30.0,25.0,30.0,27.0,32.0,33.0,28.0,25.0,39.0,30.0,35.0,23.0,36.0,24.0,27.0,22.0,40.0,23.0,30.0,40.0,50.0,23.0,21.0,26.0,22.0,33.0,34.0,37.0,28.0,31.0,24.0,28.0,32.0,27.0,41.0,29.0,20.0,32.0,39.0,26.0,34.0,51.0,27.0,29.0,24.0,33.0,22.0,32.0,30.0,30.0,32.0,32.0,36.0,35.0,34.0,26.0,22.0,32.0,25.0,25.0,20.0,40.0,40.0,28.0,30.0,37.0,29.0,25.0,30.0,22.0,30.0,26.0,27.0,30.0,29.0,28.0,25.0,35.0,25.0,30.0,50.0,27.0,41.0,22.0,25.0,34.0,53.0,41.0,27.0,28.0,27.0,28.0,25.0,28.0,27.0,39.0,30.0,31.0,34.0,27.0,31.0,26.0,23.0,36.0,24.0,31.0,31.0,22.0,36.0,33.0,26.0,25.0,29.0,34.0,54.0,24.0,35.0,26.0,23.0,33.0,25.0,32.0,36.0,32.0,26.0,30.0,34.0,20.0,26.0,26.0,21.0,31.0,29.0,27.0,22.0,23.0,42.0,31.0,25.0,33.0,31.0,39.0,49.0,25.0,53.0,31.0,34.0,28.0,26.0,31.0,32.0,33.0,29.0,28.0,45.0,32.0,38.0,26.0,40.0,26.0,27.0,35.0,26.0,33.0,25.0,33.0,32.0,30.0,28.0,33.0,38.0,31.0,27.0,29.0,33.0,28.0,29.0,41.0,32.0,27.0,30.0,46.0,31.0,34.0,28.0,39.0,47.0,29.0,31.0,43.0,29.0,27.0,43.0,27.0,20.0,28.0,42.0,39.0,27.0,34.0,34.0,25.0,24.0,36.0,24.0,28.0,27.0,25.0,44.0,25.0,33.0,36.0,29.0,32.0,29.0,18.0,27.0,23.0,33.0,34.0,48.0,30.0,38.0,35.0,21.0,35.0,34.0,35.0,32.0,29.0,36.0,30.0,33.0,41.0,50.0,34.0,41.0,27.0,30.0,23.0,36.0,33.0,38.0,22.0,29.0,31.0,40.0,40.0,25.0,39.0,29.0,44.0,26.0,30.0,29.0,36.0,31.0,27.0,29.0,25.0,27.0,30.0,18.0,29.0,31.0,38.0,45.0,32.0,34.0,30.0,25.0,26.0,33.0,32.0,30.0,24.0,36.0,33.0,32.0,36.0,32.0,21.0,28.0,36.0,33.0,19.0,31.0,29.0,33.0,23.0,33.0,25.0,45.0,28.0,25.0,25.0,22.0,27.0,30.0,24.0,27.0,32.0,22.0,26.0,29.0,32.0,46.0,25.0,36.0,25.0,27.0,41.0,35.0,27.0,43.0,32.0,28.0,26.0,27.0,31.0,27.0,44.0,27.0,27.0,32.0,28.0,28.0,28.0,37.0,25.0,26.0,31.0,26.0,21.0,27.0,32.0,25.0,27.0,26.0,28.0,26.0,27.0,33.0,32.0,26.0,53.0,54.0,35.0,45.0,52.0,23.0,37.0,37.0,34.0,22.0,31.0,31.0,34.0,23.0,29.0,31.0,20.0,27.0,30.0,34.0,21.0,50.0,19.0,25.0,24.0,34.0,30.0,34.0,29.0,32.0,32.0,32.0,31.0,31.0,37.0,25.0,30.0,26.0,21.0,37.0,39.0,35.0,30.0,30.0,23.0,32.0,30.0,35.0,21.0,28.0,27.0,31.0,46.0,32.0,25.0,23.0,40.0,31.0,31.0,36.0,21.0,25.0,27.0,54.0,32.0,27.0,32.0,31.0,29.0,34.0,24.0,26.0,30.0,38.0,24.0,29.0,31.0,22.0,28.0,33.0,28.0,28.0,36.0,27.0,36.0,31.0,30.0,30.0,28.0,31.0,32.0,31.0,38.0,31.0,28.0,22.0,36.0,36.0,45.0,27.0,30.0,33.0,33.0,32.0,28.0,29.0,27.0,22.0,34.0,28.0,21.0,25.0,32.0,25.0,26.0,22.0,42.0,31.0,27.0,31.0,28.0,26.0,21.0,24.0,26.0,32.0,34.0,27.0,31.0,34.0,26.0,25.0,28.0,28.0,22.0,27.0,26.0,28.0,30.0,31.0,39.0,25.0,27.0,33.0,27.0,29.0,36.0,24.0,34.0,47.0,30.0,37.0,24.0,52.0,27.0,37.0,35.0,46.0,26.0,30.0,26.0,29.0,33.0,30.0,31.0,23.0,25.0,29.0,36.0,33.0,39.0,31.0,29.0,34.0,28.0,24.0,30.0,35.0,46.0,27.0,28.0,27.0,25.0,20.0,28.0,30.0,26.0,37.0,21.0,28.0,23.0,29.0,30.0,33.0,32.0,31.0,27.0,30.0,39.0,30.0,39.0,26.0,30.0,29.0,34.0,31.0,26.0,48.0,19.0,24.0,27.0,31.0,32.0,25.0,28.0,31.0,33.0,20.0,33.0,43.0,31.0,29.0,25.0,22.0,34.0,28.0,31.0,26.0,31.0,28.0,41.0,25.0,31.0,28.0,30.0,24.0,23.0,49.0,34.0,27.0,23.0,31.0,34.0,28.0,35.0,41.0,28.0,50.0,25.0,38.0,36.0,27.0,36.0,25.0,22.0,28.0,44.0,30.0,36.0,35.0,22.0,26.0,32.0,31.0,22.0,25.0,27.0,40.0,36.0,30.0,33.0,36.0,39.0,26.0,27.0,22.0,34.0,30.0,31.0,32.0,26.0,25.0,39.0,29.0,31.0,47.0,27.0,23.0,40.0,22.0,29.0,34.0,31.0,26.0,31.0,25.0,23.0,42.0,31.0,41.0,24.0,33.0,29.0,30.0,28.0,41.0,39.0,45.0,31.0,27.0,34.0,29.0,35.0,30.0,45.0,23.0,28.0,29.0,33.0,33.0,35.0,25.0,31.0,34.0,19.0,37.0,23.0,23.0,26.0,29.0,43.0,24.0,49.0,30.0,26.0,31.0,33.0,24.0,41.0,26.0,43.0,22.0,29.0,35.0,20.0,50.0,25.0,36.0,27.0,35.0,42.0,27.0,36.0,47.0,30.0,25.0,23.0,46.0,30.0,25.0,33.0,31.0,23.0,26.0,26.0,35.0,26.0,33.0,30.0,32.0,33.0,25.0,34.0,27.0,47.0,29.0,28.0,31.0,27.0,24.0,31.0,21.0,36.0,34.0,22.0,21.0,24.0,22.0,40.0,28.0,26.0,36.0,30.0,31.0,29.0,34.0,27.0,21.0,46.0,35.0,50.0,31.0,29.0,31.0,33.0,47.0,31.0,34.0,30.0,24.0,30.0,36.0,46.0,30.0,38.0,19.0,31.0,33.0,27.0,48.0,26.0,19.0,41.0,23.0,40.0,30.0,26.0,26.0,28.0,28.0,26.0,44.0,38.0,41.0,30.0,33.0,32.0,25.0,37.0,36.0,28.0,25.0,36.0,32.0,40.0,27.0,33.0,40.0,25.0,40.0,42.0,34.0,35.0,36.0,23.0,25.0,36.0,26.0,31.0,29.0,33.0,29.0,37.0,37.0,29.0,28.0,18.0,43.0,23.0,42.0,35.0,28.0,27.0,24.0,42.0,32.0,30.0,31.0,36.0,29.0,45.0,27.0,32.0,33.0,46.0,37.0,32.0,39.0,26.0,24.0,30.0,31.0,30.0,32.0,28.0,22.0,30.0,27.0,34.0,37.0,24.0,41.0,24.0,28.0,25.0,27.0,18.0,29.0,25.0,22.0,41.0,53.0,36.0,33.0,22.0,30.0,27.0,26.0,39.0,33.0,24.0,23.0,32.0,26.0,24.0,28.0,42.0,41.0,53.0,39.0,36.0,26.0,24.0,32.0,28.0,21.0,25.0,29.0,30.0,33.0,44.0,36.0,31.0,35.0,25.0,40.0,31.0,26.0,32.0,25.0,25.0,26.0,30.0,25.0,24.0,30.0,26.0,50.0,25.0,36.0,22.0,27.0,22.0,29.0,33.0,30.0,31.0,40.0,27.0,30.0,51.0,37.0,44.0,42.0,26.0,51.0,32.0,39.0,35.0,23.0,20.0,30.0,31.0,29.0,18.0,28.0,39.0,26.0,31.0,26.0,23.0,30.0,30.0,32.0,42.0,28.0,37.0,23.0,25.0,41.0,52.0,23.0,39.0,25.0,32.0,23.0,26.0,39.0,27.0,31.0,36.0,32.0,29.0,21.0,33.0,30.0,40.0,33.0,21.0,33.0,37.0,23.0,44.0,45.0,34.0,29.0,28.0,31.0,29.0,29.0,37.0,37.0,24.0,32.0,21.0,31.0,25.0,29.0,43.0,52.0,28.0,37.0,37.0,32.0,25.0,34.0,31.0,30.0,31.0,31.0,32.0,36.0,32.0,30.0,34.0,27.0,24.0,45.0,32.0,21.0,27.0,30.0,38.0,28.0,31.0,29.0,34.0,26.0,26.0,35.0,24.0,39.0,33.0,25.0,31.0,32.0,19.0,35.0,28.0,21.0,34.0,25.0,29.0,35.0,31.0,39.0,33.0,22.0,52.0,33.0,25.0,34.0,27.0,27.0,30.0,20.0,34.0,27.0,54.0,28.0,26.0,27.0,47.0,23.0,24.0,19.0,27.0,34.0,26.0,35.0,47.0,34.0,32.0,40.0,32.0,24.0,29.0,50.0,27.0,35.0,25.0,24.0,36.0,37.0,30.0,30.0,28.0,36.0,28.0,26.0,41.0,46.0,43.0,24.0,24.0,44.0,27.0,32.0,28.0,32.0,25.0,38.0,42.0,33.0,24.0,28.0,26.0,32.0,33.0,26.0,26.0,24.0,25.0,26.0,26.0,31.0,32.0,44.0,33.0,30.0,42.0,40.0,36.0,48.0,32.0,28.0,36.0,23.0,34.0,40.0,27.0,30.0,50.0,34.0,28.0,35.0,19.0,20.0,36.0,31.0,39.0,31.0,27.0,37.0,30.0,31.0,21.0,50.0,22.0,24.0,32.0,39.0,27.0,28.0,35.0,18.0,44.0,35.0,27.0,33.0,28.0,30.0,31.0,31.0,35.0,36.0,36.0,27.0,25.0,36.0,24.0,25.0,34.0,23.0,36.0,28.0,35.0,32.0,38.0,29.0,24.0,34.0,24.0,41.0,38.0,36.0,26.0,36.0,28.0,19.0,23.0,34.0,26.0,22.0,47.0,23.0,25.0,37.0,24.0,28.0,38.0,27.0,34.0,41.0,29.0,31.0,33.0,36.0,27.0,37.0,25.0,32.0,41.0,29.0,31.0,23.0,29.0,32.0,40.0,28.0,23.0,37.0,35.0,33.0,36.0,28.0,35.0,25.0,38.0,35.0,38.0,52.0,31.0,33.0,38.0,27.0,27.0,23.0,26.0,28.0,26.0,27.0,30.0,31.0,25.0,29.0,21.0,26.0,21.0,31.0,34.0,27.0,36.0,33.0,27.0,43.0,50.0,31.0,34.0,30.0,26.0,30.0,28.0,21.0,31.0,28.0,26.0,25.0,39.0,24.0,30.0,27.0,31.0,40.0,21.0,26.0,26.0,27.0,32.0,25.0,50.0,31.0,34.0,24.0,23.0,24.0,31.0,28.0,28.0,40.0,30.0,50.0,40.0,23.0,26.0,34.0,38.0,41.0,43.0,22.0,30.0,26.0,21.0,26.0,37.0,31.0,30.0,35.0,38.0,26.0,25.0,49.0,34.0,38.0,37.0,48.0,27.0,31.0,28.0,22.0,32.0,25.0,27.0,36.0,24.0,26.0,18.0,33.0,32.0,26.0,41.0,42.0,30.0,29.0,23.0,54.0,27.0,33.0,28.0,33.0,40.0,22.0,42.0,31.0,24.0,24.0,29.0,31.0,32.0,36.0,34.0,38.0,33.0,33.0,27.0,22.0,31.0,31.0,49.0,30.0,44.0,25.0,29.0,34.0,27.0,33.0,32.0,30.0,21.0,34.0,31.0,36.0,28.0,28.0,34.0,29.0,22.0,34.0,20.0,42.0,27.0,35.0,51.0,28.0,45.0,44.0,35.0,39.0,28.0,20.0,53.0,39.0,21.0,29.0,26.0,27.0,28.0,21.0,39.0,29.0,31.0,37.0,36.0,35.0,30.0,32.0,29.0,29.0,23.0,21.0,32.0,20.0,24.0,25.0,44.0,26.0,34.0,35.0,35.0,30.0,28.0,26.0,28.0,28.0,22.0,38.0,37.0,25.0,27.0,29.0,26.0,27.0,29.0,38.0,28.0,30.0,21.0,29.0,47.0,33.0,22.0,19.0,37.0,36.0,25.0,39.0,29.0,25.0,34.0,28.0,27.0,34.0,29.0,31.0,29.0,29.0,36.0,26.0,27.0,37.0,23.0,25.0,23.0,26.0,22.0,33.0,30.0,22.0,26.0,24.0,39.0,29.0,33.0,30.0,31.0,27.0,32.0,38.0,26.0,23.0,34.0,29.0,31.0,36.0,34.0,28.0,37.0,42.0,27.0,43.0,39.0,32.0,30.0,41.0,27.0,41.0,24.0,25.0,26.0,35.0,25.0,31.0,24.0,25.0,31.0,27.0,29.0,29.0,30.0,30.0,26.0,24.0,33.0,32.0,29.0,37.0,28.0,20.0,26.0,32.0,25.0,38.0,43.0,28.0,36.0,27.0,38.0,31.0,28.0,26.0,44.0,29.0,28.0,26.0,31.0,27.0,26.0,32.0,37.0,32.0,50.0,34.0,43.0,36.0,52.0,35.0,23.0,30.0,26.0,36.0,23.0,32.0,40.0,34.0,24.0,25.0,31.0,31.0,23.0,31.0,45.0,22.0,31.0,28.0,30.0,27.0,29.0,31.0,35.0,34.0,42.0,22.0,32.0,40.0,25.0,24.0,29.0,48.0,27.0,32.0,53.0,36.0,26.0,29.0,37.0,23.0,27.0,38.0,35.0,40.0,24.0,35.0,28.0,31.0,30.0,33.0,34.0,36.0,22.0,25.0,37.0,28.0,33.0,31.0,19.0,35.0,32.0,33.0,53.0,27.0,34.0,25.0,25.0,25.0,35.0,35.0,23.0,31.0,35.0,34.0,23.0,27.0,35.0,25.0,53.0,28.0,31.0,34.0,24.0,27.0,24.0,35.0,22.0,32.0,28.0,28.0,35.0,25.0,40.0,25.0,31.0,39.0,35.0,25.0,37.0,25.0,23.0,30.0,30.0,36.0,31.0,25.0,30.0,39.0,21.0,43.0,24.0,28.0,31.0,29.0,31.0,31.0,31.0,31.0,26.0,29.0,30.0,27.0,38.0,30.0,37.0,30.0,31.0,33.0,24.0,24.0,27.0,24.0,30.0,46.0,28.0,29.0,28.0,39.0,38.0,27.0,33.0,33.0,22.0,50.0,29.0,49.0,43.0,22.0,31.0,36.0,24.0,28.0,31.0,25.0,35.0,52.0,26.0,26.0,31.0,26.0,30.0,28.0,25.0,27.0,44.0,27.0,36.0,32.0,29.0,33.0,34.0,30.0,21.0,21.0,23.0,27.0,33.0,29.0,25.0,33.0,35.0,42.0,25.0,28.0,33.0,27.0,37.0,31.0,34.0,21.0,33.0,40.0,25.0,24.0,28.0,28.0,31.0,27.0,32.0,24.0,35.0,27.0,27.0,41.0,35.0,33.0,36.0,28.0,34.0,31.0,29.0,30.0,23.0,25.0,30.0,31.0,51.0,27.0,37.0,34.0,25.0,28.0,36.0,37.0,28.0,36.0,26.0,39.0,36.0,25.0,28.0,32.0,52.0,26.0,36.0,31.0,23.0,23.0,28.0,35.0,27.0,41.0,21.0,25.0,31.0,33.0,43.0,35.0,37.0,35.0,37.0,26.0,51.0,27.0,28.0,25.0,28.0,34.0,31.0,29.0,29.0,31.0,27.0,34.0,42.0,36.0,26.0,29.0,31.0,27.0,23.0,29.0,24.0,23.0,21.0,26.0,25.0,24.0,21.0,38.0,29.0,30.0,52.0,28.0,37.0,36.0,41.0,28.0,33.0,44.0,24.0,33.0,38.0,36.0,26.0,52.0,28.0,35.0,30.0,47.0,26.0,26.0,34.0,28.0,26.0,33.0,25.0,25.0,24.0,27.0,26.0,36.0,49.0,39.0,37.0,23.0,23.0,31.0,39.0,30.0,30.0,39.0,42.0,23.0,50.0,30.0,23.0,34.0,31.0,20.0,25.0,31.0,34.0,21.0,29.0,23.0,32.0,22.0,30.0,25.0,26.0,34.0,22.0,31.0,38.0,23.0,28.0,25.0,26.0,24.0,25.0,30.0,46.0,49.0,40.0,25.0,35.0,28.0,26.0,35.0,23.0,34.0,31.0,24.0,30.0,25.0,46.0,34.0,31.0,38.0,23.0,24.0,34.0,29.0,24.0,39.0,27.0,40.0,28.0,28.0,28.0,44.0,35.0,36.0,28.0,19.0,31.0,40.0,28.0,44.0,28.0,23.0,22.0,27.0,28.0,33.0,36.0,39.0,20.0,30.0,27.0,28.0,36.0,34.0,30.0,31.0,43.0,25.0,23.0,27.0,32.0,33.0,26.0,25.0,25.0,25.0,27.0,30.0,25.0,25.0,33.0,29.0,33.0,24.0,34.0,46.0,35.0,25.0,38.0,32.0,30.0,23.0,36.0,23.0,32.0,38.0,28.0,28.0,31.0,30.0,34.0,33.0,21.0,26.0,27.0,28.0,25.0,22.0,47.0,21.0,35.0,26.0,23.0,22.0,39.0,28.0,31.0,28.0,24.0,26.0,32.0,26.0,33.0,47.0,35.0,33.0,24.0,27.0,27.0,45.0,31.0,27.0,38.0,21.0,28.0,22.0,31.0,34.0,29.0,21.0,27.0,26.0,32.0,27.0,47.0,35.0,25.0,27.0,32.0,23.0,28.0,38.0,41.0,33.0,34.0,34.0,25.0,27.0,36.0,27.0,31.0,34.0,35.0,32.0,49.0,30.0,34.0,32.0,25.0,39.0,46.0,39.0,23.0,37.0,35.0,45.0,24.0,41.0,29.0,31.0,33.0,39.0,45.0,45.0,26.0,37.0,40.0,30.0,37.0,28.0,27.0,37.0,35.0,29.0,22.0,27.0,24.0,35.0,27.0,36.0,47.0,21.0,23.0,43.0,43.0,29.0,30.0,23.0,29.0,28.0,28.0,31.0,27.0,29.0,24.0,30.0,25.0,48.0,30.0,24.0,33.0,45.0,27.0,34.0,20.0,40.0,31.0,27.0,30.0,30.0,23.0,32.0,27.0,43.0,28.0,30.0,21.0,23.0,32.0,36.0,26.0,50.0,36.0,21.0,47.0,42.0,20.0,27.0,29.0,37.0,36.0,39.0,43.0,28.0,25.0,26.0,41.0,32.0,27.0,32.0,27.0,27.0,36.0,34.0,41.0,31.0,32.0,21.0,35.0,41.0,24.0,33.0,36.0,24.0,45.0,36.0,25.0,27.0,41.0,35.0,26.0,25.0,31.0,21.0,27.0,41.0,44.0,32.0,32.0,31.0,33.0,34.0,54.0,22.0,40.0,28.0,27.0,26.0,40.0,43.0,20.0,28.0,28.0,40.0,26.0,26.0,31.0,31.0,37.0,44.0,32.0,48.0,31.0,22.0,31.0,50.0,26.0,28.0,26.0,35.0,44.0,25.0,27.0,29.0,35.0,31.0,25.0,25.0,27.0,31.0,33.0,31.0,23.0,22.0,45.0,32.0,24.0,45.0,25.0,28.0,49.0,29.0,38.0,28.0,31.0,28.0,25.0,28.0,20.0,21.0,20.0,30.0,28.0,33.0,29.0,27.0,33.0,27.0,31.0,50.0,36.0,23.0,29.0,25.0,25.0,26.0,30.0,25.0,24.0,52.0,33.0,48.0,29.0,25.0,25.0,29.0,27.0,29.0,28.0,31.0,23.0,29.0,29.0,32.0,27.0,37.0,35.0,37.0,27.0,26.0,32.0,34.0,30.0,30.0,27.0,26.0,44.0,30.0,24.0,22.0,41.0,35.0,30.0,24.0,25.0,52.0,31.0,29.0,35.0,49.0,30.0,38.0,25.0,29.0,31.0,27.0,33.0,37.0,34.0,32.0,38.0,34.0,23.0,37.0,25.0,29.0,43.0,27.0,24.0,31.0,39.0,27.0,23.0,24.0,26.0,26.0,32.0,26.0,30.0,29.0,27.0,20.0,21.0,33.0,30.0,40.0,29.0,37.0,25.0,26.0,35.0,26.0,31.0,19.0,20.0,30.0,32.0,25.0,33.0,41.0,27.0,33.0,28.0,29.0,28.0,30.0,31.0,34.0,39.0,36.0,22.0,30.0,31.0,31.0,43.0,38.0,26.0,35.0,41.0,31.0,29.0,43.0,30.0,25.0,28.0,34.0,32.0,47.0,28.0,22.0,45.0,28.0,40.0,30.0,49.0,27.0,27.0,26.0,33.0,25.0,34.0,26.0,23.0,30.0,37.0,23.0,26.0,41.0,36.0,27.0,33.0,34.0,27.0,29.0,26.0,34.0,39.0,29.0,28.0,30.0,28.0,46.0,25.0,28.0,36.0,33.0,31.0,26.0,37.0,28.0,26.0,30.0,29.0,20.0,24.0],\"xaxis\":\"x\",\"y\":[11194.0,4695.0,14202.0,15463.0,7733.0,2336.0,4491.0,2704.0,7112.0,10822.0,3450.0,11625.0,7625.5,5296.0,7416.0,5774.0,13531.0,14922.0,7797.0,11905.0,24025.0,10098.0,7104.0,13418.0,17124.0,11543.0,1930.0,3801.0,7625.5,11821.0,3357.0,2846.0,3243.0,10260.0,7625.5,1434.0,3140.0,2523.0,7945.0,7625.5,3166.0,4679.0,5234.0,24828.0,435.0,7306.0,1894.0,6971.0,14796.0,10168.0,3889.0,7779.0,10680.0,11439.0,6433.0,11996.0,18022.0,4470.0,11311.0,11190.0,7028.0,12754.0,12406.0,7625.5,10149.0,6060.0,4041.0,6632.0,29734.0,11565.0,2583.0,6476.0,2312.0,6352.0,58832.0,12186.0,10968.0,39593.0,28667.0,11939.0,16331.0,24527.0,10553.0,11147.0,10506.0,7625.5,24224.0,14546.0,7732.0,5332.0,19920.0,5436.0,10019.0,1922.0,4195.0,3298.0,5007.0,11388.0,2150.0,4858.0,5406.0,17625.0,3667.0,16974.0,7625.5,1282.0,7625.5,14500.0,13877.0,38832.0,5304.0,4207.0,18446.0,7909.0,5585.0,6682.0,4225.0,7625.5,2409.0,7454.0,7625.5,14088.0,1436.0,3380.0,17263.0,12258.0,10487.0,10879.0,7625.5,5950.0,1025.0,10132.0,11861.0,3793.0,11064.0,11739.0,3242.0,11177.0,10199.0,14454.0,4047.0,15351.0,1260.0,7625.5,5499.0,7625.5,15758.0,24508.0,3945.0,10872.0,4010.0,4002.0,7625.5,2311.0,7625.5,3770.0,5258.0,2302.0,7625.5,10628.0,10343.0,11894.0,13042.0,4291.0,4647.0,5249.0,7883.0,3020.0,58174.0,2786.0,16650.0,17962.0,24626.0,11047.0,14394.0,11330.0,1143.0,4460.0,13434.0,10377.0,4790.0,4608.0,11902.0,3852.0,4490.0,6701.0,5179.0,4375.0,7625.5,6711.0,29872.0,11575.0,11751.0,15846.0,2112.0,7625.5,24723.0,15461.0,24259.0,5317.0,7625.5,5048.0,10420.0,1639.0,11725.0,3909.0,24317.0,3743.0,10711.0,10236.0,7040.0,14566.0,10460.0,1925.0,3512.0,17246.0,10660.0,6536.0,11776.0,10754.0,38318.0,6231.0,39192.0,2556.0,7073.0,10450.0,10430.0,14471.0,7625.5,6248.0,1805.0,16720.0,2434.0,1649.0,5670.0,7625.5,2834.0,10044.0,3301.0,4246.0,4845.0,2618.0,29740.0,1857.0,1676.0,11145.0,7625.5,7625.5,2252.0,6995.0,3706.0,24281.0,3752.0,13642.0,17334.0,3984.0,1169.0,15124.0,24723.0,7704.0,3890.0,4334.0,3045.0,7625.5,5783.0,55130.0,17759.0,11159.0,11779.0,10824.0,7000.0,12390.0,18586.0,24300.0,7625.5,2227.0,4764.0,16632.0,14133.0,29616.0,1211.0,7625.5,10192.0,15741.0,7625.5,28674.0,5750.0,7625.5,2047.0,28801.0,12260.0,11910.0,7625.5,11722.0,15947.0,7625.5,2490.0,7625.5,4569.0,2254.0,1856.0,6888.0,1797.0,7625.5,7741.0,10226.0,6773.0,3068.0,6203.0,11896.0,7625.5,11915.0,3574.0,3415.0,7625.5,24070.0,7625.5,11719.0,4446.0,4526.0,10154.0,19057.0,12857.0,2153.0,13383.0,7684.0,2418.0,11920.0,12196.0,2106.0,7626.0,10169.0,39066.0,3083.0,3687.0,6692.0,3774.0,6856.0,18670.0,28256.0,3941.0,7625.5,3372.0,11466.0,1540.0,7625.5,14320.0,7181.0,3501.0,14773.0,3214.0,6716.0,1560.0,10787.0,6417.0,14544.0,7112.0,1329.0,5561.0,7932.0,7625.5,10994.0,13980.0,12860.0,11108.0,2191.0,6866.0,5754.0,13903.0,7625.5,15307.0,4660.0,2760.0,1784.0,5159.0,24545.0,24545.0,24938.0,24938.0,15234.0,10191.0,4302.0,11663.0,7625.5,4387.0,5253.0,175.0,3234.0,17277.0,38454.0,7595.0,1029.0,5459.0,2479.0,7464.0,10963.0,5915.0,7625.5,5638.0,14323.0,7628.0,24837.0,6958.0,11840.0,7899.0,2800.0,15039.0,53127.85,763.0,2539.0,11923.0,4622.0,18736.0,7609.0,47590.0,7625.5,3801.0,24191.0,2976.0,12666.0,3045.0,367.0,3159.0,7625.5,7625.5,10883.0,10517.0,5881.0,2025.0,10072.0,5603.0,7625.5,5402.0,24820.0,3871.0,7263.0,11532.0,10887.0,24125.0,7396.0,2342.0,5005.0,6364.0,12496.0,7625.5,53127.85,1591.0,10005.0,4917.0,10692.0,7409.0,7625.5,1038.0,7625.5,6610.0,15076.0,7625.5,6710.0,6345.0,3629.0,14790.0,6471.0,10198.0,2495.0,7625.5,11626.0,11246.0,2952.0,11797.0,17841.0,19549.0,4337.0,16887.0,5910.0,3768.0,15564.0,12957.0,7625.5,7625.5,6279.0,5426.0,7625.5,10135.0,11971.0,3530.0,2206.0,7625.5,39372.0,7625.5,1927.0,386.0,6882.0,24140.0,7625.5,4012.0,1157.0,2681.0,10612.0,14816.0,39592.0,7625.5,7623.0,7625.5,5107.0,7013.0,7625.5,15662.0,5254.0,7272.0,12869.0,11360.0,11230.0,15120.0,2311.0,4371.0,4786.0,12598.0,11055.0,2800.0,17980.0,3672.0,18265.0,7625.5,5878.0,12958.0,4804.0,7625.5,14651.0,7625.5,7625.5,38066.0,4201.0,2392.0,10358.0,7625.5,1164.0,4724.0,7151.0,11070.0,6449.0,5516.0,7625.5,10826.0,5972.0,10201.0,3151.0,11679.0,4818.0,3305.0,7625.5,11264.0,7625.5,24193.0,7625.5,17172.0,11944.0,14177.0,55546.0,7281.0,3419.0,10655.0,4844.0,7625.5,3066.0,7625.5,7625.5,2719.0,7639.0,2491.0,7625.5,4214.0,3976.0,11509.0,3640.0,7625.5,7625.5,2575.0,10255.0,16627.0,12807.0,7625.5,7625.5,28862.0,19870.0,12286.0,4159.0,29781.0,5832.0,2730.0,11233.0,3292.0,6127.0,2019.0,7625.5,4492.0,5290.0,13996.0,2210.0,1102.0,4729.0,6486.0,14871.0,24427.0,11976.0,7625.5,19969.0,41916.0,24082.0,7625.5,18327.0,11611.0,2268.0,7625.5,10538.0,10039.0,3145.0,7625.5,5262.0,39937.0,931.0,7234.0,4108.0,1223.0,7077.0,3137.0,2571.0,11844.0,3266.0,13516.0,3464.0,15747.0,5054.0,7625.5,38823.0,12924.0,24412.0,6166.0,44291.0,7625.5,10697.0,7809.0,11254.0,14103.0,15153.0,2046.0,7625.5,7625.5,11763.0,14997.0,4509.0,747.0,10944.0,2966.0,28070.0,10820.0,6114.0,1564.0,7204.0,24343.0,2357.0,24879.0,3831.0,16349.0,1650.0,2655.0,15452.0,7911.0,7625.5,10604.0,4808.0,5796.0,11618.0,7625.5,19375.0,16874.0,1078.0,5569.0,10292.0,12570.0,6966.0,3924.0,15967.0,7625.5,2884.0,3184.0,1361.0,6471.0,43692.0,11539.0,2263.0,10392.0,3143.0,6544.0,39004.0,14326.0,13438.0,4117.0,7812.0,7625.5,10521.0,7013.0,43061.0,11768.0,7625.5,4702.0,7625.5,7625.5,5727.0,2911.0,2608.0,13403.0,4129.0,2014.0,3397.0,5388.0,7625.5,7625.5,5417.0,19512.0,7625.5,7135.0,5081.0,7013.0,4497.0,24100.0,14759.0,12553.0,6409.0,6561.0,6006.0,39324.0,12564.0,6136.0,28378.0,3662.0,10883.0,19542.0,18130.0,4123.0,3480.0,13265.0,10910.0,1358.0,7625.5,7721.0,4255.0,7625.5,13222.0,3152.0,2343.0,15658.0,24988.0,11544.0,6506.0,29027.0,1238.0,3727.0,10501.0,10440.0,1329.0,2471.0,5205.0,7175.0,3620.0,28020.0,1036.0,11483.0,10624.0,19498.0,10208.0,1182.0,7625.5,1126.0,11630.0,7767.0,4823.0,53127.85,11083.0,11942.0,7535.0,1016.0,11324.0,10309.0,2666.0,1495.0,28843.0,6805.0,4867.0,10693.0,10989.0,3807.0,7612.0,7753.0,5495.0,17234.0,5505.0,7625.5,13608.0,6569.0,11340.0,11925.0,5976.0,7625.5,24758.0,29396.0,15643.0,15015.0,11330.0,4460.0,4160.0,7625.5,24936.0,3609.0,17054.0,3290.0,10124.0,11119.0,2655.0,907.0,29898.0,4496.0,2868.0,10434.0,14381.0,7837.0,2634.0,12857.0,7914.0,7625.5,7625.5,10389.0,18186.0,11287.0,15317.0,11159.0,7625.5,4263.0,3179.0,7897.0,5323.0,10667.0,15860.0,7625.5,2368.0,4158.0,7625.5,7625.5,11264.0,11988.0,24712.0,2271.0,7952.0,6163.0,7625.5,6762.0,15292.0,7647.0,7625.5,24605.0,7276.0,5670.0,29883.0,11602.0,11618.0,6556.0,11861.0,10612.0,7625.5,10751.0,7625.5,7625.5,5484.0,14940.0,15514.0,7042.0,7625.5,10024.0,6556.0,3332.0,4735.0,11392.0,14150.0,7625.5,5966.0,29949.0,7625.5,24445.0,10058.0,11374.0,7625.5,7466.0,7625.5,2810.0,28072.0,13332.0,5093.0,10051.0,19645.0,16131.0,13619.0,1969.0,7625.5,10197.0,7625.5,10964.0,7625.5,5766.0,3093.0,3817.0,7625.5,7486.0,11793.0,7625.5,17073.0,2534.0,14210.0,19675.0,7625.5,11287.0,1146.0,6138.0,7266.0,4790.0,10299.0,7625.5,4482.0,2073.0,16788.0,11112.0,7625.5,5439.0,7625.5,7625.5,16555.0,11278.0,11892.0,10471.0,17292.0,3006.0,10408.0,19291.0,7625.5,4896.0,14097.0,13016.0,1506.0,10360.0,13567.0,11451.0,11162.0,12779.0,7625.5,10811.0,7625.5,6837.0,15916.0,10602.0,3032.0,7625.5,4740.0,7194.0,38701.0,7496.0,35.0,5513.0,7156.0,7622.0,7552.0,15409.0,7422.0,2273.0,7777.0,7625.5,4620.0,11528.0,1073.0,1550.0,13809.0,2843.0,1542.0,18632.0,4703.0,28131.0,4424.0,4917.0,28638.0,6601.0,6974.0,7625.5,38623.0,4907.0,4848.0,4249.0,12811.0,3792.0,10463.0,10196.0,18164.0,15907.0,10755.0,2239.0,5371.0,4157.0,3728.0,11281.0,18659.0,6797.0,15996.0,15307.0,4317.0,19601.0,2019.0,6129.0,7625.5,10693.0,4771.0,1110.0,11406.0,10733.0,7625.5,2183.0,59982.0,10792.0,11797.0,4562.0,6270.0,3620.0,5986.0,5379.0,11522.0,5611.0,12114.0,2532.0,6975.0,24224.0,10048.0,5932.0,17162.0,24496.0,19027.0,16475.0,11865.0,664.0,7625.5,10633.0,10324.0,7625.5,1945.0,12513.0,24345.0,11234.0,14647.0,1658.0,3832.0,6228.0,11766.0,11972.0,816.0,24384.0,6685.0,7625.5,24053.0,14606.0,13499.0,11096.0,3648.0,6517.0,10625.0,11016.0,1017.0,24294.0,3043.0,12651.0,6772.0,1138.0,4484.0,4561.0,7625.5,11683.0,4620.0,13277.0,19000.0,10817.0,10972.0,7625.5,7625.5,7625.5,2851.0,1783.0,10771.0,3661.0,19918.0,4240.0,5732.0,4845.0,16390.0,6550.0,10259.0,7625.5,3067.0,10806.0,15087.0,11662.0,7932.0,11075.0,2893.0,10338.0,12868.0,7625.5,7625.5,1667.0,5273.0,5040.0,10495.0,7212.0,10775.0,10344.0,461.0,5362.0,10783.0,3065.0,7618.0,4279.0,7952.0,3988.0,7880.0,18447.0,16496.0,2151.0,6453.0,15846.0,2691.0,7578.0,4024.0,14929.0,13553.0,2711.0,1926.0,7803.0,2542.0,5181.0,6786.0,10961.0,7625.5,3905.0,6453.0,17462.0,7067.0,5871.0,6585.0,11305.0,10278.0,14520.0,7625.5,16517.0,16618.0,13231.0,12505.0,13649.0,11079.0,2513.0,3925.0,11959.0,6528.0,11159.0,15968.0,7625.5,11891.0,7625.5,7311.0,10673.0,14273.0,10944.0,6870.0,12643.0,5786.0,13048.0,1585.0,2632.0,7625.5,5858.0,962.0,11671.0,10969.0,24714.0,11028.0,10312.0,18551.0,7625.5,1154.0,12358.0,7625.5,11109.0,11969.0,10010.0,2216.0,7625.5,7625.5,10737.0,17990.0,10952.0,4393.0,7945.0,2024.0,3560.0,3005.0,6206.0,13068.0,7625.5,6720.0,15743.0,4708.0,2698.0,3493.0,17092.0,11425.0,7625.5,13195.0,5143.0,1199.0,10422.0,14826.0,3808.0,7625.5,14979.0,3292.0,10925.0,1464.0,7625.5,24018.0,10563.0,16124.0,4080.0,10441.0,1431.0,11873.0,16817.0,1575.0,24118.0,1348.0,6516.0,14641.0,11054.0,4600.0,7030.0,7625.5,7625.5,28830.0,3872.0,1501.0,4824.0,7625.5,29944.0,28725.0,4392.0,4111.0,7207.0,11441.0,5870.0,5504.0,7625.5,6406.0,1788.0,7625.5,7625.5,7772.0,13970.0,53127.85,7625.5,7247.0,19877.0,11367.0,5696.0,4314.0,3221.0,2736.0,2971.0,7835.0,13278.0,10642.0,13549.0,39908.0,2076.0,3172.0,7625.5,1146.0,10973.0,7490.0,7645.0,10906.0,4222.0,2873.0,15426.0,38521.0,28906.0,12162.0,5561.0,7843.0,5844.0,5814.0,7422.0,12513.0,6065.0,7625.5,11805.0,7625.5,3284.0,6801.0,2443.0,15016.0,11352.0,29747.0,10658.0,10479.0,10708.0,11099.0,15623.0,1944.0,24624.0,7069.0,1412.0,14394.0,13238.0,24518.0,4904.0,3266.0,11372.0,24912.0,7625.5,4118.0,11296.0,17643.0,10440.0,2793.0,7611.0,13378.0,6893.0,7386.0,18357.0,10027.0,6764.0,6100.0,10904.0,5568.0,7391.0,7625.5,10226.0,6841.0,2036.0,3638.0,7625.5,2513.0,10916.0,15297.0,11308.0,3277.0,7593.0,6056.0,10069.0,10158.0,4441.0,12051.0,2508.0,10964.0,13185.0,38643.0,2789.0,12169.0,13079.0,1495.0,2752.0,19981.0,2063.0,5243.0,17671.0,7294.0,3289.0,10563.0,14748.0,7625.5,10194.0,6341.0,4159.0,10049.0,14753.0,7625.5,7625.5,1231.0,10331.0,11848.0,2755.0,10972.0,42528.0,14091.0,6225.0,6472.0,1818.0,19959.0,7625.5,1808.0,49101.0,4448.0,1518.0,11182.0,18064.0,5879.0,10018.0,3169.0,24898.0,10791.0,4267.0,5636.0,3450.0,10579.0,7625.5,38456.0,19846.0,7625.5,15790.0,15308.0,7079.0,2273.0,7625.5,11026.0,1429.0,11953.0,7387.0,7625.5,11233.0,15008.0,13496.0,6832.0,4468.0,3168.0,4857.0,17111.0,28938.0,29360.0,3280.0,16888.0,5848.0,13283.0,13156.0,7625.5,15209.0,11952.0,7315.0,24206.0,10340.0,63813.0,1934.0,7625.5,4373.0,3300.0,7465.0,1236.0,24297.0,3959.0,12646.0,2730.0,14950.0,4106.0,10949.0,3647.0,15821.0,7625.5,5746.0,7625.5,4155.0,7593.0,3238.0,38196.0,5971.0,7195.0,6043.0,10648.0,7082.0,5360.0,7625.5,10523.0,10690.0,17322.0,3458.0,11186.0,38872.0,2735.0,1417.0,12630.0,11440.0,6934.0,11246.0,11726.0,10067.0,5998.0,3363.0,29220.0,7572.0,5343.0,7625.5,5363.0,6039.0,39552.0,11389.0,10046.0,6742.0,6427.0,6800.0,3011.0,1968.0,2549.0,38989.0,15615.0,24389.0,7625.5,11455.0,5602.0,4042.0,11416.0,6996.0,10806.0,7625.5,18243.0,7625.5,5309.0,5709.0,10623.0,12346.0,13268.0,7625.5,10664.0,826.0,10181.0,4049.0,28289.0,11565.0,12240.0,17356.0,11307.0,7938.0,5019.0,7686.0,12018.0,11692.0,11573.0,10977.0,11794.0,3011.0,10029.0,7625.5,24410.0,7625.5,15639.0,5041.0,2843.0,28162.0,2969.0,4805.0,6872.0,10555.0,5547.0,19953.0,38935.0,15980.0,15635.0,6490.0,3919.0,6812.0,5066.0,11860.0,24860.0,5236.0,16172.0,13736.0,10880.0,11946.0,7625.5,10572.0,5162.0,11081.0,5857.0,7707.0,3119.0,14358.0,10341.0,6832.0,10360.0,5673.0,1486.0,14853.0,29024.0,24679.0,24374.0,3935.0,5327.0,7625.5,7625.5,3104.0,7251.0,6354.0,12307.0,5013.0,4396.0,7625.5,4584.0,11960.0,1857.0,7625.5,7553.0,3243.0,6588.0,2587.0,28430.0,4988.0,5454.0,6565.0,1987.0,7625.5,10511.0,7625.5,24865.0,24482.0,4355.0,11757.0,3907.0,59350.0,2489.0,7625.5,13686.0,19771.0,3128.0,28721.0,28807.0,11441.0,3677.0,18722.0,13194.0,12600.0,11572.0,5595.0,3864.0,14010.0,10777.0,7625.5,4604.0,11596.0,12694.0,2754.0,4726.0,1839.0,2352.0,19258.0,18674.0,3797.0,6554.0,7344.0,2881.0,10151.0,2916.0,7625.5,7625.5,15949.0,2882.0,12254.0,7720.0,7625.5,7625.5,5321.0,7625.5,11618.0,6455.0,12277.0,10228.0,11327.0,7625.5,7423.0,10994.0,24159.0,1802.0,2922.0,14102.0,766.0,38641.0,13777.0,12133.0,4984.0,28243.0,6863.0,14391.0,15046.0,10027.0,7197.0,11042.0,6182.0,7424.0,6026.0,15578.0,2924.0,7625.5,13525.0,4511.0,2038.0,932.0,4139.0,17937.0,5346.0,3277.0,1196.0,3144.0,7283.0,5652.0,10522.0,7102.0,6595.0,2762.0,3100.0,16422.0,10918.0,4775.0,3482.0,24934.0,15542.0,11749.0,3247.0,3003.0,11169.0,7625.5,7625.5,4183.0,4883.0,24671.0,1688.0,3621.0,3789.0,2046.0,29341.0,17221.0,7625.5,3955.0,7625.5,18866.0,13542.0,15541.0,11156.0,11222.0,11817.0,29483.0,39876.0,10586.0,7625.5,6515.0,3376.0,3846.0,4319.0,3890.0,1486.0,1445.0,24881.0,10414.0,18641.0,3388.0,2328.0,7625.5,13734.0,6265.0,5123.0,5805.0,15928.0,10793.0,11324.0,10126.0,13058.0,3867.0,979.0,17738.0,1477.0,19429.0,4879.0,18434.0,4525.0,11633.0,2981.0,13053.0,5261.0,7625.5,7625.5,28998.0,3351.0,11697.0,10928.0,10800.0,1538.0,1591.0,10595.0,97.0,7625.5,5334.0,5244.0,7908.0,7682.0,14898.0,11719.0,13014.0,6992.0,12414.0,3411.0,13932.0,11291.0,7625.5,7625.5,7625.5,2466.0,3225.0,2913.0,5271.0,12834.0,2631.0,10805.0,14892.0,729.0,10877.0,13103.0,2615.0,24331.0,7072.0,11065.0,2821.0,7603.0,3798.0,7625.5,3837.0,62577.0,7625.5,2002.0,4477.0,4606.0,5285.0,19390.0,5783.0,18965.0,10234.0,1233.0,14690.0,4151.0,10454.0,2252.0,2295.0,15609.0,7342.0,5950.0,11455.0,19103.0,1144.0,7625.5,3847.0,3337.0,3962.0,11692.0,7625.5,11275.0,15918.0,1706.0,11830.0,7625.5,10669.0,7625.5,24114.0,14278.0,1645.0,6466.0,7625.5,4446.0,24327.0,11876.0,3879.0,19063.0,7625.5,15919.0,2637.0,2814.0,5995.0,7625.5,5276.0,1807.0,7625.5,62309.0,7625.5,10163.0,7625.5,3168.0,2586.0,2155.0,2714.0,10906.0,17257.0,16558.0,6304.0,5573.0,10628.0,7694.0,11984.0,1761.0,18574.0,2553.0,7625.5,10220.0,5688.0,7879.0,7625.5,11122.0,11705.0,4873.0,6371.0,17624.0,3508.0,7625.5,11476.0,7625.5,11751.0,2886.0,7625.5,24571.0,4027.0,1370.0,2828.0,7625.5,1380.0,24695.0,2294.0,18831.0,39040.0,38776.0,1853.0,5416.0,6592.0,19364.0,10981.0,3198.0,16276.0,6305.0,18070.0,17156.0,7682.0,10050.0,7625.5,10324.0,7625.5,12648.0,11756.0,10917.0,5098.0,11107.0,5200.0,10252.0,19983.0,5043.0,11702.0,10354.0,10125.0,10607.0,1163.0,4068.0,3110.0,11481.0,11260.0,7072.0,5748.0,7314.0,10524.0,12822.0,7032.0,10221.0,7774.0,15629.0,11017.0,6275.0,7653.0,15822.0,7625.5,2180.0,5145.0,29239.0,7625.5,2519.0,4378.0,5406.0,1446.0,14320.0,6860.0,7625.5,29288.0,4118.0,5876.0,14307.0,10791.0,7625.5,2987.0,10308.0,7644.0,24202.0,11905.0,4998.0,7625.5,2617.0,24278.0,7625.5,11911.0,7625.5,4393.0,16964.0,15009.0,4004.0,7625.5,6977.0,7770.0,11779.0,10782.0,7303.0,10815.0,7625.5,7625.5,24960.0,24188.0,11491.0,7625.5,6769.0,7625.5,3716.0,4162.0,7625.5,2042.0,7625.5,4759.0,11006.0,18509.0,1290.0,2862.0,14766.0,39678.0,2972.0,3092.0,4599.0,10164.0,4371.0,1174.0,11005.0,3872.0,5501.0,10982.0,11908.0,7625.5,10231.0,11812.0,3417.0,13624.0,5272.0,53127.85,7625.5,11723.0,3647.0,11098.0,4777.0,1047.0,16989.0,11526.0,24986.0,4174.0,24183.0,15929.0,5505.0,1835.0,11661.0,7625.5,11727.0,14953.0,6543.0,29508.0,7625.5,2347.0,38436.0,6109.0,7625.5,10153.0,657.0,7317.0,6666.0,7625.5,6503.0,3370.0,4116.0,7375.0,39635.0,391.0,3009.0,5758.0,7625.5,7625.5,4684.0,10849.0,4710.0,13869.0,5467.0,7625.5,10842.0,10802.0,10733.0,7994.0,10719.0,3393.0,11791.0,14275.0,1832.0,2610.0,7764.0,13099.0,10703.0,1653.0,16740.0,14242.0,10242.0,7625.5,24437.0,24996.0,6511.0,4302.0,7625.5,4633.0,2362.0,13944.0,10673.0,7625.5,3391.0,10171.0,12369.0,18638.0,17108.0,14591.0,17628.0,2015.0,7591.0,7625.5,4864.0,18191.0,7625.5,7625.5,7187.0,7625.5,4740.0,60776.0,4716.0,6762.0,10965.0,39529.0,7625.5,1515.0,11786.0,11755.0,4633.0,7625.5,11169.0,7135.0,19049.0,19465.0,13375.0,5458.0,11927.0,4146.0,2038.0,28987.0,11119.0,1896.0,2734.0,2004.0,4893.0,7625.5,11066.0,11725.0,7625.5,7138.0,13763.0,7634.0,11564.0,4343.0,14560.0,6616.0,4202.0,15551.0,11966.0,5645.0,6470.0,3406.0,6110.0,2613.0,14031.0,7625.5,38336.0,7625.5,1799.0,5482.0,7625.5,13846.0,1611.0,6097.0,7912.0,11947.0,5909.0,3543.0,1220.0,11963.0,12169.0,5745.0,3599.0,10099.0,7625.5,53127.85,12783.0,17969.0,14827.0,5694.0,1560.0,11646.0,7625.5,11360.0,6737.0,7625.5,4744.0,2595.0,5634.0,190.0,1787.0,10980.0,7625.5,7625.5,2214.0,7625.5,7988.0,3260.0,10811.0,17948.0,10319.0,4405.0,11065.0,5722.0,10230.0,6494.0,7625.5,11620.0,13491.0,5498.0,13197.0,4907.0,3963.0,7625.5,1632.0,18260.0,6831.0,4466.0,7609.0,11132.0,6159.0,53127.85,1701.0,6749.0,7625.5,7625.5,4789.0,14377.0,3081.0,5805.0,4766.0,28437.0,38485.0,7713.0,11208.0,6870.0,15894.0,24019.0,11561.0,10619.0,24994.0,10609.0,7993.0,7625.5,3204.0,3866.0,5305.0,10864.0,11695.0,7705.0,2124.0,2202.0,10669.0,7625.5,10892.0,11482.0,10792.0,10747.0,10302.0,11379.0,7625.5,5226.0,24280.0,11367.0,5664.0,10408.0,17012.0,3348.0,7625.5,4926.0,7625.5,12080.0,5555.0,6502.0,15953.0,19280.0,3628.0,10746.0,3401.0,38853.0,3761.0,1267.0,2444.0,6223.0,7625.5,7625.5,5756.0,5696.0,2507.0,1617.0,6632.0,5460.0,2402.0,6261.0,7625.5,1289.0,7625.5,1325.0,3022.0,5894.0,4528.0,18860.0,7907.0,28814.0,4868.0,6839.0,3813.0,7625.5,4184.0,7419.0,7578.0,12534.0,10503.0,7387.0,10665.0,4159.0,11355.0,16061.0,10670.0,4814.0,7578.0,1821.0,6695.0,24814.0,14013.0,24126.0,15528.0,7625.5,6345.0,3171.0,15513.0,7625.5,7625.5,5948.0,4773.0,4021.0,3266.0,14344.0,7625.5,4103.0,7532.0,7625.5,11437.0,3498.0,3251.0,7452.0,10127.0,7625.5,7625.5,6534.0,6805.0,18698.0,17679.0,7625.5,11089.0,7625.5,4083.0,7625.5,1317.0,4641.0,6300.0,10343.0,3239.0,2442.0,2591.0,16624.0,7625.5,7625.5,10655.0,7625.5,12232.0,11685.0,5727.0,7625.5,12995.0,2253.0,7625.5,11672.0,1078.0,7860.0,12942.0,141.0,7625.5,7401.0,7625.5,7625.5,3251.0,10932.0,5295.0,7432.0,28235.0,7625.5,5920.0,39394.0,2511.0,10167.0,3102.0,886.0,2648.0,2095.0,4532.0,5125.0,5070.0,12086.0,29769.0,4145.0,7275.0,7625.5,2205.0,5408.0,10820.0,3872.0,14857.0,2623.0,2591.0,6400.0,10012.0,2212.0,16384.0,19284.0,24131.0,4819.0,6748.0,10640.0,28724.0,24678.0,7625.5,2254.0,2673.0,2156.0,4265.0,3614.0,11126.0,4329.0,7625.5,11361.0,7625.5,7337.0,2345.0,4868.0,11595.0,7625.5,24319.0,10347.0,6247.0,7245.0,7889.0,13457.0,3427.0,7625.5,13818.0,10061.0,7625.5,6492.0,7508.0,39092.0,18693.0,10715.0,10736.0,7625.5,7715.0,2718.0,7625.5,7034.0,11114.0,7513.0,6648.0,4168.0,14222.0,5992.0,2387.0,16122.0,11250.0,1966.0,4582.0,1330.0,17303.0,2753.0,7559.0,39529.0,5738.0,11975.0,5109.0,7625.5,14241.0,11383.0,7625.5,7625.5,28005.0,11710.0,7232.0,2042.0,7344.0,12367.0,7625.5,7625.5,11868.0,7530.0,1182.0,24059.0,2916.0,10315.0,5317.0,7625.5,7843.0,1489.0,11321.0,7625.5,11362.0,10422.0,12679.0,7625.5,3180.0,7625.5,11795.0,7625.5,1700.0,24605.0,1339.0,39904.0,4102.0,10853.0,10859.0,14320.0,5716.0,6722.0,19826.0,7625.5,7625.5,2795.0,2979.0,14465.0,1778.0,38939.0,17305.0,7625.5,6852.0,10143.0,3112.0,24370.0,7625.5,24092.0,4855.0,7625.5,1674.0,7625.5,4389.0,11216.0,14975.0,7625.5,24120.0,15694.0,3863.0,7604.0,4262.0,1504.0,4480.0,3887.0,2874.0,7625.5,7625.5,2215.0,19587.0,1001.0,16481.0,2313.0,7625.5,7625.5,7276.0,18931.0,6450.0,7434.0,7390.0,10606.0,5870.0,7625.5,5758.0,13313.0,4241.0,17213.0,11967.0,7625.5,5157.0,7956.0,4271.0,11868.0,19162.0,6199.0,24952.0,1376.0,5046.0,10490.0,11908.0,24314.0,7625.5,7625.5,18514.0,2411.0,24209.0,4462.0,10504.0,5814.0,15545.0,3243.0,14190.0,7625.5,1883.0,2354.0,7967.0,14743.0,4021.0,7625.5,2499.0,5398.0,6376.0,7625.5,6020.0,7625.5,7625.5,3455.0,10553.0,10096.0,7625.5,7625.5,7212.0,13405.0,53127.85,10576.0,1808.0,4612.0,13120.0,1129.0,1790.0,10766.0,6209.0,10519.0,15743.0,2941.0,7625.5,11272.0,7625.5,28928.0,3349.0,7625.5,17476.0,7177.0,7625.0,5377.0,29601.0,11541.0,11577.0,14173.0,24554.0,7625.5,24302.0,12966.0,15905.0,14662.0,15989.0,6392.0,15476.0,7625.5,6267.0,1634.0,7575.0,1131.0,3138.0,7954.0,11675.0,11072.0,10094.0,10788.0,16301.0,10370.0,7625.5,10163.0,5482.0,7625.5,1774.0,6955.0,1112.0,7625.5,6198.0,5213.0,12032.0,3786.0,7335.0,18997.0,1783.0,7625.5,4380.0,11421.0,6701.0,6574.0,16421.0,2500.0,7648.0,5968.0,5057.0,4456.0,6359.0,13866.0,7625.5,7625.5,7506.0,7625.5,6816.0,19338.0,3732.0,1816.0,3922.0,2499.0,5803.0,39068.0,4528.0,6734.0,10373.0,16614.0,6802.0,13016.0,5249.0,537.0,16039.0,2403.0,7625.5,4769.0,10294.0,10105.0,4909.0,19885.0,6835.0,10585.0,7625.5,7625.5,3631.0,6403.0,10056.0,7625.5,11780.0,19301.0,3091.0,24600.0,11413.0,13153.0,4862.0,2344.0,60444.0,7625.5,7273.0,7625.5,12543.0,5851.0,2952.0,4526.0,10321.0,13326.0,14832.0,7625.5,1284.0,11579.0,2353.0,6736.0,7625.5,7759.0,7116.0,24134.0,4546.0,10076.0,5879.0,3623.0,12838.0,5123.0,7833.0,54360.0,3905.0,726.0,29156.0,6394.0,1091.0,3330.0,10698.0,2364.0,5288.0,14446.0,3928.0,10675.0,10225.0,7625.5,7625.5,7866.0,7630.0,7625.5,7625.5,7139.0,10339.0,2060.0,10026.0,10470.0,4807.0,7625.5,4249.0,18397.0,6959.0,7974.0,24896.0,7625.5,4250.0,17844.0,3366.0,19080.0,2214.0,15552.0,10138.0,7625.5,17824.0,15118.0,3656.0,12731.0,3046.0,5988.0,7625.5,3742.0,11848.0,14352.0,4893.0,24942.0,2070.0,7625.5,13424.0,11730.0,6845.0,331.0,2525.0,4443.0,18977.0,13464.0,5809.0,7468.0,10032.0,38398.0,4347.0,10244.0,6736.0,7370.0,7625.5,14034.0,11579.0,5675.0,24073.0,40850.0,4286.0,7625.5,14392.0,7625.5,24208.0,5184.0,5319.0,11011.0,76.0,24982.0,11152.0,2231.0,7625.5,10226.0,10222.0,10321.0,2889.0,1852.0,3121.0,2993.0,18982.0,6791.0,7625.5,2457.0,3536.0,6828.0,10023.0,3024.0,475.0,1822.0,11403.0,16606.0,5901.0,7625.5,10795.0,24424.0,11674.0,7625.5,7625.5,3064.0,14151.0,10947.0,10476.0,5591.0,38069.0,4466.0,3884.0,5678.0,4351.0,10067.0,15510.0,10328.0,11416.0,6831.0,11880.0,17829.0,7625.5,6861.0,3833.0,53127.85,2408.0,29667.0,6292.0,4269.0,4841.0,4627.0,10420.0,39376.0,6622.0,6556.0,3307.0,10947.0,3755.0,7625.5,7419.0,5722.0,3689.0,4570.0,4483.0,5527.0,29568.0,38888.0,15879.0,13788.0,11794.0,14543.0,11617.0,7625.5,10945.0,6136.0,10364.0,1820.0,3317.0,53127.85,7625.5,39942.0,6384.0,11616.0,3862.0,5161.0,3545.0,7625.5,4952.0,5458.0,38544.0,11154.0,3521.0,18092.0,16883.0,7625.5,7625.5,2632.0,7625.5,3483.0,7625.5,4667.0,29195.0,7625.5,11012.0,3169.0,10676.0,38780.0,11231.0,1229.0,3444.0,11669.0,2393.0,13096.0,10022.0,10617.0,53127.85,10600.0,6526.0,11775.0,4496.0,11638.0,12400.0,11147.0,4402.0,11521.0,15201.0,10140.0,18010.0,16692.0,3590.0,6922.0,7625.5,2299.0,15602.0,7625.5,7382.0,10712.0,6490.0,4146.0,2176.0,39502.0,1725.0,1230.0,4352.0,6998.0,12241.0,11217.0,5788.0,19351.0,11959.0,2967.0,6524.0,7625.5,4990.0,3163.0,6070.0,1618.0,10291.0,3966.0,7625.5,5658.0,1576.0,14774.0,2221.0,6564.0,11093.0,19910.0,5291.0,7241.0,1693.0,5967.0,7211.0,3801.0,12080.0,7148.0,11228.0,1374.0,38418.0,4884.0,7625.5,29088.0,2384.0,7625.5,11125.0,10866.0,7625.5,4568.0,1971.0,4580.0,11545.0,7548.0,12560.0,17740.0,7664.0,7625.5,2390.0,3461.0,1811.0,14962.0,10900.0,10313.0,5144.0,39935.0,5531.0,53127.85,15025.0,13681.0,14576.0,5219.0,24497.0,5718.0,2024.0,1218.0,7625.5,10454.0,6435.0,7625.5,5366.0,5173.0,7792.0,10955.0,14520.0,3941.0,3195.0,7484.0,4482.0,7710.0,4703.0,13070.0,7641.0,1189.0,14937.0,7283.0,6981.0,2180.0,39511.0,7625.5,10041.0,7625.5,2224.0,53127.85,39299.0,7382.0,15104.0,24016.0,53127.85,14371.0,10017.0,3480.0,4250.0,3561.0,1871.0,3476.0,24976.0,3920.0,17139.0,3414.0,7625.5,11263.0,11887.0,15735.0,7625.5,10911.0,7625.5,11077.0,1106.0,10543.0,6106.0,7625.5,4426.0,7625.5,7625.5,6392.0,2407.0,7412.0,7625.5,11680.0,18746.0,6175.0,7625.5,3795.0,2158.0,3332.0,5281.0,7625.5,16610.0,10368.0,16547.0,3416.0,7625.5,7644.0,39364.0,7625.5,5240.0,5392.0,7625.5,7625.5,11984.0,2259.0,24014.0,53127.85,16708.0,15753.0,285.0,2593.0,6823.0,4320.0,11432.0,2838.0,29067.0,5106.0,15422.0,10500.0,10272.0,2315.0,13033.0,7625.5,5547.0,7440.0,17506.0,3122.0,10287.0,3128.0,6758.0,11754.0,2261.0,7625.5,3463.0,38885.0,7625.5,6651.0,3652.0,6000.0,7625.5,11272.0,12211.0,18193.0,2413.0,1444.0,24269.0,10173.0,2826.0,6143.0,13317.0,11801.0,5909.0,5979.0,39461.0,3635.0,12875.0,28342.0,28412.0,11429.0,11184.0,15186.0,5303.0,11667.0,2684.0,2234.0,4219.0,4998.0,2716.0,7625.5,38087.0,11920.0,18591.0,10114.0,15013.0,24830.0,5896.0,4136.0,7625.5,14176.0,1524.0,45045.0,10652.0,18041.0,2106.0,7625.5,6205.0,4359.0,6262.0,17180.0,7625.5,12030.0,2510.0,7565.0,10383.0,15570.0,2542.0,3925.0,7095.0,29161.0,5519.0,7625.5,6984.0,12269.0,7327.0,11596.0,3815.0,15924.0,3786.0,7625.5,6324.0,10122.0,7710.0,3282.0,7625.5,5678.0,2275.0,6990.0,6632.0,10426.0,1800.0,11076.0,10631.0,3548.0,1537.0,10181.0,7737.0,13359.0,6112.0,14023.0,4821.0,11641.0,18538.0,5119.0,7625.5,7625.5,10381.0,6285.0,14099.0,11796.0,17517.0,58362.0,15632.0,4732.0,4644.0,39899.0,18008.0,5677.0,7066.0,10389.0,4824.0,15929.0,7162.0,7625.5,4654.0,14779.0,11409.0,7625.5,2613.0,5065.0,11695.0,7625.5,6941.0,6345.0,3269.0,10848.0,16672.0,11148.0,10804.0,3739.0,5732.0,4734.0,7625.5,384.0,7982.0,1103.0,6578.0,28762.0,13080.0,12994.0,15708.0,10088.0,10837.0,7625.5,7625.5,7625.5,7625.5,1494.0,11080.0,10683.0,10142.0,11622.0,13095.0,10445.0,10697.0,7499.0,24970.0,7625.5,5044.0,19409.0,11056.0,5710.0,7625.5,4669.0,10088.0,18762.0,5905.0,10583.0,3744.0,4201.0,5536.0,4851.0,1921.0,2920.0,3835.0,14922.0,38702.0,6822.0,7625.5,5467.0,14769.0,4261.0,10019.0,3935.0,14915.0,28620.0,13045.0,7625.5,7625.5,29151.0,7319.0,3326.0,4337.0,10995.0,4432.0,14710.0,10210.0,28759.0,5077.0,24952.0,1382.0,5484.0,2281.0,7625.5,11196.0,4307.0,10991.0,14756.0,7800.0,7822.0,3789.0,5851.0,19037.0,5816.0,1494.0,6817.0,11600.0,4776.0,53127.85,11105.0,2142.0,12939.0,1921.0,11857.0,1496.0,28793.0,7625.5,11331.0,1922.0,1407.0,7625.5,15577.0,1835.0,15869.0,6366.0,13367.0,4078.0,1940.0,10563.0,1933.0,7625.5,15278.0,17558.0,3538.0,2951.0,4631.0,7553.0,4149.0,1160.0,3504.0,15353.0,6346.0,24931.0,1241.0,28599.0,1973.0,5602.0,17114.0,29392.0,3900.0,10879.0,6222.0,1601.0,2361.0,11383.0,10419.0,14725.0,4873.0,7625.5,53127.85,11776.0,38446.0,3313.0,6474.0,7957.0,10633.0,6490.0,7625.5,10443.0,7070.0,5664.0,12847.0,1422.0,6658.0,11375.0,4833.0,16912.0,7625.5,11196.0,24367.0,3080.0,4816.0,6891.0,5800.0,15726.0,14996.0,10913.0,53127.85,3913.0,15768.0,19627.0,2837.0,14187.0,2453.0,1406.0,24634.0,4865.0,13091.0,6304.0,5676.0,10638.0,4204.0,15824.0,5206.0,14751.0,11683.0,11695.0,18767.0,19240.0,10196.0,10845.0,4927.0,3555.0,38559.0,2004.0,1779.0,17771.0,13519.0,24291.0,15590.0,3737.0,7625.5,7625.5,13354.0,7625.5,6355.0,7625.5,14274.0,5529.0,7625.5,3218.0,14286.0,7660.0,7625.5,19658.0,4325.0,6464.0,2147.0,14132.0,10939.0,11678.0,1170.0,24427.0,625.0,4717.0,7625.5,7625.5,6216.0,7625.5,5114.0,13805.0,4631.0,19664.0,24712.0,7625.5,3900.0,7625.5,14919.0,4297.0,38865.0,7625.5,14351.0,3715.0,7886.0,7625.5,4744.0,10174.0,7863.0,14412.0,4890.0,7625.5,14277.0,6170.0,7625.5,3697.0,5034.0,17846.0,24845.0,1961.0,2036.0,4398.0,1472.0,2366.0,4808.0,10101.0,2939.0,7625.5,17435.0,5301.0,2834.0,4962.0,24518.0,10263.0,13267.0,1244.0,7795.0,10726.0,43212.0,5338.0,10765.0,17120.0,11009.0,24364.0,4186.0,10188.0,3562.0,5214.0,24340.0,11803.0,11300.0,11273.0,2459.0,29424.0,10011.0,1798.0,11699.0,7749.0,17620.0,4695.0,3397.0,5250.0,4869.0,2377.0,13624.0,4234.0,1185.0,5583.0,7625.5,626.0,7625.5,2789.0,4610.0,10691.0,15935.0,28385.0,5278.0,4318.0,2440.0,3509.0,6153.0,2880.0,55370.0,5952.0,6418.0,7625.5,15255.0,4260.0,7625.5,13922.0,10334.0,14913.0,10640.0,10900.0,14299.0,7625.5,7625.5,10748.0,10068.0,1385.0,5721.0,2315.0,11761.0,4074.0,5682.0,16534.0,7625.5,13398.0,12670.0,1487.0,7735.0,28470.0,11516.0,3982.0,10154.0,10059.0,6602.0,16841.0,5540.0,2104.0,7565.0,7625.5,1733.0,4842.0,11047.0,24611.0,4283.0,4955.0,2093.0,13288.0,4517.0,10171.0,10240.0,11662.0,4401.0,2385.0,2408.0,14176.0,3965.0,6457.0,3119.0,10471.0,3260.0,6140.0,3026.0,7625.5,17569.0,7080.0,24899.0,7625.5,3467.0,5649.0,7625.5,2089.0,15326.0,7625.5,1571.0,2958.0,10188.0,4360.0,3664.0,10032.0,7625.5,5108.0,1917.0,14608.0,14608.0,11676.0,53127.85,2659.0,53127.85,7846.0,7934.0,5291.0,11015.0,11952.0,10431.0,7625.5,1793.0,7625.5,18133.0,7718.0,11149.0,6659.0,3155.0,3818.0,10838.0,5578.0,4346.0,7625.5,7625.5,7625.5,11933.0,13155.0,2654.0,11055.0,24245.0,12963.0,2683.0,3939.0,5860.0,7625.5,13237.0,2078.0,11602.0,3576.0,7625.5,10919.0,11131.0,5501.0,1500.0,2492.0,14372.0,11322.0,12092.0,19848.0,4106.0,5616.0,5394.0,24645.0,5621.0,7662.0,7865.0,10865.0,1266.0,19322.0,2049.0,24686.0,7625.5,7805.0,6285.0,24379.0,6879.0,7625.5,3543.0,1143.0,7625.5,4287.0,12399.0,10841.0,7625.5,15313.0,3593.0,24275.0,7625.5,7625.5,7625.5,17735.0,3127.0,7625.5,4950.0,7625.5,11843.0,7625.5,10709.0,13523.0,7625.5,7625.5,3181.0,4194.0,10812.0,28802.0,6787.0,2027.0,2631.0,11395.0,2594.0,11915.0,1652.0,6529.0,29013.0,19589.0,7625.5,11476.0,13889.0,4404.0,15564.0,11298.0,2405.0,6961.0,10675.0,1209.0,7625.5,2224.0,28694.0,6713.0,7129.0,5407.0,38944.0,3986.0,7629.0,7625.5,4833.0,38723.0,6709.0,24311.0,11964.0,7625.5,6815.0,7625.5,19494.0,7625.5,2470.0,1535.0,3458.0,2809.0,10591.0,7365.0,6144.0,4672.0,3434.0,13206.0,12777.0,24104.0,12577.0,16002.0,53127.85,5247.0,13858.0,10754.0,12776.0,5423.0,5211.0,11729.0,11159.0,15553.0,3534.0,1758.0,19332.0,7625.5,11128.0,24666.0,7625.5,24249.0,5070.0,3977.0,24424.0,3790.0,11548.0,24245.0,3079.0,5545.0,6808.0,6810.0,29408.0,11096.0,10683.0,3649.0,10251.0,11009.0,7625.5,5936.0,16642.0,6021.0,6693.0,7625.5,4723.0,7625.5,13730.0,53127.85,7712.0,7205.0,7609.0,5044.0,16027.0,10068.0,7625.5,7625.5,10061.0,7324.0,7479.0,6315.0,11289.0,7625.5,10134.0,53012.0,2632.0,7625.5,7625.5,6836.0,7569.0,7602.0,7625.5,2260.0,7625.5,15344.0,7625.5,6635.0,7625.5,7625.5,4197.0,3632.0,13203.0,7625.5,11851.0,6752.0,14604.0,38592.0,7625.5,15168.0,2302.0,7625.5,19184.0,4231.0,11344.0,15363.0,2573.0,10892.0,7397.0,6384.0,7625.5,11949.0,10702.0,10165.0,3166.0,11799.0,7625.5,14787.0,15720.0,2541.0,11994.0,7625.5,4230.0,6382.0,19796.0,16504.0,5564.0,17507.0,2571.0,7625.5,7625.5,6433.0,3487.0,7625.5,1367.0,16534.0,13450.0,17516.0,3028.0,7470.0,7625.5,19992.0,17011.0,7357.0,6415.0,7625.5,1344.0,10863.0,14968.0,1552.0,7785.0,4300.0,3555.0,5622.0,1320.0,14175.0,15296.0,15907.0,7625.5,10685.0,3461.0,5311.0,14005.0,3327.0,11731.0,10028.0,7625.5,6905.0,4443.0,1077.0,5108.0,7625.5,4272.0,10441.0,13541.0,7087.0,10052.0,24630.0,6845.0,6159.0,1053.0,7625.5,6842.0,2298.0,4827.0,5045.0,18550.0,5896.0,4147.0,4898.0,11663.0,12900.0,28735.0,7625.5,2861.0,7287.0,7625.5,4796.0,5175.0,7625.5,6468.0,7625.5,7625.5,10836.0,12501.0,10853.0,7778.0,11312.0,7625.5,2915.0,18750.0,6035.0,5131.0,7625.5,24081.0,6250.0,11714.0,6037.0,7625.5,3440.0,11911.0,7625.5,7405.0,15457.0,19023.0,4053.0,4403.0,3810.0,13271.0,7938.0,7625.5,5458.0,1466.0,6103.0,11487.0,13471.0,4225.0,7625.5,5067.0,19118.0,13776.0,14941.0,7625.5,14356.0,7625.5,7962.0,14734.0,4251.0,11446.0,2564.0,29968.0,16757.0,13454.0,6092.0,2233.0,1186.0,7625.5,7625.5,1681.0,19014.0,7846.0,4295.0,6078.0,17012.0,6881.0,3571.0,5935.0,5302.0,10517.0,18809.0,2157.0,11760.0,7625.5,7625.5,7625.5,51.0,3985.0,7625.5,10557.0,11263.0,38930.0,12330.0,5148.0,14677.0,2814.0,12450.0,6834.0,7625.5,7646.0,6872.0,6050.0,15765.0,7625.5,4497.0,11021.0,11159.0,7426.0,18282.0,10719.0,15257.0,4190.0,11390.0,7625.5,7625.5,16298.0,3583.0,11962.0,7131.0,14655.0,7625.5,6246.0,11452.0,11512.0,6292.0,12969.0,12012.0,14553.0,1578.0,5687.0,11313.0,24337.0,3747.0,2289.0,7625.5,7942.0,12567.0,2545.0,10128.0,7625.5,11587.0,4935.0,10165.0,12425.0,12215.0,2185.0,2423.0,7625.5,1182.0,6875.0,7625.5,10801.0,11477.0,4384.0,10878.0,5925.0,4781.0,11239.0,2688.0,5673.0,7625.5,38848.0,14670.0,11403.0,4137.0,62001.0,7625.5,24963.0,7625.5,7625.5,18402.0,6641.0,24543.0,2348.0,4329.0,3758.0,19607.0,989.0,3079.0],\"yaxis\":\"y\",\"type\":\"scattergl\"}],                        {\"template\":{\"data\":{\"histogram2dcontour\":[{\"type\":\"histogram2dcontour\",\"colorbar\":{\"outlinewidth\":0,\"ticks\":\"\"},\"colorscale\":[[0.0,\"#0d0887\"],[0.1111111111111111,\"#46039f\"],[0.2222222222222222,\"#7201a8\"],[0.3333333333333333,\"#9c179e\"],[0.4444444444444444,\"#bd3786\"],[0.5555555555555556,\"#d8576b\"],[0.6666666666666666,\"#ed7953\"],[0.7777777777777778,\"#fb9f3a\"],[0.8888888888888888,\"#fdca26\"],[1.0,\"#f0f921\"]]}],\"choropleth\":[{\"type\":\"choropleth\",\"colorbar\":{\"outlinewidth\":0,\"ticks\":\"\"}}],\"histogram2d\":[{\"type\":\"histogram2d\",\"colorbar\":{\"outlinewidth\":0,\"ticks\":\"\"},\"colorscale\":[[0.0,\"#0d0887\"],[0.1111111111111111,\"#46039f\"],[0.2222222222222222,\"#7201a8\"],[0.3333333333333333,\"#9c179e\"],[0.4444444444444444,\"#bd3786\"],[0.5555555555555556,\"#d8576b\"],[0.6666666666666666,\"#ed7953\"],[0.7777777777777778,\"#fb9f3a\"],[0.8888888888888888,\"#fdca26\"],[1.0,\"#f0f921\"]]}],\"heatmap\":[{\"type\":\"heatmap\",\"colorbar\":{\"outlinewidth\":0,\"ticks\":\"\"},\"colorscale\":[[0.0,\"#0d0887\"],[0.1111111111111111,\"#46039f\"],[0.2222222222222222,\"#7201a8\"],[0.3333333333333333,\"#9c179e\"],[0.4444444444444444,\"#bd3786\"],[0.5555555555555556,\"#d8576b\"],[0.6666666666666666,\"#ed7953\"],[0.7777777777777778,\"#fb9f3a\"],[0.8888888888888888,\"#fdca26\"],[1.0,\"#f0f921\"]]}],\"heatmapgl\":[{\"type\":\"heatmapgl\",\"colorbar\":{\"outlinewidth\":0,\"ticks\":\"\"},\"colorscale\":[[0.0,\"#0d0887\"],[0.1111111111111111,\"#46039f\"],[0.2222222222222222,\"#7201a8\"],[0.3333333333333333,\"#9c179e\"],[0.4444444444444444,\"#bd3786\"],[0.5555555555555556,\"#d8576b\"],[0.6666666666666666,\"#ed7953\"],[0.7777777777777778,\"#fb9f3a\"],[0.8888888888888888,\"#fdca26\"],[1.0,\"#f0f921\"]]}],\"contourcarpet\":[{\"type\":\"contourcarpet\",\"colorbar\":{\"outlinewidth\":0,\"ticks\":\"\"}}],\"contour\":[{\"type\":\"contour\",\"colorbar\":{\"outlinewidth\":0,\"ticks\":\"\"},\"colorscale\":[[0.0,\"#0d0887\"],[0.1111111111111111,\"#46039f\"],[0.2222222222222222,\"#7201a8\"],[0.3333333333333333,\"#9c179e\"],[0.4444444444444444,\"#bd3786\"],[0.5555555555555556,\"#d8576b\"],[0.6666666666666666,\"#ed7953\"],[0.7777777777777778,\"#fb9f3a\"],[0.8888888888888888,\"#fdca26\"],[1.0,\"#f0f921\"]]}],\"surface\":[{\"type\":\"surface\",\"colorbar\":{\"outlinewidth\":0,\"ticks\":\"\"},\"colorscale\":[[0.0,\"#0d0887\"],[0.1111111111111111,\"#46039f\"],[0.2222222222222222,\"#7201a8\"],[0.3333333333333333,\"#9c179e\"],[0.4444444444444444,\"#bd3786\"],[0.5555555555555556,\"#d8576b\"],[0.6666666666666666,\"#ed7953\"],[0.7777777777777778,\"#fb9f3a\"],[0.8888888888888888,\"#fdca26\"],[1.0,\"#f0f921\"]]}],\"mesh3d\":[{\"type\":\"mesh3d\",\"colorbar\":{\"outlinewidth\":0,\"ticks\":\"\"}}],\"scatter\":[{\"fillpattern\":{\"fillmode\":\"overlay\",\"size\":10,\"solidity\":0.2},\"type\":\"scatter\"}],\"parcoords\":[{\"type\":\"parcoords\",\"line\":{\"colorbar\":{\"outlinewidth\":0,\"ticks\":\"\"}}}],\"scatterpolargl\":[{\"type\":\"scatterpolargl\",\"marker\":{\"colorbar\":{\"outlinewidth\":0,\"ticks\":\"\"}}}],\"bar\":[{\"error_x\":{\"color\":\"#2a3f5f\"},\"error_y\":{\"color\":\"#2a3f5f\"},\"marker\":{\"line\":{\"color\":\"#E5ECF6\",\"width\":0.5},\"pattern\":{\"fillmode\":\"overlay\",\"size\":10,\"solidity\":0.2}},\"type\":\"bar\"}],\"scattergeo\":[{\"type\":\"scattergeo\",\"marker\":{\"colorbar\":{\"outlinewidth\":0,\"ticks\":\"\"}}}],\"scatterpolar\":[{\"type\":\"scatterpolar\",\"marker\":{\"colorbar\":{\"outlinewidth\":0,\"ticks\":\"\"}}}],\"histogram\":[{\"marker\":{\"pattern\":{\"fillmode\":\"overlay\",\"size\":10,\"solidity\":0.2}},\"type\":\"histogram\"}],\"scattergl\":[{\"type\":\"scattergl\",\"marker\":{\"colorbar\":{\"outlinewidth\":0,\"ticks\":\"\"}}}],\"scatter3d\":[{\"type\":\"scatter3d\",\"line\":{\"colorbar\":{\"outlinewidth\":0,\"ticks\":\"\"}},\"marker\":{\"colorbar\":{\"outlinewidth\":0,\"ticks\":\"\"}}}],\"scattermapbox\":[{\"type\":\"scattermapbox\",\"marker\":{\"colorbar\":{\"outlinewidth\":0,\"ticks\":\"\"}}}],\"scatterternary\":[{\"type\":\"scatterternary\",\"marker\":{\"colorbar\":{\"outlinewidth\":0,\"ticks\":\"\"}}}],\"scattercarpet\":[{\"type\":\"scattercarpet\",\"marker\":{\"colorbar\":{\"outlinewidth\":0,\"ticks\":\"\"}}}],\"carpet\":[{\"aaxis\":{\"endlinecolor\":\"#2a3f5f\",\"gridcolor\":\"white\",\"linecolor\":\"white\",\"minorgridcolor\":\"white\",\"startlinecolor\":\"#2a3f5f\"},\"baxis\":{\"endlinecolor\":\"#2a3f5f\",\"gridcolor\":\"white\",\"linecolor\":\"white\",\"minorgridcolor\":\"white\",\"startlinecolor\":\"#2a3f5f\"},\"type\":\"carpet\"}],\"table\":[{\"cells\":{\"fill\":{\"color\":\"#EBF0F8\"},\"line\":{\"color\":\"white\"}},\"header\":{\"fill\":{\"color\":\"#C8D4E3\"},\"line\":{\"color\":\"white\"}},\"type\":\"table\"}],\"barpolar\":[{\"marker\":{\"line\":{\"color\":\"#E5ECF6\",\"width\":0.5},\"pattern\":{\"fillmode\":\"overlay\",\"size\":10,\"solidity\":0.2}},\"type\":\"barpolar\"}],\"pie\":[{\"automargin\":true,\"type\":\"pie\"}]},\"layout\":{\"autotypenumbers\":\"strict\",\"colorway\":[\"#636efa\",\"#EF553B\",\"#00cc96\",\"#ab63fa\",\"#FFA15A\",\"#19d3f3\",\"#FF6692\",\"#B6E880\",\"#FF97FF\",\"#FECB52\"],\"font\":{\"color\":\"#2a3f5f\"},\"hovermode\":\"closest\",\"hoverlabel\":{\"align\":\"left\"},\"paper_bgcolor\":\"white\",\"plot_bgcolor\":\"#E5ECF6\",\"polar\":{\"bgcolor\":\"#E5ECF6\",\"angularaxis\":{\"gridcolor\":\"white\",\"linecolor\":\"white\",\"ticks\":\"\"},\"radialaxis\":{\"gridcolor\":\"white\",\"linecolor\":\"white\",\"ticks\":\"\"}},\"ternary\":{\"bgcolor\":\"#E5ECF6\",\"aaxis\":{\"gridcolor\":\"white\",\"linecolor\":\"white\",\"ticks\":\"\"},\"baxis\":{\"gridcolor\":\"white\",\"linecolor\":\"white\",\"ticks\":\"\"},\"caxis\":{\"gridcolor\":\"white\",\"linecolor\":\"white\",\"ticks\":\"\"}},\"coloraxis\":{\"colorbar\":{\"outlinewidth\":0,\"ticks\":\"\"}},\"colorscale\":{\"sequential\":[[0.0,\"#0d0887\"],[0.1111111111111111,\"#46039f\"],[0.2222222222222222,\"#7201a8\"],[0.3333333333333333,\"#9c179e\"],[0.4444444444444444,\"#bd3786\"],[0.5555555555555556,\"#d8576b\"],[0.6666666666666666,\"#ed7953\"],[0.7777777777777778,\"#fb9f3a\"],[0.8888888888888888,\"#fdca26\"],[1.0,\"#f0f921\"]],\"sequentialminus\":[[0.0,\"#0d0887\"],[0.1111111111111111,\"#46039f\"],[0.2222222222222222,\"#7201a8\"],[0.3333333333333333,\"#9c179e\"],[0.4444444444444444,\"#bd3786\"],[0.5555555555555556,\"#d8576b\"],[0.6666666666666666,\"#ed7953\"],[0.7777777777777778,\"#fb9f3a\"],[0.8888888888888888,\"#fdca26\"],[1.0,\"#f0f921\"]],\"diverging\":[[0,\"#8e0152\"],[0.1,\"#c51b7d\"],[0.2,\"#de77ae\"],[0.3,\"#f1b6da\"],[0.4,\"#fde0ef\"],[0.5,\"#f7f7f7\"],[0.6,\"#e6f5d0\"],[0.7,\"#b8e186\"],[0.8,\"#7fbc41\"],[0.9,\"#4d9221\"],[1,\"#276419\"]]},\"xaxis\":{\"gridcolor\":\"white\",\"linecolor\":\"white\",\"ticks\":\"\",\"title\":{\"standoff\":15},\"zerolinecolor\":\"white\",\"automargin\":true,\"zerolinewidth\":2},\"yaxis\":{\"gridcolor\":\"white\",\"linecolor\":\"white\",\"ticks\":\"\",\"title\":{\"standoff\":15},\"zerolinecolor\":\"white\",\"automargin\":true,\"zerolinewidth\":2},\"scene\":{\"xaxis\":{\"backgroundcolor\":\"#E5ECF6\",\"gridcolor\":\"white\",\"linecolor\":\"white\",\"showbackground\":true,\"ticks\":\"\",\"zerolinecolor\":\"white\",\"gridwidth\":2},\"yaxis\":{\"backgroundcolor\":\"#E5ECF6\",\"gridcolor\":\"white\",\"linecolor\":\"white\",\"showbackground\":true,\"ticks\":\"\",\"zerolinecolor\":\"white\",\"gridwidth\":2},\"zaxis\":{\"backgroundcolor\":\"#E5ECF6\",\"gridcolor\":\"white\",\"linecolor\":\"white\",\"showbackground\":true,\"ticks\":\"\",\"zerolinecolor\":\"white\",\"gridwidth\":2}},\"shapedefaults\":{\"line\":{\"color\":\"#2a3f5f\"}},\"annotationdefaults\":{\"arrowcolor\":\"#2a3f5f\",\"arrowhead\":0,\"arrowwidth\":1},\"geo\":{\"bgcolor\":\"white\",\"landcolor\":\"#E5ECF6\",\"subunitcolor\":\"white\",\"showland\":true,\"showlakes\":true,\"lakecolor\":\"white\"},\"title\":{\"x\":0.05},\"mapbox\":{\"style\":\"light\"}}},\"xaxis\":{\"anchor\":\"y\",\"domain\":[0.0,1.0],\"title\":{\"text\":\"IDADE\"}},\"yaxis\":{\"anchor\":\"x\",\"domain\":[0.0,1.0],\"title\":{\"text\":\"SALARIO\"}},\"legend\":{\"tracegroupgap\":0},\"title\":{\"text\":\"Dispers\\u00e3o de Sal\\u00e1rio por Idade\"}},                        {\"responsive\": true}                    ).then(function(){\n",
              "                            \n",
              "var gd = document.getElementById('9df663cf-473a-4387-a3bb-bd08f1fab4f0');\n",
              "var x = new MutationObserver(function (mutations, observer) {{\n",
              "        var display = window.getComputedStyle(gd).display;\n",
              "        if (!display || display === 'none') {{\n",
              "            console.log([gd, 'removed!']);\n",
              "            Plotly.purge(gd);\n",
              "            observer.disconnect();\n",
              "        }}\n",
              "}});\n",
              "\n",
              "// Listen for the removal of the full notebook cells\n",
              "var notebookContainer = gd.closest('#notebook-container');\n",
              "if (notebookContainer) {{\n",
              "    x.observe(notebookContainer, {childList: true});\n",
              "}}\n",
              "\n",
              "// Listen for the clearing of the current output cell\n",
              "var outputEl = gd.closest('.output');\n",
              "if (outputEl) {{\n",
              "    x.observe(outputEl, {childList: true});\n",
              "}}\n",
              "\n",
              "                        })                };                            </script>        </div>\n",
              "</body>\n",
              "</html>"
            ]
          },
          "metadata": {}
        }
      ]
    },
    {
      "cell_type": "code",
      "source": [],
      "metadata": {
        "id": "mrt-UCGWJw_b"
      },
      "execution_count": null,
      "outputs": []
    }
  ]
}